{
 "cells": [
  {
   "cell_type": "markdown",
   "metadata": {},
   "source": [
    "# Training\n",
    "\n",
    "- Use this notebook after you've built your dataset to train the model.\n",
    "- Training will create a model directory with:\n",
    "    - **`model_0000XXX.pth`**: weights that are regularly saved during training\n",
    "    - **`config.yaml`**: the model configuration used during the last training performed.\n",
    "    - **`training.log`**: a log file that contains all the logs displayed in the notebook during training (useful if you close your notebook during a long training session)."
   ]
  },
  {
   "cell_type": "code",
   "execution_count": 1,
   "metadata": {},
   "outputs": [
    {
     "name": "stdout",
     "output_type": "stream",
     "text": [
      "env: CUDA_VISIBLE_DEVICES=0\n"
     ]
    }
   ],
   "source": [
    "%env CUDA_VISIBLE_DEVICES=0\n",
    "%load_ext autoreload\n",
    "%autoreload 2\n",
    "%matplotlib inline\n",
    "\n",
    "from pathlib import Path\n",
    "import logging\n",
    "\n",
    "import matplotlib.pyplot as plt\n",
    "import numpy as np\n",
    "\n",
    "import sys; sys.path.append(\"../\")\n",
    "import maskflow\n",
    "\n",
    "root_dir = Path(\"/home/hadim/.data/Neural_Network/Maskflow/Nucleus\")\n",
    "data_dir = root_dir / \"Data\"\n",
    "model_dir = root_dir / \"Models\"\n",
    "model_dir.mkdir(exist_ok=True)\n",
    "\n",
    "# Import the configuration associated with this dataset and network.\n",
    "config = maskflow.config.load_config(root_dir / \"config.yaml\")"
   ]
  },
  {
   "cell_type": "markdown",
   "metadata": {},
   "source": [
    "## Check Dataset"
   ]
  },
  {
   "cell_type": "code",
   "execution_count": 2,
   "metadata": {},
   "outputs": [
    {
     "name": "stdout",
     "output_type": "stream",
     "text": [
      "loading annotations into memory...\n",
      "Done (t=0.36s)\n",
      "creating index...\n",
      "index created!\n"
     ]
    },
    {
     "data": {
      "image/png": "[encoded data removed]",
      "text/plain": [
       "<Figure size 1008x216 with 4 Axes>"
      ]
     },
     "metadata": {
      "needs_background": "light"
     },
     "output_type": "display_data"
    }
   ],
   "source": [
    "config['SOLVER']['IMS_PER_BATCH'] = 1\n",
    "n_batch = 1\n",
    "\n",
    "# Load some data\n",
    "data_loader = maskflow.dataset.get_data_loader(config, data_dir, is_train=True)\n",
    "some_data = [iter(data_loader).next() for _ in range(n_batch)]\n",
    "\n",
    "# Retrieve category's names\n",
    "categories = data_loader.dataset.coco.cats\n",
    "\n",
    "for batch_image, batch_target, batch_idx in some_data:\n",
    "    maskflow.viz.batch_display_top_masks(batch_image, batch_target, batch_idx, categories,\n",
    "                                         basesize=14, limit=3, cmap=\"PuBu_r\",\n",
    "                                         pixel_mean=config['INPUT']['PIXEL_MEAN'],\n",
    "                                         pixel_std=config['INPUT']['PIXEL_STD'])"
   ]
  },
  {
   "cell_type": "markdown",
   "metadata": {},
   "source": [
    "## Training"
   ]
  },
  {
   "cell_type": "code",
   "execution_count": 3,
   "metadata": {},
   "outputs": [],
   "source": [
    "# Configure the training\n",
    "config['DATA_DIR'] = str(data_dir)\n",
    "\n",
    "config['MODEL']['DEVICE'] = \"cuda\"\n",
    "\n",
    "config['DATALOADER']['NUM_WORKERS'] = 4\n",
    "config['SOLVER']['IMS_PER_BATCH'] = 1\n",
    "\n",
    "# Disable those settings if you want to use the training\n",
    "# parameters from your config file.\n",
    "custom_training = False\n",
    "if custom_training:\n",
    "    config['SOLVER']['MAX_ITER'] = 5000\n",
    "    config['SOLVER']['BASE_LR'] = 0.0025\n",
    "    config['SOLVER']['STEPS'] = [3500, 4500]\n",
    "    config['SOLVER']['CHECKPOINT_PERIOD'] = 1000\n",
    "    config['SOLVER']['WARMUP_ITERS'] = 50\n",
    "\n",
    "#config['SOLVER']"
   ]
  },
  {
   "cell_type": "code",
   "execution_count": 4,
   "metadata": {},
   "outputs": [
    {
     "name": "stderr",
     "output_type": "stream",
     "text": [
      "2018-11-07 14:08:36,333:INFO:root: Training model directory set: /home/hadim/.data/Neural_Network/Maskflow/Nucleus/Models/2018.11.07-14:08:36\n",
      "2018-11-07 14:08:36,334:INFO:root: Building the model...\n",
      "2018-11-07 14:08:38,961:INFO:root: Use pretrained weights from https://download.pytorch.org/models/maskrcnn/e2e_mask_rcnn_R_50_FPN_1x.pth\n",
      "2018-11-07 14:08:39,273:INFO:maskrcnn_benchmark.utils.checkpoint: No checkpoint found. Initializing model from scratch\n",
      "2018-11-07 14:08:39,275:INFO:maskrcnn_benchmark.utils.checkpoint: Saving checkpoint to /home/hadim/.data/Neural_Network/Maskflow/Nucleus/Models/2018.11.07-14:08:36/model_0000000.pth\n",
      "2018-11-07 14:08:39,440:INFO:root: Create the data loader.\n"
     ]
    },
    {
     "name": "stdout",
     "output_type": "stream",
     "text": [
      "loading annotations into memory...\n"
     ]
    },
    {
     "name": "stderr",
     "output_type": "stream",
     "text": [
      "2018-11-07 14:08:39,861:INFO:root: Model ready to be trained.\n"
     ]
    },
    {
     "name": "stdout",
     "output_type": "stream",
     "text": [
      "Done (t=0.39s)\n",
      "creating index...\n",
      "index created!\n"
     ]
    }
   ],
   "source": [
    "# Setup training\n",
    "\n",
    "# Use the last model in the model dir\n",
    "# If False, create a new model from scratch.\n",
    "# If `model_to_use` is set, we use this one instead.\n",
    "\n",
    "builder_args = {}\n",
    "builder_args['config'] = config\n",
    "builder_args['model_dir'] = model_dir\n",
    "builder_args['use_last_model'] = False\n",
    "builder_args['model_to_use'] = None\n",
    "builder_args['use_pretrained_weights'] = True\n",
    "\n",
    "training_args = maskflow.training.build_model(**builder_args)"
   ]
  },
  {
   "cell_type": "code",
   "execution_count": null,
   "metadata": {},
   "outputs": [
    {
     "name": "stderr",
     "output_type": "stream",
     "text": [
      "2018-11-07 14:08:39,894:INFO:maskfow.training: Start training at iteration 0\n",
      "2018-11-07 14:08:40,021:INFO:maskfow.training: tensorboard --logdir /home/hadim/.data/Neural_Network/Maskflow/Nucleus/Models/2018.11.07-14:08:36/logs\n",
      "2018-11-07 14:08:40,022:INFO:maskfow.training: Training will stop at 3000\n",
      "2018-11-07 14:08:40,818:INFO:maskfow.training: Step: 0 | Loss: 7.232995 | ETA: 0:32:06 | LR: 0.000825 | Memory: 929 MB\n",
      "2018-11-07 14:08:51,251:INFO:maskfow.training: Step: 20 | Loss: 1.960209 | ETA: 0:26:10 | LR: 0.001495 | Memory: 1555 MB\n",
      "2018-11-07 14:09:02,973:INFO:maskfow.training: Step: 40 | Loss: 1.019217 | ETA: 0:27:26 | LR: 0.002165 | Memory: 1556 MB\n",
      "2018-11-07 14:09:13,633:INFO:maskfow.training: Step: 60 | Loss: 0.858040 | ETA: 0:26:53 | LR: 0.002500 | Memory: 1556 MB\n",
      "2018-11-07 14:09:24,700:INFO:maskfow.training: Step: 80 | Loss: 0.343330 | ETA: 0:26:44 | LR: 0.002500 | Memory: 1556 MB\n",
      "2018-11-07 14:09:36,562:INFO:maskfow.training: Step: 100 | Loss: 1.301715 | ETA: 0:26:58 | LR: 0.002500 | Memory: 1556 MB\n",
      "2018-11-07 14:09:47,752:INFO:maskfow.training: Step: 120 | Loss: 1.016554 | ETA: 0:26:48 | LR: 0.002500 | Memory: 1556 MB\n",
      "2018-11-07 14:09:58,508:INFO:maskfow.training: Step: 140 | Loss: 1.062592 | ETA: 0:26:28 | LR: 0.002500 | Memory: 1556 MB\n",
      "2018-11-07 14:10:10,647:INFO:maskfow.training: Step: 160 | Loss: 0.971115 | ETA: 0:26:36 | LR: 0.002500 | Memory: 1556 MB\n",
      "2018-11-07 14:10:21,524:INFO:maskfow.training: Step: 180 | Loss: 0.938965 | ETA: 0:26:19 | LR: 0.002500 | Memory: 1556 MB\n"
     ]
    }
   ],
   "source": [
    "# Run training\n",
    "\n",
    "training_args['log_period'] = 20\n",
    "training_args['log_losses_detailed'] = False\n",
    "training_args['save_metrics'] = True\n",
    "training_args['tensorboard'] = True\n",
    "\n",
    "maskflow.training.do_train(**training_args)"
   ]
  },
  {
   "cell_type": "code",
   "execution_count": null,
   "metadata": {},
   "outputs": [],
   "source": []
  }
 ],
 "metadata": {
  "kernelspec": {
   "display_name": "Python [conda env:nn]",
   "language": "python",
   "name": "conda-env-nn-py"
  },
  "language_info": {
   "codemirror_mode": {
    "name": "ipython",
    "version": 3
   },
   "file_extension": ".py",
   "mimetype": "text/x-python",
   "name": "python",
   "nbconvert_exporter": "python",
   "pygments_lexer": "ipython3",
   "version": "3.6.6"
  }
 },
 "nbformat": 4,
 "nbformat_minor": 2
}
