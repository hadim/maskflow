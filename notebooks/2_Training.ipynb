{
 "cells": [
  {
   "cell_type": "markdown",
   "metadata": {},
   "source": [
    "# Training"
   ]
  },
  {
   "cell_type": "code",
   "execution_count": 1,
   "metadata": {},
   "outputs": [
    {
     "name": "stdout",
     "output_type": "stream",
     "text": [
      "env: CUDA_VISIBLE_DEVICES=0\n",
      "env: CUDA_LAUNCH_BLOCKING=1\n"
     ]
    }
   ],
   "source": [
    "%env CUDA_VISIBLE_DEVICES=0\n",
    "%env CUDA_LAUNCH_BLOCKING=1\n",
    "%load_ext autoreload\n",
    "%autoreload 2\n",
    "%matplotlib inline\n",
    "\n",
    "from pathlib import Path\n",
    "import logging\n",
    "\n",
    "import matplotlib.pyplot as plt\n",
    "import numpy as np\n",
    "\n",
    "import sys; sys.path.append(\"../\")\n",
    "import maskflow\n",
    "\n",
    "root_dir = Path(\"/home/hadim/.data/Neural_Network/Maskflow/Shapes\")\n",
    "data_dir = root_dir / \"Data\"\n",
    "model_dir = root_dir / \"Models\"\n",
    "model_dir.mkdir(exist_ok=True)\n",
    "\n",
    "# Import the configuration associated with this dataset and network.\n",
    "config = maskflow.config.load_config(root_dir / \"config.yaml\")"
   ]
  },
  {
   "cell_type": "markdown",
   "metadata": {},
   "source": [
    "## Check Dataset"
   ]
  },
  {
   "cell_type": "code",
   "execution_count": 2,
   "metadata": {},
   "outputs": [
    {
     "name": "stderr",
     "output_type": "stream",
     "text": [
      "2018-11-03 15:42:24,358:WARNING:maskrcnn_benchmark.data.build: When using more than one image per GPU you may encounter an out-of-memory (OOM) error if your GPU does not have sufficient memory. If this happens, you can reduce SOLVER.IMS_PER_BATCH (for training) or TEST.IMS_PER_BATCH (for inference). For training, you must also adjust the learning rate and schedule length according to the linear scaling rule. See for example: https://github.com/facebookresearch/Detectron/blob/master/configs/getting_started/tutorial_1gpu_e2e_faster_rcnn_R-50-FPN.yaml#L14\n"
     ]
    },
    {
     "name": "stdout",
     "output_type": "stream",
     "text": [
      "loading annotations into memory...\n",
      "Done (t=0.01s)\n",
      "creating index...\n",
      "index created!\n"
     ]
    },
    {
     "data": {
      "image/png": "[encoded data removed]",
      "text/plain": [
       "<Figure size 1008x216 with 4 Axes>"
      ]
     },
     "metadata": {
      "needs_background": "light"
     },
     "output_type": "display_data"
    },
    {
     "data": {
      "image/png": "[encoded data removed]",
      "text/plain": [
       "<Figure size 1008x216 with 4 Axes>"
      ]
     },
     "metadata": {
      "needs_background": "light"
     },
     "output_type": "display_data"
    }
   ],
   "source": [
    "config['SOLVER']['IMS_PER_BATCH'] = 2\n",
    "config['TEST']['IMS_PER_BATCH'] = 2\n",
    "\n",
    "# Load some data\n",
    "data_loader = maskflow.dataset.get_data_loader(config, data_dir, is_train=True)\n",
    "some_data = [iter(data_loader).next() for _ in range(1)]\n",
    "\n",
    "# Retrieve category's names\n",
    "categories = data_loader.dataset.coco.cats\n",
    "\n",
    "for batch_image, batch_target, batch_idx in some_data:\n",
    "    maskflow.viz.batch_display_top_masks(batch_image, batch_target, batch_idx, categories,\n",
    "                                         basesize=14, limit=3, cmap=\"PuBu_r\")"
   ]
  },
  {
   "cell_type": "markdown",
   "metadata": {},
   "source": [
    "## Training"
   ]
  },
  {
   "cell_type": "code",
   "execution_count": 3,
   "metadata": {},
   "outputs": [],
   "source": [
    "# Use the last model in the model dir\n",
    "# If False, create a new model from scratch.\n",
    "# If `model_to_use` is set, we use this one instead.\n",
    "use_last_model = True\n",
    "model_to_use = None\n",
    "\n",
    "# Configure the training\n",
    "config['DATA_DIR'] = str(data_dir)\n",
    "\n",
    "config['MODEL']['DEVICE'] = \"cuda\"\n",
    "\n",
    "config['DATALOADER']['NUM_WORKERS'] = 16\n",
    "config['SOLVER']['IMS_PER_BATCH'] = 8\n",
    "\n",
    "config['SOLVER']['MAX_ITER'] = 50\n",
    "config['SOLVER']['BASE_LR'] = 0.0002\n",
    "config['SOLVER']['STEPS'] = [40, 80]\n",
    "config['SOLVER']['CHECKPOINT_PERIOD'] = 50"
   ]
  },
  {
   "cell_type": "code",
   "execution_count": 4,
   "metadata": {},
   "outputs": [
    {
     "name": "stderr",
     "output_type": "stream",
     "text": [
      "2018-11-03 15:42:29,808:INFO:root: Training model directory set: /home/hadim/.data/Neural_Network/Maskflow/Shapes/Models/2018.11.03-14:05:20\n",
      "2018-11-03 15:42:29,809:INFO:root: Building the model...\n",
      "2018-11-03 15:42:32,365:INFO:maskrcnn_benchmark.utils.checkpoint: Loading checkpoint from /home/hadim/.data/Neural_Network/Maskflow/Shapes/Models/2018.11.03-14:05:20/model_0000300.pth\n",
      "2018-11-03 15:42:32,610:INFO:maskrcnn_benchmark.utils.checkpoint: Loading optimizer from /home/hadim/.data/Neural_Network/Maskflow/Shapes/Models/2018.11.03-14:05:20/model_0000300.pth\n",
      "2018-11-03 15:42:32,737:INFO:maskrcnn_benchmark.utils.checkpoint: Loading scheduler from /home/hadim/.data/Neural_Network/Maskflow/Shapes/Models/2018.11.03-14:05:20/model_0000300.pth\n",
      "2018-11-03 15:42:32,738:INFO:root: Create the data loader.\n",
      "2018-11-03 15:42:32,738:WARNING:maskrcnn_benchmark.data.build: When using more than one image per GPU you may encounter an out-of-memory (OOM) error if your GPU does not have sufficient memory. If this happens, you can reduce SOLVER.IMS_PER_BATCH (for training) or TEST.IMS_PER_BATCH (for inference). For training, you must also adjust the learning rate and schedule length according to the linear scaling rule. See for example: https://github.com/facebookresearch/Detectron/blob/master/configs/getting_started/tutorial_1gpu_e2e_faster_rcnn_R-50-FPN.yaml#L14\n",
      "2018-11-03 15:42:32,763:INFO:root: Model ready to be use.\n",
      "2018-11-03 15:42:32,765:INFO:root: Start training at iteration 300\n",
      "2018-11-03 15:42:32,766:INFO:maskrcnn_benchmark.trainer: Start training\n"
     ]
    },
    {
     "name": "stdout",
     "output_type": "stream",
     "text": [
      "loading annotations into memory...\n",
      "Done (t=0.01s)\n",
      "creating index...\n",
      "index created!\n"
     ]
    },
    {
     "name": "stderr",
     "output_type": "stream",
     "text": [
      "2018-11-03 15:42:34,204:INFO:maskrcnn_benchmark.trainer: eta: -1 day, 23:54:01  iter: 300  loss: 2.1174 (2.1174)  loss_classifier: 0.2710 (0.2710)  loss_box_reg: 0.0284 (0.0284)  loss_mask: 1.0617 (1.0617)  loss_objectness: 0.4112 (0.4112)  loss_rpn_box_reg: 0.3451 (0.3451)  time: 1.4361 (1.4361)  data: 0.7308 (0.7308)  lr: 0.000001  max mem: 1008\n",
      "2018-11-03 15:42:34,206:INFO:maskrcnn_benchmark.utils.checkpoint: Saving checkpoint to /home/hadim/.data/Neural_Network/Maskflow/Shapes/Models/2018.11.03-14:05:20/model_0000300.pth\n",
      "2018-11-03 15:42:47,194:INFO:maskrcnn_benchmark.trainer: eta: -1 day, 23:56:55  iter: 320  loss: 1.8782 (1.9117)  loss_classifier: 0.1795 (0.1865)  loss_box_reg: 0.0192 (0.0200)  loss_mask: 1.0488 (1.0463)  loss_objectness: 0.3633 (0.3651)  loss_rpn_box_reg: 0.2984 (0.2938)  time: 0.6167 (0.6870)  data: 0.0008 (0.0812)  lr: 0.000002  max mem: 1209\n",
      "2018-11-03 15:42:59,181:INFO:maskrcnn_benchmark.trainer: eta: -1 day, 23:56:54  iter: 340  loss: 1.8795 (1.8889)  loss_classifier: 0.1771 (0.1830)  loss_box_reg: 0.0162 (0.0192)  loss_mask: 0.9542 (1.0310)  loss_objectness: 0.3491 (0.3604)  loss_rpn_box_reg: 0.3119 (0.2952)  time: 0.6036 (0.6442)  data: 0.0005 (0.0480)  lr: 0.000002  max mem: 1216\n",
      "2018-11-03 15:43:04,650:INFO:maskrcnn_benchmark.utils.checkpoint: Saving checkpoint to /home/hadim/.data/Neural_Network/Maskflow/Shapes/Models/2018.11.03-14:05:20/model_0000349.pth\n",
      "2018-11-03 15:43:04,926:INFO:maskrcnn_benchmark.trainer: Total training time: 0:00:32.158750 (0.6432 s / it)\n"
     ]
    }
   ],
   "source": [
    "# Setup training\n",
    "training_args, current_model_path = maskflow.training.build_model(config,\n",
    "                                                                  model_dir,\n",
    "                                                                  use_last_model=use_last_model,\n",
    "                                                                  model_to_use=model_to_use)\n",
    "\n",
    "# Train\n",
    "from maskrcnn_benchmark.engine.trainer import do_train\n",
    "\n",
    "logging.info(f\"Start training at iteration {training_args['arguments']['iteration']}\")\n",
    "do_train(**training_args)"
   ]
  }
 ],
 "metadata": {
  "kernelspec": {
   "display_name": "Python [conda env:nn]",
   "language": "python",
   "name": "conda-env-nn-py"
  },
  "language_info": {
   "codemirror_mode": {
    "name": "ipython",
    "version": 3
   },
   "file_extension": ".py",
   "mimetype": "text/x-python",
   "name": "python",
   "nbconvert_exporter": "python",
   "pygments_lexer": "ipython3",
   "version": "3.6.6"
  }
 },
 "nbformat": 4,
 "nbformat_minor": 2
}
