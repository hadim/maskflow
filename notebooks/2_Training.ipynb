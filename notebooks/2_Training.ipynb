{
 "cells": [
  {
   "cell_type": "markdown",
   "metadata": {},
   "source": [
    "# Training"
   ]
  },
  {
   "cell_type": "code",
   "execution_count": 1,
   "metadata": {},
   "outputs": [
    {
     "name": "stdout",
     "output_type": "stream",
     "text": [
      "env: CUDA_VISIBLE_DEVICES=0\n"
     ]
    }
   ],
   "source": [
    "%env CUDA_VISIBLE_DEVICES=0\n",
    "%load_ext autoreload\n",
    "%autoreload 2\n",
    "%matplotlib inline\n",
    "\n",
    "from pathlib import Path\n",
    "import logging\n",
    "\n",
    "import matplotlib.pyplot as plt\n",
    "import numpy as np\n",
    "\n",
    "import sys; sys.path.append(\"../\")\n",
    "import maskflow\n",
    "\n",
    "root_dir = Path(\"/home/hadim/.data/Neural_Network/Maskflow/Shapes\")\n",
    "data_dir = root_dir / \"Data\"\n",
    "model_dir = root_dir / \"Models\"\n",
    "model_dir.mkdir(exist_ok=True)\n",
    "\n",
    "# Import the configuration associated with this dataset and network.\n",
    "config = maskflow.config.load_config(root_dir / \"config.yaml\")"
   ]
  },
  {
   "cell_type": "markdown",
   "metadata": {},
   "source": [
    "## Check Dataset"
   ]
  },
  {
   "cell_type": "code",
   "execution_count": 2,
   "metadata": {},
   "outputs": [
    {
     "name": "stderr",
     "output_type": "stream",
     "text": [
      "2018-11-03 16:17:54,131:WARNING:maskrcnn_benchmark.data.build: When using more than one image per GPU you may encounter an out-of-memory (OOM) error if your GPU does not have sufficient memory. If this happens, you can reduce SOLVER.IMS_PER_BATCH (for training) or TEST.IMS_PER_BATCH (for inference). For training, you must also adjust the learning rate and schedule length according to the linear scaling rule. See for example: https://github.com/facebookresearch/Detectron/blob/master/configs/getting_started/tutorial_1gpu_e2e_faster_rcnn_R-50-FPN.yaml#L14\n"
     ]
    },
    {
     "name": "stdout",
     "output_type": "stream",
     "text": [
      "loading annotations into memory...\n",
      "Done (t=0.01s)\n",
      "creating index...\n",
      "index created!\n"
     ]
    },
    {
     "data": {
      "image/png": "[encoded data removed]",
      "text/plain": [
       "<Figure size 1008x216 with 4 Axes>"
      ]
     },
     "metadata": {
      "needs_background": "light"
     },
     "output_type": "display_data"
    },
    {
     "data": {
      "image/png": "[encoded data removed]",
      "text/plain": [
       "<Figure size 1008x216 with 4 Axes>"
      ]
     },
     "metadata": {
      "needs_background": "light"
     },
     "output_type": "display_data"
    }
   ],
   "source": [
    "config['SOLVER']['IMS_PER_BATCH'] = 2\n",
    "config['TEST']['IMS_PER_BATCH'] = 2\n",
    "\n",
    "# Load some data\n",
    "data_loader = maskflow.dataset.get_data_loader(config, data_dir, is_train=True)\n",
    "some_data = [iter(data_loader).next() for _ in range(1)]\n",
    "\n",
    "# Retrieve category's names\n",
    "categories = data_loader.dataset.coco.cats\n",
    "\n",
    "for batch_image, batch_target, batch_idx in some_data:\n",
    "    maskflow.viz.batch_display_top_masks(batch_image, batch_target, batch_idx, categories,\n",
    "                                         basesize=14, limit=3, cmap=\"PuBu_r\")"
   ]
  },
  {
   "cell_type": "markdown",
   "metadata": {},
   "source": [
    "## Training"
   ]
  },
  {
   "cell_type": "code",
   "execution_count": 3,
   "metadata": {},
   "outputs": [],
   "source": [
    "# Use the last model in the model dir\n",
    "# If False, create a new model from scratch.\n",
    "# If `model_to_use` is set, we use this one instead.\n",
    "use_last_model = True\n",
    "model_to_use = None\n",
    "\n",
    "# Configure the training\n",
    "config['DATA_DIR'] = str(data_dir)\n",
    "\n",
    "config['MODEL']['DEVICE'] = \"cuda\"\n",
    "\n",
    "config['DATALOADER']['NUM_WORKERS'] = 16\n",
    "config['SOLVER']['IMS_PER_BATCH'] = 8\n",
    "\n",
    "config['SOLVER']['MAX_ITER'] = 5000\n",
    "config['SOLVER']['BASE_LR'] = 0.005\n",
    "config['SOLVER']['STEPS'] = [40, 80]\n",
    "config['SOLVER']['CHECKPOINT_PERIOD'] = 50"
   ]
  },
  {
   "cell_type": "code",
   "execution_count": null,
   "metadata": {},
   "outputs": [
    {
     "name": "stderr",
     "output_type": "stream",
     "text": [
      "2018-11-03 16:17:57,154:INFO:root: Training model directory set: /home/hadim/.data/Neural_Network/Maskflow/Shapes/Models/2018.11.03-16:03:47\n",
      "2018-11-03 16:17:57,154:INFO:root: Building the model...\n",
      "2018-11-03 16:17:59,787:INFO:maskrcnn_benchmark.utils.checkpoint: Loading checkpoint from /home/hadim/.data/Neural_Network/Maskflow/Shapes/Models/2018.11.03-16:03:47/model_0000750.pth\n",
      "2018-11-03 16:18:00,033:INFO:maskrcnn_benchmark.utils.checkpoint: Loading optimizer from /home/hadim/.data/Neural_Network/Maskflow/Shapes/Models/2018.11.03-16:03:47/model_0000750.pth\n",
      "2018-11-03 16:18:00,174:INFO:maskrcnn_benchmark.utils.checkpoint: Loading scheduler from /home/hadim/.data/Neural_Network/Maskflow/Shapes/Models/2018.11.03-16:03:47/model_0000750.pth\n",
      "2018-11-03 16:18:00,174:INFO:root: Create the data loader.\n",
      "2018-11-03 16:18:00,175:WARNING:maskrcnn_benchmark.data.build: When using more than one image per GPU you may encounter an out-of-memory (OOM) error if your GPU does not have sufficient memory. If this happens, you can reduce SOLVER.IMS_PER_BATCH (for training) or TEST.IMS_PER_BATCH (for inference). For training, you must also adjust the learning rate and schedule length according to the linear scaling rule. See for example: https://github.com/facebookresearch/Detectron/blob/master/configs/getting_started/tutorial_1gpu_e2e_faster_rcnn_R-50-FPN.yaml#L14\n",
      "2018-11-03 16:18:00,196:INFO:root: Model ready to be use.\n",
      "2018-11-03 16:18:00,198:INFO:root: Start training at iteration 750\n",
      "2018-11-03 16:18:00,199:INFO:maskrcnn_benchmark.trainer: Start training\n"
     ]
    },
    {
     "name": "stdout",
     "output_type": "stream",
     "text": [
      "loading annotations into memory...\n",
      "Done (t=0.00s)\n",
      "creating index...\n",
      "index created!\n"
     ]
    },
    {
     "name": "stderr",
     "output_type": "stream",
     "text": [
      "2018-11-03 16:18:01,635:INFO:maskrcnn_benchmark.utils.checkpoint: Saving checkpoint to /home/hadim/.data/Neural_Network/Maskflow/Shapes/Models/2018.11.03-16:03:47/model_0000750.pth\n",
      "2018-11-03 16:18:09,147:INFO:maskrcnn_benchmark.trainer: eta: 0:57:28  iter: 760  loss: 1.2429 (1.2472)  loss_classifier: 0.1501 (0.1541)  loss_box_reg: 0.0669 (0.0683)  loss_mask: 0.5370 (0.5411)  loss_objectness: 0.2554 (0.2585)  loss_rpn_box_reg: 0.2070 (0.2251)  time: 0.6931 (0.8133)  data: 0.0148 (0.1688)  lr: 0.000010  max mem: 1349\n",
      "2018-11-03 16:18:21,767:INFO:maskrcnn_benchmark.trainer: eta: 0:48:55  iter: 780  loss: 1.2736 (1.2602)  loss_classifier: 0.1512 (0.1540)  loss_box_reg: 0.0691 (0.0663)  loss_mask: 0.5344 (0.5388)  loss_objectness: 0.2682 (0.2633)  loss_rpn_box_reg: 0.2469 (0.2377)  time: 0.6466 (0.6957)  data: 0.0005 (0.0723)  lr: 0.000010  max mem: 1481\n",
      "2018-11-03 16:18:34,045:INFO:maskrcnn_benchmark.trainer: eta: 0:46:27  iter: 800  loss: 1.2223 (1.2504)  loss_classifier: 0.1529 (0.1532)  loss_box_reg: 0.0630 (0.0673)  loss_mask: 0.5346 (0.5372)  loss_objectness: 0.2642 (0.2631)  loss_rpn_box_reg: 0.2086 (0.2296)  time: 0.6101 (0.6636)  data: 0.0007 (0.0495)  lr: 0.000010  max mem: 1481\n",
      "2018-11-03 16:18:34,047:INFO:maskrcnn_benchmark.utils.checkpoint: Saving checkpoint to /home/hadim/.data/Neural_Network/Maskflow/Shapes/Models/2018.11.03-16:03:47/model_0000800.pth\n",
      "2018-11-03 16:18:47,154:INFO:maskrcnn_benchmark.trainer: eta: 0:46:04  iter: 820  loss: 1.2757 (1.2520)  loss_classifier: 0.1580 (0.1540)  loss_box_reg: 0.0669 (0.0679)  loss_mask: 0.5305 (0.5360)  loss_objectness: 0.2639 (0.2632)  loss_rpn_box_reg: 0.2347 (0.2310)  time: 0.6683 (0.6613)  data: 0.0006 (0.0469)  lr: 0.000010  max mem: 1481\n",
      "2018-11-03 16:18:58,968:INFO:maskrcnn_benchmark.trainer: eta: 0:44:46  iter: 840  loss: 1.2205 (1.2509)  loss_classifier: 0.1415 (0.1538)  loss_box_reg: 0.0631 (0.0680)  loss_mask: 0.5305 (0.5363)  loss_objectness: 0.2581 (0.2629)  loss_rpn_box_reg: 0.2019 (0.2299)  time: 0.5937 (0.6458)  data: 0.0005 (0.0399)  lr: 0.000010  max mem: 1486\n"
     ]
    }
   ],
   "source": [
    "# Setup training\n",
    "training_args, current_model_path = maskflow.training.build_model(config,\n",
    "                                                                  model_dir,\n",
    "                                                                  use_last_model=use_last_model,\n",
    "                                                                  model_to_use=model_to_use)\n",
    "\n",
    "# Train\n",
    "from maskrcnn_benchmark.engine.trainer import do_train\n",
    "\n",
    "logging.info(f\"Start training at iteration {training_args['arguments']['iteration']}\")\n",
    "do_train(**training_args)"
   ]
  },
  {
   "cell_type": "code",
   "execution_count": null,
   "metadata": {},
   "outputs": [],
   "source": []
  }
 ],
 "metadata": {
  "kernelspec": {
   "display_name": "Python [conda env:nn]",
   "language": "python",
   "name": "conda-env-nn-py"
  },
  "language_info": {
   "codemirror_mode": {
    "name": "ipython",
    "version": 3
   },
   "file_extension": ".py",
   "mimetype": "text/x-python",
   "name": "python",
   "nbconvert_exporter": "python",
   "pygments_lexer": "ipython3",
   "version": "3.6.6"
  }
 },
 "nbformat": 4,
 "nbformat_minor": 2
}
