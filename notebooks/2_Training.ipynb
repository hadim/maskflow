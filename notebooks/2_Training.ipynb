{
 "cells": [
  {
   "cell_type": "markdown",
   "metadata": {},
   "source": [
    "# Training\n",
    "\n",
    "- Use this notebook after you've built your dataset to train the model.\n",
    "- Training will create a model directory with:\n",
    "    - `model_0000XXX.pth`: weights that are regularly saved during training\n",
    "    - `config.yaml`: the model configuration used during the last training performed.\n",
    "    - `training.log`: a log file that contains all the logs displayed in the notebook during training (useful if you close your notebook during a long training session)."
   ]
  },
  {
   "cell_type": "code",
   "execution_count": 1,
   "metadata": {},
   "outputs": [
    {
     "name": "stdout",
     "output_type": "stream",
     "text": [
      "env: CUDA_VISIBLE_DEVICES=0\n"
     ]
    }
   ],
   "source": [
    "%env CUDA_VISIBLE_DEVICES=0\n",
    "%load_ext autoreload\n",
    "%autoreload 2\n",
    "%matplotlib inline\n",
    "\n",
    "from pathlib import Path\n",
    "import logging\n",
    "\n",
    "import matplotlib.pyplot as plt\n",
    "import numpy as np\n",
    "\n",
    "import sys; sys.path.append(\"../\")\n",
    "import maskflow\n",
    "\n",
    "root_dir = Path(\"/home/hadim/.data/Neural_Network/Maskflow/Nucleus\")\n",
    "data_dir = root_dir / \"Data\"\n",
    "model_dir = root_dir / \"Models\"\n",
    "model_dir.mkdir(exist_ok=True)\n",
    "\n",
    "# Import the configuration associated with this dataset and network.\n",
    "config = maskflow.config.load_config(root_dir / \"config.yaml\")"
   ]
  },
  {
   "cell_type": "markdown",
   "metadata": {},
   "source": [
    "## Check Dataset"
   ]
  },
  {
   "cell_type": "code",
   "execution_count": 2,
   "metadata": {},
   "outputs": [
    {
     "name": "stdout",
     "output_type": "stream",
     "text": [
      "loading annotations into memory...\n",
      "Done (t=0.37s)\n",
      "creating index...\n",
      "index created!\n"
     ]
    },
    {
     "data": {
      "image/png": "[encoded data removed]",
      "text/plain": [
       "<Figure size 1008x216 with 4 Axes>"
      ]
     },
     "metadata": {
      "needs_background": "light"
     },
     "output_type": "display_data"
    }
   ],
   "source": [
    "config['SOLVER']['IMS_PER_BATCH'] = 1\n",
    "n_batch = 1\n",
    "\n",
    "# Load some data\n",
    "data_loader = maskflow.dataset.get_data_loader(config, data_dir, is_train=True)\n",
    "some_data = [iter(data_loader).next() for _ in range(n_batch)]\n",
    "\n",
    "# Retrieve category's names\n",
    "categories = data_loader.dataset.coco.cats\n",
    "\n",
    "for batch_image, batch_target, batch_idx in some_data:\n",
    "    maskflow.viz.batch_display_top_masks(batch_image, batch_target, batch_idx, categories,\n",
    "                                         basesize=14, limit=3, cmap=\"PuBu_r\",\n",
    "                                         pixel_mean=config['INPUT']['PIXEL_MEAN'],\n",
    "                                         pixel_std=config['INPUT']['PIXEL_STD'])"
   ]
  },
  {
   "cell_type": "markdown",
   "metadata": {},
   "source": [
    "## Training"
   ]
  },
  {
   "cell_type": "code",
   "execution_count": 3,
   "metadata": {},
   "outputs": [],
   "source": [
    "# Configure the training\n",
    "config['DATA_DIR'] = str(data_dir)\n",
    "\n",
    "config['MODEL']['DEVICE'] = \"cuda\"\n",
    "\n",
    "config['DATALOADER']['NUM_WORKERS'] = 4\n",
    "config['SOLVER']['IMS_PER_BATCH'] = 1\n",
    "\n",
    "# Disable those settings if you want to use the training\n",
    "# parameters from your config file.\n",
    "custom_training = False\n",
    "if custom_training:\n",
    "    config['SOLVER']['MAX_ITER'] = 5000\n",
    "    config['SOLVER']['BASE_LR'] = 0.0025\n",
    "    config['SOLVER']['STEPS'] = [3500, 4500]\n",
    "    config['SOLVER']['CHECKPOINT_PERIOD'] = 1000\n",
    "    config['SOLVER']['WARMUP_ITERS'] = 50\n",
    "\n",
    "#config['SOLVER']"
   ]
  },
  {
   "cell_type": "code",
   "execution_count": 4,
   "metadata": {},
   "outputs": [
    {
     "name": "stderr",
     "output_type": "stream",
     "text": [
      "2018-11-06 15:51:41,738:INFO:root: Training model directory set: /home/hadim/.data/Neural_Network/Maskflow/Nucleus/Models/2018.11.06-15:51:41\n",
      "2018-11-06 15:51:41,740:INFO:root: Building the model...\n",
      "2018-11-06 15:51:44,469:INFO:root: Use pretrained weights from https://download.pytorch.org/models/maskrcnn/e2e_mask_rcnn_R_50_FPN_1x.pth\n",
      "2018-11-06 15:51:44,798:INFO:maskrcnn_benchmark.utils.checkpoint: No checkpoint found. Initializing model from scratch\n",
      "2018-11-06 15:51:44,800:INFO:maskrcnn_benchmark.utils.checkpoint: Saving checkpoint to /home/hadim/.data/Neural_Network/Maskflow/Nucleus/Models/2018.11.06-15:51:41/model_0000000.pth\n",
      "2018-11-06 15:51:44,968:INFO:root: Create the data loader.\n"
     ]
    },
    {
     "name": "stdout",
     "output_type": "stream",
     "text": [
      "loading annotations into memory...\n"
     ]
    },
    {
     "name": "stderr",
     "output_type": "stream",
     "text": [
      "2018-11-06 15:51:45,406:INFO:root: Model ready to be trained.\n"
     ]
    },
    {
     "name": "stdout",
     "output_type": "stream",
     "text": [
      "Done (t=0.41s)\n",
      "creating index...\n",
      "index created!\n"
     ]
    }
   ],
   "source": [
    "# Setup training\n",
    "\n",
    "# Use the last model in the model dir\n",
    "# If False, create a new model from scratch.\n",
    "# If `model_to_use` is set, we use this one instead.\n",
    "\n",
    "builder_args = {}\n",
    "builder_args['config'] = config\n",
    "builder_args['model_dir'] = model_dir\n",
    "builder_args['use_last_model'] = False\n",
    "builder_args['model_to_use'] = None\n",
    "builder_args['use_pretrained_weights'] = True\n",
    "\n",
    "training_args = maskflow.training.build_model(**builder_args)"
   ]
  },
  {
   "cell_type": "code",
   "execution_count": 5,
   "metadata": {},
   "outputs": [
    {
     "name": "stderr",
     "output_type": "stream",
     "text": [
      "2018-11-06 15:51:45,432:INFO:maskfow.training: Start training at iteration 0\n",
      "2018-11-06 15:51:45,433:INFO:maskfow.training: Training will stop at 3000\n",
      "2018-11-06 15:51:46,310:INFO:maskfow.training: Step: 0 | Loss: 11.405360 | ETA: 0:36:30 | LR: 0.000825 | Memory: 982 MB\n",
      "2018-11-06 15:51:56,115:INFO:maskfow.training: Step: 20 | Loss: 2.646316 | ETA: 0:24:55 | LR: 0.001495 | Memory: 1562 MB\n",
      "2018-11-06 15:52:06,961:INFO:maskfow.training: Step: 40 | Loss: 1.359906 | ETA: 0:25:43 | LR: 0.002165 | Memory: 1562 MB\n",
      "2018-11-06 15:52:18,266:INFO:maskfow.training: Step: 60 | Loss: 0.555483 | ETA: 0:26:15 | LR: 0.002500 | Memory: 1562 MB\n",
      "2018-11-06 15:52:29,502:INFO:maskfow.training: Step: 80 | Loss: 0.568460 | ETA: 0:26:23 | LR: 0.002500 | Memory: 1562 MB\n",
      "2018-11-06 15:52:40,178:INFO:maskfow.training: Step: 100 | Loss: 0.591283 | ETA: 0:26:07 | LR: 0.002500 | Memory: 1562 MB\n",
      "2018-11-06 15:52:50,808:INFO:maskfow.training: Step: 120 | Loss: 1.145266 | ETA: 0:25:52 | LR: 0.002500 | Memory: 1562 MB\n",
      "2018-11-06 15:53:02,025:INFO:maskfow.training: Step: 140 | Loss: 0.894562 | ETA: 0:25:50 | LR: 0.002500 | Memory: 1562 MB\n",
      "2018-11-06 15:53:13,051:INFO:maskfow.training: Step: 160 | Loss: 0.568173 | ETA: 0:25:43 | LR: 0.002500 | Memory: 1562 MB\n",
      "2018-11-06 15:53:23,706:INFO:maskfow.training: Step: 180 | Loss: 0.361427 | ETA: 0:25:28 | LR: 0.002500 | Memory: 1562 MB\n",
      "2018-11-06 15:53:34,467:INFO:maskfow.training: Step: 200 | Loss: 0.314327 | ETA: 0:25:16 | LR: 0.002500 | Memory: 1562 MB\n",
      "2018-11-06 15:53:45,429:INFO:maskfow.training: Step: 220 | Loss: 0.519882 | ETA: 0:25:07 | LR: 0.002500 | Memory: 1562 MB\n",
      "2018-11-06 15:53:56,537:INFO:maskfow.training: Step: 240 | Loss: 0.299662 | ETA: 0:24:59 | LR: 0.002500 | Memory: 1562 MB\n",
      "2018-11-06 15:54:07,755:INFO:maskfow.training: Step: 260 | Loss: 0.738937 | ETA: 0:24:52 | LR: 0.002500 | Memory: 1562 MB\n",
      "2018-11-06 15:54:18,653:INFO:maskfow.training: Step: 280 | Loss: 0.731644 | ETA: 0:24:41 | LR: 0.002500 | Memory: 1562 MB\n",
      "2018-11-06 15:54:29,943:INFO:maskfow.training: Step: 300 | Loss: 0.738000 | ETA: 0:24:34 | LR: 0.002500 | Memory: 1562 MB\n",
      "2018-11-06 15:54:41,346:INFO:maskfow.training: Step: 320 | Loss: 0.524692 | ETA: 0:24:27 | LR: 0.002500 | Memory: 1562 MB\n",
      "2018-11-06 15:54:52,404:INFO:maskfow.training: Step: 340 | Loss: 0.435194 | ETA: 0:24:17 | LR: 0.002500 | Memory: 1562 MB\n",
      "2018-11-06 15:55:03,510:INFO:maskfow.training: Step: 360 | Loss: 0.923496 | ETA: 0:24:07 | LR: 0.002500 | Memory: 1562 MB\n",
      "2018-11-06 15:55:15,091:INFO:maskfow.training: Step: 380 | Loss: 0.557927 | ETA: 0:24:00 | LR: 0.002500 | Memory: 1562 MB\n",
      "2018-11-06 15:55:26,464:INFO:maskfow.training: Step: 400 | Loss: 0.668596 | ETA: 0:23:52 | LR: 0.002500 | Memory: 1562 MB\n",
      "2018-11-06 15:55:37,454:INFO:maskfow.training: Step: 420 | Loss: 1.246984 | ETA: 0:23:40 | LR: 0.002500 | Memory: 1562 MB\n",
      "2018-11-06 15:55:49,539:INFO:maskfow.training: Step: 440 | Loss: 1.268025 | ETA: 0:23:36 | LR: 0.002500 | Memory: 1562 MB\n",
      "2018-11-06 15:56:00,974:INFO:maskfow.training: Step: 460 | Loss: 1.180460 | ETA: 0:23:27 | LR: 0.002500 | Memory: 1562 MB\n",
      "2018-11-06 15:56:12,532:INFO:maskfow.training: Step: 480 | Loss: 0.304025 | ETA: 0:23:18 | LR: 0.002500 | Memory: 1562 MB\n",
      "2018-11-06 15:56:24,380:INFO:maskfow.training: Step: 500 | Loss: 0.194902 | ETA: 0:23:11 | LR: 0.002500 | Memory: 1562 MB\n",
      "2018-11-06 15:56:35,743:INFO:maskfow.training: Step: 520 | Loss: 0.770026 | ETA: 0:23:01 | LR: 0.002500 | Memory: 1562 MB\n",
      "2018-11-06 15:56:47,350:INFO:maskfow.training: Step: 540 | Loss: 0.647514 | ETA: 0:22:52 | LR: 0.002500 | Memory: 1562 MB\n",
      "2018-11-06 15:56:59,025:INFO:maskfow.training: Step: 560 | Loss: 0.608232 | ETA: 0:22:43 | LR: 0.002500 | Memory: 1562 MB\n",
      "2018-11-06 15:57:10,474:INFO:maskfow.training: Step: 580 | Loss: 0.322391 | ETA: 0:22:33 | LR: 0.002500 | Memory: 1562 MB\n",
      "2018-11-06 15:57:21,347:INFO:maskfow.training: Step: 600 | Loss: 0.165269 | ETA: 0:22:20 | LR: 0.002500 | Memory: 1562 MB\n",
      "2018-11-06 15:57:32,969:INFO:maskfow.training: Step: 620 | Loss: 0.648343 | ETA: 0:22:11 | LR: 0.002500 | Memory: 1562 MB\n",
      "2018-11-06 15:57:44,885:INFO:maskfow.training: Step: 640 | Loss: 1.189907 | ETA: 0:22:02 | LR: 0.002500 | Memory: 1562 MB\n",
      "2018-11-06 15:57:56,511:INFO:maskfow.training: Step: 660 | Loss: 1.075859 | ETA: 0:21:53 | LR: 0.002500 | Memory: 1562 MB\n",
      "2018-11-06 15:58:08,199:INFO:maskfow.training: Step: 680 | Loss: 0.760183 | ETA: 0:21:43 | LR: 0.002500 | Memory: 1562 MB\n",
      "2018-11-06 15:58:19,845:INFO:maskfow.training: Step: 700 | Loss: 0.889163 | ETA: 0:21:33 | LR: 0.002500 | Memory: 1562 MB\n",
      "2018-11-06 15:58:30,974:INFO:maskfow.training: Step: 720 | Loss: 0.290284 | ETA: 0:21:21 | LR: 0.002500 | Memory: 1562 MB\n",
      "2018-11-06 15:58:42,356:INFO:maskfow.training: Step: 740 | Loss: 0.921416 | ETA: 0:21:11 | LR: 0.002500 | Memory: 1562 MB\n",
      "2018-11-06 15:58:53,518:INFO:maskfow.training: Step: 760 | Loss: 0.462070 | ETA: 0:20:59 | LR: 0.002500 | Memory: 1562 MB\n",
      "2018-11-06 15:59:04,897:INFO:maskfow.training: Step: 780 | Loss: 0.158027 | ETA: 0:20:48 | LR: 0.002500 | Memory: 1562 MB\n",
      "2018-11-06 15:59:16,480:INFO:maskfow.training: Step: 800 | Loss: 0.691085 | ETA: 0:20:38 | LR: 0.002500 | Memory: 1562 MB\n",
      "2018-11-06 15:59:28,231:INFO:maskfow.training: Step: 820 | Loss: 0.366820 | ETA: 0:20:28 | LR: 0.002500 | Memory: 1562 MB\n",
      "2018-11-06 15:59:39,975:INFO:maskfow.training: Step: 840 | Loss: 0.243611 | ETA: 0:20:18 | LR: 0.002500 | Memory: 1562 MB\n",
      "2018-11-06 15:59:51,653:INFO:maskfow.training: Step: 860 | Loss: 0.652817 | ETA: 0:20:08 | LR: 0.002500 | Memory: 1562 MB\n",
      "2018-11-06 16:00:03,213:INFO:maskfow.training: Step: 880 | Loss: 0.838039 | ETA: 0:19:57 | LR: 0.002500 | Memory: 1562 MB\n",
      "2018-11-06 16:00:14,431:INFO:maskfow.training: Step: 900 | Loss: 0.378897 | ETA: 0:19:46 | LR: 0.002500 | Memory: 1562 MB\n",
      "2018-11-06 16:00:25,863:INFO:maskfow.training: Step: 920 | Loss: 0.558514 | ETA: 0:19:35 | LR: 0.002500 | Memory: 1562 MB\n",
      "2018-11-06 16:00:37,269:INFO:maskfow.training: Step: 940 | Loss: 0.342500 | ETA: 0:19:23 | LR: 0.002500 | Memory: 1562 MB\n",
      "2018-11-06 16:00:48,924:INFO:maskfow.training: Step: 960 | Loss: 0.729652 | ETA: 0:19:13 | LR: 0.002500 | Memory: 1562 MB\n",
      "2018-11-06 16:01:00,502:INFO:maskfow.training: Step: 980 | Loss: 0.884734 | ETA: 0:19:02 | LR: 0.002500 | Memory: 1562 MB\n",
      "2018-11-06 16:01:12,302:INFO:maskfow.training: Step: 1000 | Loss: 0.650958 | ETA: 0:18:52 | LR: 0.002500 | Memory: 1562 MB\n",
      "2018-11-06 16:01:12,305:INFO:maskrcnn_benchmark.utils.checkpoint: Saving checkpoint to /home/hadim/.data/Neural_Network/Maskflow/Nucleus/Models/2018.11.06-15:51:41/model_0001000.pth\n",
      "2018-11-06 16:01:24,784:INFO:maskfow.training: Step: 1020 | Loss: 1.137152 | ETA: 0:18:43 | LR: 0.002500 | Memory: 1562 MB\n",
      "2018-11-06 16:01:36,231:INFO:maskfow.training: Step: 1040 | Loss: 0.473782 | ETA: 0:18:32 | LR: 0.002500 | Memory: 1562 MB\n",
      "2018-11-06 16:01:48,075:INFO:maskfow.training: Step: 1060 | Loss: 0.370460 | ETA: 0:18:21 | LR: 0.002500 | Memory: 1562 MB\n",
      "2018-11-06 16:02:00,359:INFO:maskfow.training: Step: 1080 | Loss: 0.404618 | ETA: 0:18:11 | LR: 0.002500 | Memory: 1562 MB\n",
      "2018-11-06 16:02:11,758:INFO:maskfow.training: Step: 1100 | Loss: 0.599543 | ETA: 0:18:00 | LR: 0.002500 | Memory: 1562 MB\n",
      "2018-11-06 16:02:23,203:INFO:maskfow.training: Step: 1120 | Loss: 0.338136 | ETA: 0:17:49 | LR: 0.002500 | Memory: 1562 MB\n",
      "2018-11-06 16:02:34,804:INFO:maskfow.training: Step: 1140 | Loss: 0.500052 | ETA: 0:17:38 | LR: 0.002500 | Memory: 1563 MB\n",
      "2018-11-06 16:02:46,994:INFO:maskfow.training: Step: 1160 | Loss: 0.270859 | ETA: 0:17:28 | LR: 0.002500 | Memory: 1563 MB\n",
      "2018-11-06 16:02:58,688:INFO:maskfow.training: Step: 1180 | Loss: 0.641673 | ETA: 0:17:17 | LR: 0.002500 | Memory: 1563 MB\n",
      "2018-11-06 16:03:10,981:INFO:maskfow.training: Step: 1200 | Loss: 1.069409 | ETA: 0:17:07 | LR: 0.002500 | Memory: 1563 MB\n",
      "2018-11-06 16:03:22,974:INFO:maskfow.training: Step: 1220 | Loss: 0.257647 | ETA: 0:16:56 | LR: 0.002500 | Memory: 1563 MB\n",
      "2018-11-06 16:03:34,599:INFO:maskfow.training: Step: 1240 | Loss: 0.670533 | ETA: 0:16:45 | LR: 0.002500 | Memory: 1563 MB\n",
      "2018-11-06 16:03:46,170:INFO:maskfow.training: Step: 1260 | Loss: 0.307995 | ETA: 0:16:34 | LR: 0.002500 | Memory: 1563 MB\n",
      "2018-11-06 16:03:57,288:INFO:maskfow.training: Step: 1280 | Loss: 0.580820 | ETA: 0:16:22 | LR: 0.002500 | Memory: 1563 MB\n",
      "2018-11-06 16:04:09,012:INFO:maskfow.training: Step: 1300 | Loss: 0.781202 | ETA: 0:16:11 | LR: 0.002500 | Memory: 1563 MB\n",
      "2018-11-06 16:04:20,641:INFO:maskfow.training: Step: 1320 | Loss: 0.337912 | ETA: 0:16:00 | LR: 0.002500 | Memory: 1563 MB\n",
      "2018-11-06 16:04:31,365:INFO:maskfow.training: Step: 1340 | Loss: 0.958867 | ETA: 0:15:47 | LR: 0.002500 | Memory: 1563 MB\n",
      "2018-11-06 16:04:42,749:INFO:maskfow.training: Step: 1360 | Loss: 0.637253 | ETA: 0:15:36 | LR: 0.002500 | Memory: 1563 MB\n",
      "2018-11-06 16:04:54,121:INFO:maskfow.training: Step: 1380 | Loss: 0.806717 | ETA: 0:15:25 | LR: 0.002500 | Memory: 1563 MB\n",
      "2018-11-06 16:05:05,493:INFO:maskfow.training: Step: 1400 | Loss: 0.495243 | ETA: 0:15:13 | LR: 0.002500 | Memory: 1563 MB\n",
      "2018-11-06 16:05:16,808:INFO:maskfow.training: Step: 1420 | Loss: 0.409914 | ETA: 0:15:02 | LR: 0.002500 | Memory: 1563 MB\n",
      "2018-11-06 16:05:28,051:INFO:maskfow.training: Step: 1440 | Loss: 0.550106 | ETA: 0:14:50 | LR: 0.002500 | Memory: 1563 MB\n",
      "2018-11-06 16:05:39,587:INFO:maskfow.training: Step: 1460 | Loss: 0.640966 | ETA: 0:14:39 | LR: 0.002500 | Memory: 1563 MB\n",
      "2018-11-06 16:05:51,209:INFO:maskfow.training: Step: 1480 | Loss: 0.321198 | ETA: 0:14:27 | LR: 0.002500 | Memory: 1563 MB\n",
      "2018-11-06 16:06:02,455:INFO:maskfow.training: Step: 1500 | Loss: 0.446808 | ETA: 0:14:16 | LR: 0.002500 | Memory: 1563 MB\n",
      "2018-11-06 16:06:13,622:INFO:maskfow.training: Step: 1520 | Loss: 0.289021 | ETA: 0:14:04 | LR: 0.002500 | Memory: 1563 MB\n",
      "2018-11-06 16:06:25,163:INFO:maskfow.training: Step: 1540 | Loss: 0.560939 | ETA: 0:13:53 | LR: 0.002500 | Memory: 1563 MB\n",
      "2018-11-06 16:06:36,611:INFO:maskfow.training: Step: 1560 | Loss: 0.291032 | ETA: 0:13:41 | LR: 0.002500 | Memory: 1563 MB\n",
      "2018-11-06 16:06:48,147:INFO:maskfow.training: Step: 1580 | Loss: 0.755130 | ETA: 0:13:30 | LR: 0.002500 | Memory: 1563 MB\n",
      "2018-11-06 16:06:59,688:INFO:maskfow.training: Step: 1600 | Loss: 0.524695 | ETA: 0:13:19 | LR: 0.002500 | Memory: 1563 MB\n",
      "2018-11-06 16:07:11,221:INFO:maskfow.training: Step: 1620 | Loss: 1.004333 | ETA: 0:13:08 | LR: 0.002500 | Memory: 1563 MB\n",
      "2018-11-06 16:07:22,815:INFO:maskfow.training: Step: 1640 | Loss: 0.442945 | ETA: 0:12:56 | LR: 0.002500 | Memory: 1563 MB\n",
      "2018-11-06 16:07:34,336:INFO:maskfow.training: Step: 1660 | Loss: 0.239007 | ETA: 0:12:45 | LR: 0.002500 | Memory: 1563 MB\n",
      "2018-11-06 16:07:46,073:INFO:maskfow.training: Step: 1680 | Loss: 0.557391 | ETA: 0:12:34 | LR: 0.002500 | Memory: 1563 MB\n",
      "2018-11-06 16:07:57,570:INFO:maskfow.training: Step: 1700 | Loss: 0.256217 | ETA: 0:12:22 | LR: 0.002500 | Memory: 1563 MB\n",
      "2018-11-06 16:08:09,097:INFO:maskfow.training: Step: 1720 | Loss: 0.380343 | ETA: 0:12:11 | LR: 0.002500 | Memory: 1563 MB\n",
      "2018-11-06 16:08:20,598:INFO:maskfow.training: Step: 1740 | Loss: 0.817539 | ETA: 0:12:00 | LR: 0.002500 | Memory: 1563 MB\n",
      "2018-11-06 16:08:32,604:INFO:maskfow.training: Step: 1760 | Loss: 0.840747 | ETA: 0:11:49 | LR: 0.002500 | Memory: 1563 MB\n",
      "2018-11-06 16:08:44,440:INFO:maskfow.training: Step: 1780 | Loss: 0.682722 | ETA: 0:11:37 | LR: 0.002500 | Memory: 1563 MB\n",
      "2018-11-06 16:08:55,945:INFO:maskfow.training: Step: 1800 | Loss: 0.544945 | ETA: 0:11:26 | LR: 0.002500 | Memory: 1563 MB\n",
      "2018-11-06 16:09:07,427:INFO:maskfow.training: Step: 1820 | Loss: 0.388377 | ETA: 0:11:15 | LR: 0.002500 | Memory: 1563 MB\n",
      "2018-11-06 16:09:19,008:INFO:maskfow.training: Step: 1840 | Loss: 0.426644 | ETA: 0:11:03 | LR: 0.002500 | Memory: 1563 MB\n",
      "2018-11-06 16:09:30,384:INFO:maskfow.training: Step: 1860 | Loss: 0.971632 | ETA: 0:10:52 | LR: 0.002500 | Memory: 1563 MB\n",
      "2018-11-06 16:09:42,071:INFO:maskfow.training: Step: 1880 | Loss: 0.787582 | ETA: 0:10:40 | LR: 0.002500 | Memory: 1563 MB\n",
      "2018-11-06 16:09:54,039:INFO:maskfow.training: Step: 1900 | Loss: 0.780476 | ETA: 0:10:29 | LR: 0.002500 | Memory: 1563 MB\n",
      "2018-11-06 16:10:05,415:INFO:maskfow.training: Step: 1920 | Loss: 0.673968 | ETA: 0:10:18 | LR: 0.002500 | Memory: 1563 MB\n",
      "2018-11-06 16:10:17,255:INFO:maskfow.training: Step: 1940 | Loss: 0.637094 | ETA: 0:10:07 | LR: 0.002500 | Memory: 1563 MB\n",
      "2018-11-06 16:10:28,787:INFO:maskfow.training: Step: 1960 | Loss: 0.882205 | ETA: 0:09:55 | LR: 0.002500 | Memory: 1563 MB\n",
      "2018-11-06 16:10:40,516:INFO:maskfow.training: Step: 1980 | Loss: 0.286855 | ETA: 0:09:44 | LR: 0.002500 | Memory: 1563 MB\n",
      "2018-11-06 16:10:52,457:INFO:maskfow.training: Step: 2000 | Loss: 0.627364 | ETA: 0:09:33 | LR: 0.000250 | Memory: 1563 MB\n",
      "2018-11-06 16:10:52,459:INFO:maskrcnn_benchmark.utils.checkpoint: Saving checkpoint to /home/hadim/.data/Neural_Network/Maskflow/Nucleus/Models/2018.11.06-15:51:41/model_0002000.pth\n",
      "2018-11-06 16:11:04,824:INFO:maskfow.training: Step: 2020 | Loss: 0.558633 | ETA: 0:09:22 | LR: 0.000250 | Memory: 1563 MB\n",
      "2018-11-06 16:11:16,444:INFO:maskfow.training: Step: 2040 | Loss: 0.453581 | ETA: 0:09:10 | LR: 0.000250 | Memory: 1563 MB\n",
      "2018-11-06 16:11:28,256:INFO:maskfow.training: Step: 2060 | Loss: 0.550069 | ETA: 0:08:59 | LR: 0.000250 | Memory: 1563 MB\n",
      "2018-11-06 16:11:39,230:INFO:maskfow.training: Step: 2080 | Loss: 0.316295 | ETA: 0:08:47 | LR: 0.000250 | Memory: 1563 MB\n",
      "2018-11-06 16:11:50,962:INFO:maskfow.training: Step: 2100 | Loss: 0.325162 | ETA: 0:08:36 | LR: 0.000250 | Memory: 1563 MB\n",
      "2018-11-06 16:12:02,472:INFO:maskfow.training: Step: 2120 | Loss: 0.445672 | ETA: 0:08:24 | LR: 0.000250 | Memory: 1563 MB\n",
      "2018-11-06 16:12:14,415:INFO:maskfow.training: Step: 2140 | Loss: 0.460189 | ETA: 0:08:13 | LR: 0.000250 | Memory: 1563 MB\n",
      "2018-11-06 16:12:26,091:INFO:maskfow.training: Step: 2160 | Loss: 0.714004 | ETA: 0:08:02 | LR: 0.000250 | Memory: 1563 MB\n",
      "2018-11-06 16:12:37,676:INFO:maskfow.training: Step: 2180 | Loss: 0.604163 | ETA: 0:07:50 | LR: 0.000250 | Memory: 1563 MB\n",
      "2018-11-06 16:12:49,179:INFO:maskfow.training: Step: 2200 | Loss: 0.268374 | ETA: 0:07:39 | LR: 0.000250 | Memory: 1563 MB\n",
      "2018-11-06 16:13:01,119:INFO:maskfow.training: Step: 2220 | Loss: 0.534704 | ETA: 0:07:27 | LR: 0.000250 | Memory: 1563 MB\n",
      "2018-11-06 16:13:12,905:INFO:maskfow.training: Step: 2240 | Loss: 0.798702 | ETA: 0:07:16 | LR: 0.000250 | Memory: 1563 MB\n",
      "2018-11-06 16:13:24,861:INFO:maskfow.training: Step: 2260 | Loss: 0.946268 | ETA: 0:07:05 | LR: 0.000250 | Memory: 1563 MB\n",
      "2018-11-06 16:13:36,550:INFO:maskfow.training: Step: 2280 | Loss: 0.515591 | ETA: 0:06:53 | LR: 0.000250 | Memory: 1563 MB\n",
      "2018-11-06 16:13:48,407:INFO:maskfow.training: Step: 2300 | Loss: 0.528075 | ETA: 0:06:42 | LR: 0.000250 | Memory: 1563 MB\n",
      "2018-11-06 16:14:00,259:INFO:maskfow.training: Step: 2320 | Loss: 0.404588 | ETA: 0:06:31 | LR: 0.000250 | Memory: 1563 MB\n",
      "2018-11-06 16:14:12,155:INFO:maskfow.training: Step: 2340 | Loss: 0.121160 | ETA: 0:06:19 | LR: 0.000250 | Memory: 1563 MB\n",
      "2018-11-06 16:14:24,149:INFO:maskfow.training: Step: 2360 | Loss: 0.508745 | ETA: 0:06:08 | LR: 0.000250 | Memory: 1563 MB\n",
      "2018-11-06 16:14:35,927:INFO:maskfow.training: Step: 2380 | Loss: 0.747951 | ETA: 0:05:56 | LR: 0.000250 | Memory: 1563 MB\n",
      "2018-11-06 16:14:48,026:INFO:maskfow.training: Step: 2400 | Loss: 0.598359 | ETA: 0:05:45 | LR: 0.000250 | Memory: 1563 MB\n",
      "2018-11-06 16:14:59,542:INFO:maskfow.training: Step: 2420 | Loss: 0.679626 | ETA: 0:05:33 | LR: 0.000250 | Memory: 1563 MB\n",
      "2018-11-06 16:15:11,188:INFO:maskfow.training: Step: 2440 | Loss: 0.703145 | ETA: 0:05:22 | LR: 0.000250 | Memory: 1563 MB\n",
      "2018-11-06 16:15:22,723:INFO:maskfow.training: Step: 2460 | Loss: 0.361074 | ETA: 0:05:10 | LR: 0.000250 | Memory: 1563 MB\n",
      "2018-11-06 16:15:34,616:INFO:maskfow.training: Step: 2480 | Loss: 0.325063 | ETA: 0:04:59 | LR: 0.000250 | Memory: 1563 MB\n",
      "2018-11-06 16:15:46,545:INFO:maskfow.training: Step: 2500 | Loss: 0.399078 | ETA: 0:04:48 | LR: 0.000250 | Memory: 1563 MB\n",
      "2018-11-06 16:15:58,496:INFO:maskfow.training: Step: 2520 | Loss: 0.697755 | ETA: 0:04:36 | LR: 0.000250 | Memory: 1563 MB\n",
      "2018-11-06 16:16:10,072:INFO:maskfow.training: Step: 2540 | Loss: 0.635126 | ETA: 0:04:25 | LR: 0.000250 | Memory: 1563 MB\n",
      "2018-11-06 16:16:22,235:INFO:maskfow.training: Step: 2560 | Loss: 0.953148 | ETA: 0:04:13 | LR: 0.000250 | Memory: 1563 MB\n",
      "2018-11-06 16:16:34,440:INFO:maskfow.training: Step: 2580 | Loss: 0.525974 | ETA: 0:04:02 | LR: 0.000250 | Memory: 1563 MB\n",
      "2018-11-06 16:16:46,173:INFO:maskfow.training: Step: 2600 | Loss: 0.493048 | ETA: 0:03:50 | LR: 0.000250 | Memory: 1563 MB\n",
      "2018-11-06 16:16:57,875:INFO:maskfow.training: Step: 2620 | Loss: 0.381742 | ETA: 0:03:39 | LR: 0.000250 | Memory: 1563 MB\n",
      "2018-11-06 16:17:10,062:INFO:maskfow.training: Step: 2640 | Loss: 0.245672 | ETA: 0:03:27 | LR: 0.000250 | Memory: 1563 MB\n",
      "2018-11-06 16:17:21,922:INFO:maskfow.training: Step: 2660 | Loss: 0.172829 | ETA: 0:03:16 | LR: 0.000250 | Memory: 1563 MB\n",
      "2018-11-06 16:17:33,923:INFO:maskfow.training: Step: 2680 | Loss: 0.312330 | ETA: 0:03:04 | LR: 0.000250 | Memory: 1563 MB\n",
      "2018-11-06 16:17:45,646:INFO:maskfow.training: Step: 2700 | Loss: 0.156824 | ETA: 0:02:53 | LR: 0.000250 | Memory: 1563 MB\n",
      "2018-11-06 16:17:57,398:INFO:maskfow.training: Step: 2720 | Loss: 0.297201 | ETA: 0:02:41 | LR: 0.000250 | Memory: 1563 MB\n",
      "2018-11-06 16:18:09,558:INFO:maskfow.training: Step: 2740 | Loss: 0.579777 | ETA: 0:02:30 | LR: 0.000250 | Memory: 1563 MB\n",
      "2018-11-06 16:18:21,475:INFO:maskfow.training: Step: 2760 | Loss: 0.805037 | ETA: 0:02:18 | LR: 0.000250 | Memory: 1563 MB\n",
      "2018-11-06 16:18:33,515:INFO:maskfow.training: Step: 2780 | Loss: 0.327113 | ETA: 0:02:07 | LR: 0.000250 | Memory: 1563 MB\n",
      "2018-11-06 16:18:45,545:INFO:maskfow.training: Step: 2800 | Loss: 0.587701 | ETA: 0:01:55 | LR: 0.000250 | Memory: 1563 MB\n",
      "2018-11-06 16:18:57,351:INFO:maskfow.training: Step: 2820 | Loss: 0.749228 | ETA: 0:01:44 | LR: 0.000250 | Memory: 1563 MB\n",
      "2018-11-06 16:19:09,140:INFO:maskfow.training: Step: 2840 | Loss: 0.906707 | ETA: 0:01:32 | LR: 0.000250 | Memory: 1563 MB\n",
      "2018-11-06 16:19:21,466:INFO:maskfow.training: Step: 2860 | Loss: 0.604061 | ETA: 0:01:21 | LR: 0.000250 | Memory: 1563 MB\n",
      "2018-11-06 16:19:33,380:INFO:maskfow.training: Step: 2880 | Loss: 0.959273 | ETA: 0:01:09 | LR: 0.000250 | Memory: 1563 MB\n",
      "2018-11-06 16:19:45,330:INFO:maskfow.training: Step: 2900 | Loss: 0.230055 | ETA: 0:00:57 | LR: 0.000250 | Memory: 1563 MB\n",
      "2018-11-06 16:19:57,546:INFO:maskfow.training: Step: 2920 | Loss: 0.857305 | ETA: 0:00:46 | LR: 0.000250 | Memory: 1563 MB\n",
      "2018-11-06 16:20:09,777:INFO:maskfow.training: Step: 2940 | Loss: 0.596628 | ETA: 0:00:34 | LR: 0.000250 | Memory: 1563 MB\n",
      "2018-11-06 16:20:21,120:INFO:maskfow.training: Step: 2960 | Loss: 0.134910 | ETA: 0:00:23 | LR: 0.000250 | Memory: 1563 MB\n",
      "2018-11-06 16:20:33,383:INFO:maskfow.training: Step: 2980 | Loss: 0.727212 | ETA: 0:00:11 | LR: 0.000250 | Memory: 1563 MB\n",
      "2018-11-06 16:20:44,816:INFO:maskfow.training: Step: 2999 | Loss: 0.271207 | ETA: 0:00:00 | LR: 0.000250 | Memory: 1563 MB\n"
     ]
    }
   ],
   "source": [
    "# Run training\n",
    "\n",
    "training_args['log_period'] = 20\n",
    "training_args['log_losses_detailed'] = False\n",
    "training_args['save_metrics'] = True\n",
    "\n",
    "maskflow.training.do_train(**training_args)"
   ]
  },
  {
   "cell_type": "code",
   "execution_count": null,
   "metadata": {},
   "outputs": [],
   "source": []
  }
 ],
 "metadata": {
  "kernelspec": {
   "display_name": "Python [conda env:nn]",
   "language": "python",
   "name": "conda-env-nn-py"
  },
  "language_info": {
   "codemirror_mode": {
    "name": "ipython",
    "version": 3
   },
   "file_extension": ".py",
   "mimetype": "text/x-python",
   "name": "python",
   "nbconvert_exporter": "python",
   "pygments_lexer": "ipython3",
   "version": "3.6.6"
  }
 },
 "nbformat": 4,
 "nbformat_minor": 2
}
