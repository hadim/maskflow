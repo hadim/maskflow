{
 "cells": [
  {
   "cell_type": "markdown",
   "metadata": {},
   "source": [
    "# Training\n",
    "\n",
    "- Use this notebook after you've built your dataset to train the model.\n",
    "- Training will create a model directory with:\n",
    "    - `model_0000XXX.pth`: weights that are regularly saved during training\n",
    "    - `config.yaml`: the model configuration used during the last training performed.\n",
    "    - `training.log`: a log file that contains all the logs displayed in the notebook during training (useful if you close your notebook during a long training session)."
   ]
  },
  {
   "cell_type": "code",
   "execution_count": 1,
   "metadata": {},
   "outputs": [
    {
     "name": "stdout",
     "output_type": "stream",
     "text": [
      "env: CUDA_VISIBLE_DEVICES=0\n"
     ]
    }
   ],
   "source": [
    "%env CUDA_VISIBLE_DEVICES=0\n",
    "%load_ext autoreload\n",
    "%autoreload 2\n",
    "%matplotlib inline\n",
    "\n",
    "from pathlib import Path\n",
    "import logging\n",
    "\n",
    "import matplotlib.pyplot as plt\n",
    "import numpy as np\n",
    "\n",
    "import sys; sys.path.append(\"../\")\n",
    "import maskflow\n",
    "\n",
    "root_dir = Path(\"/home/hadim/.data/Neural_Network/Maskflow/Shapes\")\n",
    "data_dir = root_dir / \"Data\"\n",
    "model_dir = root_dir / \"Models\"\n",
    "model_dir.mkdir(exist_ok=True)\n",
    "\n",
    "# Import the configuration associated with this dataset and network.\n",
    "config = maskflow.config.load_config(root_dir / \"config.yaml\")"
   ]
  },
  {
   "cell_type": "markdown",
   "metadata": {},
   "source": [
    "## Check Dataset"
   ]
  },
  {
   "cell_type": "code",
   "execution_count": 2,
   "metadata": {},
   "outputs": [
    {
     "name": "stdout",
     "output_type": "stream",
     "text": [
      "loading annotations into memory...\n",
      "Done (t=0.01s)\n",
      "creating index...\n",
      "index created!\n"
     ]
    },
    {
     "data": {
      "image/png": "[encoded data removed]",
      "text/plain": [
       "<Figure size 1008x216 with 4 Axes>"
      ]
     },
     "metadata": {
      "needs_background": "light"
     },
     "output_type": "display_data"
    }
   ],
   "source": [
    "config['SOLVER']['IMS_PER_BATCH'] = 1\n",
    "\n",
    "# Load some data\n",
    "data_loader = maskflow.dataset.get_data_loader(config, data_dir, is_train=True)\n",
    "some_data = [iter(data_loader).next() for _ in range(1)]\n",
    "\n",
    "# Retrieve category's names\n",
    "categories = data_loader.dataset.coco.cats\n",
    "\n",
    "for batch_image, batch_target, batch_idx in some_data:\n",
    "    maskflow.viz.batch_display_top_masks(batch_image, batch_target, batch_idx, categories,\n",
    "                                         basesize=14, limit=3, cmap=\"PuBu_r\")"
   ]
  },
  {
   "cell_type": "markdown",
   "metadata": {},
   "source": [
    "## Training"
   ]
  },
  {
   "cell_type": "code",
   "execution_count": 3,
   "metadata": {},
   "outputs": [
    {
     "data": {
      "text/plain": [
       "CfgNode({'MAX_ITER': 300, 'BASE_LR': 0.005, 'BIAS_LR_FACTOR': 2, 'MOMENTUM': 0.9, 'WEIGHT_DECAY': 0.0001, 'WEIGHT_DECAY_BIAS': 0, 'GAMMA': 0.1, 'STEPS': [120, 200], 'WARMUP_FACTOR': 0.33, 'WARMUP_ITERS': 500, 'WARMUP_METHOD': 'linear', 'CHECKPOINT_PERIOD': 100, 'IMS_PER_BATCH': 4})"
      ]
     },
     "execution_count": 3,
     "metadata": {},
     "output_type": "execute_result"
    }
   ],
   "source": [
    "# Use the last model in the model dir\n",
    "# If False, create a new model from scratch.\n",
    "# If `model_to_use` is set, we use this one instead.\n",
    "use_last_model = True\n",
    "model_to_use = None\n",
    "\n",
    "# Configure the training\n",
    "config['DATA_DIR'] = str(data_dir)\n",
    "\n",
    "config['MODEL']['DEVICE'] = \"cuda\"\n",
    "\n",
    "config['DATALOADER']['NUM_WORKERS'] = 16\n",
    "config['SOLVER']['IMS_PER_BATCH'] = 4\n",
    "\n",
    "# config['SOLVER']['MAX_ITER'] = 300\n",
    "# config['SOLVER']['BASE_LR'] = 0.005\n",
    "# config['SOLVER']['STEPS'] = [120, 200]\n",
    "# config['SOLVER']['CHECKPOINT_PERIOD'] = 100\n",
    "\n",
    "config['SOLVER']"
   ]
  },
  {
   "cell_type": "code",
   "execution_count": 4,
   "metadata": {},
   "outputs": [
    {
     "name": "stderr",
     "output_type": "stream",
     "text": [
      "2018-11-04 12:49:36,845:INFO:root: Training model directory set: /home/hadim/.data/Neural_Network/Maskflow/Shapes/Models/2018.11.04-12:49:36\n",
      "2018-11-04 12:49:36,847:INFO:root: Building the model...\n",
      "2018-11-04 12:49:39,350:INFO:root: Use pretrained weights from https://download.pytorch.org/models/maskrcnn/e2e_mask_rcnn_R_50_FPN_1x.pth\n",
      "2018-11-04 12:49:39,736:INFO:maskrcnn_benchmark.utils.checkpoint: No checkpoint found. Initializing model from scratch\n",
      "2018-11-04 12:49:39,737:INFO:root: Create the data loader.\n",
      "2018-11-04 12:49:39,737:WARNING:maskrcnn_benchmark.data.build: When using more than one image per GPU you may encounter an out-of-memory (OOM) error if your GPU does not have sufficient memory. If this happens, you can reduce SOLVER.IMS_PER_BATCH (for training) or TEST.IMS_PER_BATCH (for inference). For training, you must also adjust the learning rate and schedule length according to the linear scaling rule. See for example: https://github.com/facebookresearch/Detectron/blob/master/configs/getting_started/tutorial_1gpu_e2e_faster_rcnn_R-50-FPN.yaml#L14\n",
      "2018-11-04 12:49:39,763:INFO:root: Model ready to be use.\n"
     ]
    },
    {
     "name": "stdout",
     "output_type": "stream",
     "text": [
      "loading annotations into memory...\n",
      "Done (t=0.01s)\n",
      "creating index...\n",
      "index created!\n"
     ]
    }
   ],
   "source": [
    "# Setup training\n",
    "training_args, current_model_path = maskflow.training.build_model(config,\n",
    "                                                                  model_dir,\n",
    "                                                                  use_last_model=use_last_model,\n",
    "                                                                  model_to_use=model_to_use,\n",
    "                                                                  use_pretrained_weights=True)"
   ]
  },
  {
   "cell_type": "code",
   "execution_count": 5,
   "metadata": {},
   "outputs": [
    {
     "name": "stderr",
     "output_type": "stream",
     "text": [
      "2018-11-04 12:49:39,787:INFO:root: Start training at iteration 0\n",
      "2018-11-04 12:49:39,788:INFO:maskrcnn_benchmark.trainer: Start training\n",
      "2018-11-04 12:49:40,908:INFO:maskrcnn_benchmark.trainer: eta: 0:05:35  iter: 0  loss: 5.2847 (5.2847)  loss_classifier: 1.2148 (1.2148)  loss_box_reg: 0.0421 (0.0421)  loss_mask: 3.6823 (3.6823)  loss_objectness: 0.2743 (0.2743)  loss_rpn_box_reg: 0.0711 (0.0711)  time: 1.1185 (1.1185)  data: 0.6912 (0.6912)  lr: 0.001650  max mem: 777\n",
      "2018-11-04 12:49:49,747:INFO:maskrcnn_benchmark.trainer: eta: 0:02:12  iter: 20  loss: 1.0666 (1.5245)  loss_classifier: 0.1279 (0.2207)  loss_box_reg: 0.0487 (0.0548)  loss_mask: 0.5460 (0.9113)  loss_objectness: 0.2003 (0.2689)  loss_rpn_box_reg: 0.0513 (0.0688)  time: 0.4435 (0.4742)  data: 0.0007 (0.0391)  lr: 0.001784  max mem: 1252\n",
      "2018-11-04 12:49:58,387:INFO:maskrcnn_benchmark.trainer: eta: 0:01:57  iter: 40  loss: 0.7147 (1.1367)  loss_classifier: 0.1034 (0.1673)  loss_box_reg: 0.0440 (0.0587)  loss_mask: 0.3874 (0.6588)  loss_objectness: 0.0954 (0.1910)  loss_rpn_box_reg: 0.0337 (0.0609)  time: 0.4113 (0.4536)  data: 0.0007 (0.0229)  lr: 0.001918  max mem: 1414\n",
      "2018-11-04 12:50:08,067:INFO:maskrcnn_benchmark.trainer: eta: 0:01:51  iter: 60  loss: 0.6748 (0.9885)  loss_classifier: 0.1240 (0.1557)  loss_box_reg: 0.0747 (0.0691)  loss_mask: 0.3346 (0.5511)  loss_objectness: 0.0720 (0.1578)  loss_rpn_box_reg: 0.0260 (0.0548)  time: 0.5047 (0.4636)  data: 0.0003 (0.0179)  lr: 0.002052  max mem: 1527\n",
      "2018-11-04 12:50:19,323:INFO:maskrcnn_benchmark.trainer: eta: 0:01:47  iter: 80  loss: 0.6530 (0.9073)  loss_classifier: 0.1636 (0.1588)  loss_box_reg: 0.1522 (0.0892)  loss_mask: 0.2490 (0.4773)  loss_objectness: 0.0519 (0.1317)  loss_rpn_box_reg: 0.0314 (0.0502)  time: 0.5733 (0.4881)  data: 0.0003 (0.0145)  lr: 0.002186  max mem: 1722\n",
      "2018-11-04 12:50:30,277:INFO:maskrcnn_benchmark.trainer: eta: 0:01:39  iter: 100  loss: 0.4924 (0.8264)  loss_classifier: 0.1288 (0.1538)  loss_box_reg: 0.1500 (0.1017)  loss_mask: 0.1435 (0.4136)  loss_objectness: 0.0256 (0.1119)  loss_rpn_box_reg: 0.0216 (0.0455)  time: 0.5647 (0.4999)  data: 0.0003 (0.0124)  lr: 0.002320  max mem: 1816\n",
      "2018-11-04 12:50:30,278:INFO:maskrcnn_benchmark.utils.checkpoint: Saving checkpoint to /home/hadim/.data/Neural_Network/Maskflow/Shapes/Models/2018.11.04-12:49:36/model_0000100.pth\n",
      "2018-11-04 12:50:42,157:INFO:maskrcnn_benchmark.trainer: eta: 0:01:32  iter: 120  loss: 0.3613 (0.7508)  loss_classifier: 0.0897 (0.1427)  loss_box_reg: 0.1223 (0.1041)  loss_mask: 0.1116 (0.3656)  loss_objectness: 0.0143 (0.0959)  loss_rpn_box_reg: 0.0174 (0.0425)  time: 0.6052 (0.5154)  data: 0.0003 (0.0147)  lr: 0.000245  max mem: 1816\n",
      "2018-11-04 12:50:54,343:INFO:maskrcnn_benchmark.trainer: eta: 0:01:24  iter: 140  loss: 0.3043 (0.6883)  loss_classifier: 0.0610 (0.1328)  loss_box_reg: 0.0904 (0.1036)  loss_mask: 0.0926 (0.3280)  loss_objectness: 0.0100 (0.0841)  loss_rpn_box_reg: 0.0134 (0.0398)  time: 0.5894 (0.5287)  data: 0.0003 (0.0133)  lr: 0.000259  max mem: 1850\n",
      "2018-11-04 12:51:06,206:INFO:maskrcnn_benchmark.trainer: eta: 0:01:15  iter: 160  loss: 0.2708 (0.6392)  loss_classifier: 0.0723 (0.1252)  loss_box_reg: 0.0951 (0.1026)  loss_mask: 0.0979 (0.2992)  loss_objectness: 0.0120 (0.0752)  loss_rpn_box_reg: 0.0128 (0.0370)  time: 0.6152 (0.5367)  data: 0.0003 (0.0123)  lr: 0.000272  max mem: 1850\n",
      "2018-11-04 12:51:17,825:INFO:maskrcnn_benchmark.trainer: eta: 0:01:04  iter: 180  loss: 0.2520 (0.5970)  loss_classifier: 0.0590 (0.1182)  loss_box_reg: 0.0776 (0.0997)  loss_mask: 0.0796 (0.2760)  loss_objectness: 0.0078 (0.0679)  loss_rpn_box_reg: 0.0069 (0.0350)  time: 0.6217 (0.5416)  data: 0.0003 (0.0114)  lr: 0.000286  max mem: 1850\n",
      "2018-11-04 12:51:29,949:INFO:maskrcnn_benchmark.trainer: eta: 0:00:54  iter: 200  loss: 0.2507 (0.5623)  loss_classifier: 0.0584 (0.1122)  loss_box_reg: 0.0650 (0.0964)  loss_mask: 0.0848 (0.2579)  loss_objectness: 0.0109 (0.0623)  loss_rpn_box_reg: 0.0120 (0.0335)  time: 0.6182 (0.5481)  data: 0.0003 (0.0111)  lr: 0.000030  max mem: 1856\n",
      "2018-11-04 12:51:29,952:INFO:maskrcnn_benchmark.utils.checkpoint: Saving checkpoint to /home/hadim/.data/Neural_Network/Maskflow/Shapes/Models/2018.11.04-12:49:36/model_0000200.pth\n",
      "2018-11-04 12:51:41,630:INFO:maskrcnn_benchmark.trainer: eta: 0:00:44  iter: 220  loss: 0.2161 (0.5326)  loss_classifier: 0.0508 (0.1071)  loss_box_reg: 0.0564 (0.0931)  loss_mask: 0.0813 (0.2423)  loss_objectness: 0.0100 (0.0578)  loss_rpn_box_reg: 0.0101 (0.0325)  time: 0.5608 (0.5513)  data: 0.0003 (0.0127)  lr: 0.000031  max mem: 1856\n",
      "2018-11-04 12:51:52,932:INFO:maskrcnn_benchmark.trainer: eta: 0:00:33  iter: 240  loss: 0.2255 (0.5080)  loss_classifier: 0.0484 (0.1027)  loss_box_reg: 0.0584 (0.0902)  loss_mask: 0.0817 (0.2298)  loss_objectness: 0.0081 (0.0538)  loss_rpn_box_reg: 0.0188 (0.0314)  time: 0.5672 (0.5525)  data: 0.0003 (0.0120)  lr: 0.000033  max mem: 1856\n",
      "2018-11-04 12:52:04,585:INFO:maskrcnn_benchmark.trainer: eta: 0:00:22  iter: 260  loss: 0.2253 (0.4878)  loss_classifier: 0.0579 (0.0996)  loss_box_reg: 0.0635 (0.0880)  loss_mask: 0.0860 (0.2193)  loss_objectness: 0.0072 (0.0505)  loss_rpn_box_reg: 0.0158 (0.0304)  time: 0.5904 (0.5548)  data: 0.0003 (0.0115)  lr: 0.000034  max mem: 1856\n",
      "2018-11-04 12:52:16,020:INFO:maskrcnn_benchmark.trainer: eta: 0:00:11  iter: 280  loss: 0.2222 (0.4692)  loss_classifier: 0.0525 (0.0965)  loss_box_reg: 0.0625 (0.0862)  loss_mask: 0.0784 (0.2096)  loss_objectness: 0.0047 (0.0476)  loss_rpn_box_reg: 0.0064 (0.0292)  time: 0.5834 (0.5560)  data: 0.0003 (0.0112)  lr: 0.000035  max mem: 1856\n",
      "2018-11-04 12:52:26,547:INFO:maskrcnn_benchmark.trainer: eta: 0:00:00  iter: 299  loss: 0.2149 (0.4534)  loss_classifier: 0.0513 (0.0938)  loss_box_reg: 0.0572 (0.0842)  loss_mask: 0.0735 (0.2016)  loss_objectness: 0.0079 (0.0451)  loss_rpn_box_reg: 0.0109 (0.0286)  time: 0.5653 (0.5559)  data: 0.0003 (0.0106)  lr: 0.000037  max mem: 1856\n",
      "2018-11-04 12:52:26,835:INFO:maskrcnn_benchmark.utils.checkpoint: Saving checkpoint to /home/hadim/.data/Neural_Network/Maskflow/Shapes/Models/2018.11.04-12:49:36/model_0000299.pth\n",
      "2018-11-04 12:52:27,210:INFO:maskrcnn_benchmark.trainer: Total training time: 0:02:47.420390 (0.5581 s / it)\n"
     ]
    }
   ],
   "source": [
    "# Train\n",
    "from maskrcnn_benchmark.engine.trainer import do_train\n",
    "\n",
    "logging.info(f\"Start training at iteration {training_args['arguments']['iteration']}\")\n",
    "do_train(**training_args)"
   ]
  },
  {
   "cell_type": "code",
   "execution_count": null,
   "metadata": {},
   "outputs": [],
   "source": []
  }
 ],
 "metadata": {
  "kernelspec": {
   "display_name": "Python [conda env:nn]",
   "language": "python",
   "name": "conda-env-nn-py"
  },
  "language_info": {
   "codemirror_mode": {
    "name": "ipython",
    "version": 3
   },
   "file_extension": ".py",
   "mimetype": "text/x-python",
   "name": "python",
   "nbconvert_exporter": "python",
   "pygments_lexer": "ipython3",
   "version": "3.6.6"
  }
 },
 "nbformat": 4,
 "nbformat_minor": 2
}
