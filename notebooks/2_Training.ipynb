{
 "cells": [
  {
   "cell_type": "markdown",
   "metadata": {},
   "source": [
    "# Training\n",
    "\n",
    "- Use this notebook after you've built your dataset to train the model.\n",
    "- Training will create a model directory with:\n",
    "    - `model_0000XXX.pth`: weights that are regularly saved during training\n",
    "    - `config.yaml`: the model configuration used during the last training performed.\n",
    "    - `training.log`: a log file that contains all the logs displayed in the notebook during training (useful if you close your notebook during a long training session)."
   ]
  },
  {
   "cell_type": "code",
   "execution_count": 1,
   "metadata": {},
   "outputs": [
    {
     "name": "stdout",
     "output_type": "stream",
     "text": [
      "env: CUDA_VISIBLE_DEVICES=0\n"
     ]
    }
   ],
   "source": [
    "%env CUDA_VISIBLE_DEVICES=0\n",
    "%load_ext autoreload\n",
    "%autoreload 2\n",
    "%matplotlib inline\n",
    "\n",
    "from pathlib import Path\n",
    "import logging\n",
    "\n",
    "import matplotlib.pyplot as plt\n",
    "import numpy as np\n",
    "\n",
    "import sys; sys.path.append(\"../\")\n",
    "import maskflow\n",
    "\n",
    "root_dir = Path(\"/home/hadim/.data/Neural_Network/Maskflow/Shapes\")\n",
    "data_dir = root_dir / \"Data\"\n",
    "model_dir = root_dir / \"Models\"\n",
    "model_dir.mkdir(exist_ok=True)\n",
    "\n",
    "# Import the configuration associated with this dataset and network.\n",
    "config = maskflow.config.load_config(root_dir / \"config.yaml\")"
   ]
  },
  {
   "cell_type": "markdown",
   "metadata": {},
   "source": [
    "## Check Dataset"
   ]
  },
  {
   "cell_type": "code",
   "execution_count": 2,
   "metadata": {},
   "outputs": [
    {
     "name": "stdout",
     "output_type": "stream",
     "text": [
      "loading annotations into memory...\n",
      "Done (t=0.01s)\n",
      "creating index...\n",
      "index created!\n"
     ]
    },
    {
     "data": {
      "image/png": "[encoded data removed]",
      "text/plain": [
       "<Figure size 1008x216 with 4 Axes>"
      ]
     },
     "metadata": {
      "needs_background": "light"
     },
     "output_type": "display_data"
    }
   ],
   "source": [
    "config['SOLVER']['IMS_PER_BATCH'] = 1\n",
    "\n",
    "# Load some data\n",
    "data_loader = maskflow.dataset.get_data_loader(config, data_dir, is_train=True)\n",
    "some_data = [iter(data_loader).next() for _ in range(1)]\n",
    "\n",
    "# Retrieve category's names\n",
    "categories = data_loader.dataset.coco.cats\n",
    "\n",
    "for batch_image, batch_target, batch_idx in some_data:\n",
    "    maskflow.viz.batch_display_top_masks(batch_image, batch_target, batch_idx, categories,\n",
    "                                         basesize=14, limit=3, cmap=\"PuBu_r\")"
   ]
  },
  {
   "cell_type": "markdown",
   "metadata": {},
   "source": [
    "## Training"
   ]
  },
  {
   "cell_type": "code",
   "execution_count": 5,
   "metadata": {},
   "outputs": [
    {
     "data": {
      "text/plain": [
       "CfgNode({'MAX_ITER': 300, 'BASE_LR': 0.005, 'BIAS_LR_FACTOR': 2, 'MOMENTUM': 0.9, 'WEIGHT_DECAY': 0.0001, 'WEIGHT_DECAY_BIAS': 0, 'GAMMA': 0.1, 'STEPS': [120, 200], 'WARMUP_FACTOR': 0.33, 'WARMUP_ITERS': 500, 'WARMUP_METHOD': 'linear', 'CHECKPOINT_PERIOD': 100, 'IMS_PER_BATCH': 4})"
      ]
     },
     "execution_count": 5,
     "metadata": {},
     "output_type": "execute_result"
    }
   ],
   "source": [
    "# Use the last model in the model dir\n",
    "# If False, create a new model from scratch.\n",
    "# If `model_to_use` is set, we use this one instead.\n",
    "use_last_model = True\n",
    "model_to_use = None\n",
    "\n",
    "# Configure the training\n",
    "config['DATA_DIR'] = str(data_dir)\n",
    "\n",
    "config['MODEL']['DEVICE'] = \"cuda\"\n",
    "\n",
    "config['DATALOADER']['NUM_WORKERS'] = 16\n",
    "config['SOLVER']['IMS_PER_BATCH'] = 4\n",
    "\n",
    "# config['SOLVER']['MAX_ITER'] = 300\n",
    "# config['SOLVER']['BASE_LR'] = 0.005\n",
    "# config['SOLVER']['STEPS'] = [120, 200]\n",
    "# config['SOLVER']['CHECKPOINT_PERIOD'] = 100\n",
    "\n",
    "config['SOLVER']"
   ]
  },
  {
   "cell_type": "code",
   "execution_count": 6,
   "metadata": {},
   "outputs": [
    {
     "name": "stderr",
     "output_type": "stream",
     "text": [
      "2018-11-04 11:20:22,084:INFO:root: Training model directory set: /home/hadim/.data/Neural_Network/Maskflow/Shapes/Models/2018.11.04-11:20:22\n",
      "2018-11-04 11:20:22,085:INFO:root: Building the model...\n",
      "2018-11-04 11:20:22,637:INFO:root: Use pretrained weights from https://download.pytorch.org/models/maskrcnn/e2e_mask_rcnn_R_50_FPN_1x.pth\n",
      "2018-11-04 11:20:22,928:INFO:maskrcnn_benchmark.utils.checkpoint: No checkpoint found. Initializing model from scratch\n",
      "2018-11-04 11:20:22,928:INFO:root: Create the data loader.\n",
      "2018-11-04 11:20:22,929:WARNING:maskrcnn_benchmark.data.build: When using more than one image per GPU you may encounter an out-of-memory (OOM) error if your GPU does not have sufficient memory. If this happens, you can reduce SOLVER.IMS_PER_BATCH (for training) or TEST.IMS_PER_BATCH (for inference). For training, you must also adjust the learning rate and schedule length according to the linear scaling rule. See for example: https://github.com/facebookresearch/Detectron/blob/master/configs/getting_started/tutorial_1gpu_e2e_faster_rcnn_R-50-FPN.yaml#L14\n",
      "2018-11-04 11:20:22,954:INFO:root: Model ready to be use.\n"
     ]
    },
    {
     "name": "stdout",
     "output_type": "stream",
     "text": [
      "loading annotations into memory...\n",
      "Done (t=0.01s)\n",
      "creating index...\n",
      "index created!\n"
     ]
    }
   ],
   "source": [
    "# Setup training\n",
    "training_args, current_model_path = maskflow.training.build_model(config,\n",
    "                                                                  model_dir,\n",
    "                                                                  use_last_model=use_last_model,\n",
    "                                                                  model_to_use=model_to_use,\n",
    "                                                                  use_pretrained_weights=True)"
   ]
  },
  {
   "cell_type": "code",
   "execution_count": 7,
   "metadata": {},
   "outputs": [
    {
     "name": "stderr",
     "output_type": "stream",
     "text": [
      "2018-11-04 11:20:23,753:INFO:root: Start training at iteration 0\n",
      "2018-11-04 11:20:23,754:INFO:maskrcnn_benchmark.trainer: Start training\n",
      "2018-11-04 11:20:24,727:INFO:maskrcnn_benchmark.trainer: eta: 0:04:51  iter: 0  loss: 5.9222 (5.9222)  loss_classifier: 1.2669 (1.2669)  loss_box_reg: 0.0234 (0.0234)  loss_mask: 3.6388 (3.6388)  loss_objectness: 0.6121 (0.6121)  loss_rpn_box_reg: 0.3810 (0.3810)  time: 0.9704 (0.9704)  data: 0.5883 (0.5883)  lr: 0.001650  max mem: 714\n",
      "2018-11-04 11:20:33,886:INFO:maskrcnn_benchmark.trainer: eta: 0:02:15  iter: 20  loss: 0.6833 (1.1628)  loss_classifier: 0.1296 (0.2126)  loss_box_reg: 0.0488 (0.0557)  loss_mask: 0.2306 (0.5138)  loss_objectness: 0.0752 (0.1275)  loss_rpn_box_reg: 0.1663 (0.2534)  time: 0.4514 (0.4824)  data: 0.0003 (0.0367)  lr: 0.001784  max mem: 1435\n",
      "2018-11-04 11:20:43,825:INFO:maskrcnn_benchmark.trainer: eta: 0:02:07  iter: 40  loss: 0.5527 (0.8608)  loss_classifier: 0.1135 (0.1661)  loss_box_reg: 0.0902 (0.0741)  loss_mask: 0.1531 (0.3412)  loss_objectness: 0.0487 (0.0932)  loss_rpn_box_reg: 0.1004 (0.1862)  time: 0.5170 (0.4895)  data: 0.0003 (0.0213)  lr: 0.001918  max mem: 1512\n",
      "2018-11-04 11:20:54,029:INFO:maskrcnn_benchmark.trainer: eta: 0:01:59  iter: 60  loss: 0.4155 (0.7226)  loss_classifier: 0.0860 (0.1414)  loss_box_reg: 0.0758 (0.0770)  loss_mask: 0.1280 (0.2711)  loss_objectness: 0.0354 (0.0765)  loss_rpn_box_reg: 0.0888 (0.1566)  time: 0.5284 (0.4963)  data: 0.0003 (0.0166)  lr: 0.002052  max mem: 1598\n",
      "2018-11-04 11:21:04,954:INFO:maskrcnn_benchmark.trainer: eta: 0:01:51  iter: 80  loss: 0.3487 (0.6333)  loss_classifier: 0.0662 (0.1234)  loss_box_reg: 0.0618 (0.0744)  loss_mask: 0.1071 (0.2319)  loss_objectness: 0.0306 (0.0656)  loss_rpn_box_reg: 0.0576 (0.1380)  time: 0.5530 (0.5086)  data: 0.0004 (0.0139)  lr: 0.002186  max mem: 1641\n",
      "2018-11-04 11:21:15,793:INFO:maskrcnn_benchmark.trainer: eta: 0:01:43  iter: 100  loss: 0.3034 (0.5701)  loss_classifier: 0.0537 (0.1089)  loss_box_reg: 0.0536 (0.0697)  loss_mask: 0.1025 (0.2075)  loss_objectness: 0.0224 (0.0579)  loss_rpn_box_reg: 0.0675 (0.1261)  time: 0.5449 (0.5152)  data: 0.0003 (0.0128)  lr: 0.002320  max mem: 1641\n",
      "2018-11-04 11:21:15,795:INFO:maskrcnn_benchmark.utils.checkpoint: Saving checkpoint to /home/hadim/.data/Neural_Network/Maskflow/Shapes/Models/2018.11.04-11:20:22/model_0000100.pth\n",
      "2018-11-04 11:21:26,718:INFO:maskrcnn_benchmark.trainer: eta: 0:01:33  iter: 120  loss: 0.2982 (0.5260)  loss_classifier: 0.0449 (0.0976)  loss_box_reg: 0.0317 (0.0635)  loss_mask: 0.1063 (0.1904)  loss_objectness: 0.0253 (0.0529)  loss_rpn_box_reg: 0.0883 (0.1217)  time: 0.5586 (0.5203)  data: 0.0004 (0.0156)  lr: 0.000245  max mem: 1641\n",
      "2018-11-04 11:21:37,491:INFO:maskrcnn_benchmark.trainer: eta: 0:01:23  iter: 140  loss: 0.2468 (0.4900)  loss_classifier: 0.0395 (0.0896)  loss_box_reg: 0.0235 (0.0584)  loss_mask: 0.1007 (0.1784)  loss_objectness: 0.0188 (0.0483)  loss_rpn_box_reg: 0.0632 (0.1152)  time: 0.5431 (0.5229)  data: 0.0003 (0.0144)  lr: 0.000259  max mem: 1641\n",
      "2018-11-04 11:21:48,040:INFO:maskrcnn_benchmark.trainer: eta: 0:01:13  iter: 160  loss: 0.2262 (0.4604)  loss_classifier: 0.0369 (0.0829)  loss_box_reg: 0.0237 (0.0540)  loss_mask: 0.0993 (0.1689)  loss_objectness: 0.0210 (0.0451)  loss_rpn_box_reg: 0.0424 (0.1096)  time: 0.5539 (0.5235)  data: 0.0005 (0.0133)  lr: 0.000272  max mem: 1641\n",
      "2018-11-04 11:21:58,670:INFO:maskrcnn_benchmark.trainer: eta: 0:01:02  iter: 180  loss: 0.2432 (0.4359)  loss_classifier: 0.0350 (0.0777)  loss_box_reg: 0.0219 (0.0504)  loss_mask: 0.0946 (0.1608)  loss_objectness: 0.0214 (0.0425)  loss_rpn_box_reg: 0.0652 (0.1046)  time: 0.5534 (0.5244)  data: 0.0004 (0.0127)  lr: 0.000286  max mem: 1641\n",
      "2018-11-04 11:22:09,568:INFO:maskrcnn_benchmark.trainer: eta: 0:00:52  iter: 200  loss: 0.2277 (0.4175)  loss_classifier: 0.0333 (0.0734)  loss_box_reg: 0.0202 (0.0475)  loss_mask: 0.0964 (0.1543)  loss_objectness: 0.0204 (0.0405)  loss_rpn_box_reg: 0.0570 (0.1017)  time: 0.5514 (0.5264)  data: 0.0003 (0.0119)  lr: 0.000030  max mem: 1641\n",
      "2018-11-04 11:22:09,570:INFO:maskrcnn_benchmark.utils.checkpoint: Saving checkpoint to /home/hadim/.data/Neural_Network/Maskflow/Shapes/Models/2018.11.04-11:20:22/model_0000200.pth\n",
      "2018-11-04 11:22:20,756:INFO:maskrcnn_benchmark.trainer: eta: 0:00:42  iter: 220  loss: 0.2129 (0.4005)  loss_classifier: 0.0340 (0.0699)  loss_box_reg: 0.0188 (0.0451)  loss_mask: 0.0945 (0.1486)  loss_objectness: 0.0209 (0.0388)  loss_rpn_box_reg: 0.0605 (0.0982)  time: 0.5584 (0.5294)  data: 0.0006 (0.0138)  lr: 0.000031  max mem: 1641\n",
      "2018-11-04 11:22:31,180:INFO:maskrcnn_benchmark.trainer: eta: 0:00:31  iter: 240  loss: 0.2054 (0.3860)  loss_classifier: 0.0342 (0.0669)  loss_box_reg: 0.0223 (0.0431)  loss_mask: 0.0953 (0.1442)  loss_objectness: 0.0187 (0.0372)  loss_rpn_box_reg: 0.0465 (0.0946)  time: 0.5468 (0.5287)  data: 0.0003 (0.0131)  lr: 0.000033  max mem: 1641\n",
      "2018-11-04 11:22:41,968:INFO:maskrcnn_benchmark.trainer: eta: 0:00:21  iter: 260  loss: 0.2197 (0.3752)  loss_classifier: 0.0341 (0.0645)  loss_box_reg: 0.0199 (0.0414)  loss_mask: 0.0979 (0.1405)  loss_objectness: 0.0229 (0.0362)  loss_rpn_box_reg: 0.0589 (0.0926)  time: 0.5533 (0.5295)  data: 0.0003 (0.0127)  lr: 0.000034  max mem: 1641\n",
      "2018-11-04 11:22:52,267:INFO:maskrcnn_benchmark.trainer: eta: 0:00:10  iter: 280  loss: 0.2144 (0.3645)  loss_classifier: 0.0332 (0.0623)  loss_box_reg: 0.0213 (0.0399)  loss_mask: 0.0955 (0.1373)  loss_objectness: 0.0175 (0.0351)  loss_rpn_box_reg: 0.0321 (0.0899)  time: 0.5365 (0.5285)  data: 0.0004 (0.0122)  lr: 0.000035  max mem: 1641\n",
      "2018-11-04 11:23:02,428:INFO:maskrcnn_benchmark.trainer: eta: 0:00:00  iter: 299  loss: 0.2276 (0.3557)  loss_classifier: 0.0338 (0.0604)  loss_box_reg: 0.0218 (0.0387)  loss_mask: 0.0937 (0.1346)  loss_objectness: 0.0200 (0.0340)  loss_rpn_box_reg: 0.0542 (0.0880)  time: 0.5574 (0.5289)  data: 0.0003 (0.0118)  lr: 0.000037  max mem: 1641\n",
      "2018-11-04 11:23:02,723:INFO:maskrcnn_benchmark.utils.checkpoint: Saving checkpoint to /home/hadim/.data/Neural_Network/Maskflow/Shapes/Models/2018.11.04-11:20:22/model_0000299.pth\n",
      "2018-11-04 11:23:03,111:INFO:maskrcnn_benchmark.trainer: Total training time: 0:02:39.355088 (0.5312 s / it)\n"
     ]
    }
   ],
   "source": [
    "# Train\n",
    "from maskrcnn_benchmark.engine.trainer import do_train\n",
    "\n",
    "logging.info(f\"Start training at iteration {training_args['arguments']['iteration']}\")\n",
    "do_train(**training_args)"
   ]
  },
  {
   "cell_type": "code",
   "execution_count": null,
   "metadata": {},
   "outputs": [],
   "source": []
  }
 ],
 "metadata": {
  "kernelspec": {
   "display_name": "Python [conda env:nn]",
   "language": "python",
   "name": "conda-env-nn-py"
  },
  "language_info": {
   "codemirror_mode": {
    "name": "ipython",
    "version": 3
   },
   "file_extension": ".py",
   "mimetype": "text/x-python",
   "name": "python",
   "nbconvert_exporter": "python",
   "pygments_lexer": "ipython3",
   "version": "3.6.6"
  }
 },
 "nbformat": 4,
 "nbformat_minor": 2
}
