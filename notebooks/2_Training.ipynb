{
 "cells": [
  {
   "cell_type": "markdown",
   "metadata": {},
   "source": [
    "# Training"
   ]
  },
  {
   "cell_type": "code",
   "execution_count": 1,
   "metadata": {},
   "outputs": [
    {
     "name": "stdout",
     "output_type": "stream",
     "text": [
      "env: CUDA_VISIBLE_DEVICES=0\n"
     ]
    }
   ],
   "source": [
    "%env CUDA_VISIBLE_DEVICES=0\n",
    "%load_ext autoreload\n",
    "%autoreload 2\n",
    "%matplotlib inline\n",
    "\n",
    "from pathlib import Path\n",
    "import logging\n",
    "\n",
    "import matplotlib.pyplot as plt\n",
    "import numpy as np\n",
    "\n",
    "import sys; sys.path.append(\"../\")\n",
    "import maskflow\n",
    "\n",
    "root_dir = Path(\"/home/hadim/.data/Neural_Network/Maskflow/Shapes\")\n",
    "data_dir = root_dir / \"Data\"\n",
    "model_dir = root_dir / \"Models\"\n",
    "model_dir.mkdir(exist_ok=True)\n",
    "\n",
    "# Import the configuration associated with this dataset and network.\n",
    "config = maskflow.config.load_config(root_dir / \"config.yaml\")"
   ]
  },
  {
   "cell_type": "markdown",
   "metadata": {},
   "source": [
    "## Check Dataset"
   ]
  },
  {
   "cell_type": "code",
   "execution_count": 2,
   "metadata": {},
   "outputs": [
    {
     "name": "stderr",
     "output_type": "stream",
     "text": [
      "2018-11-03 16:08:03,855:WARNING:maskrcnn_benchmark.data.build: When using more than one image per GPU you may encounter an out-of-memory (OOM) error if your GPU does not have sufficient memory. If this happens, you can reduce SOLVER.IMS_PER_BATCH (for training) or TEST.IMS_PER_BATCH (for inference). For training, you must also adjust the learning rate and schedule length according to the linear scaling rule. See for example: https://github.com/facebookresearch/Detectron/blob/master/configs/getting_started/tutorial_1gpu_e2e_faster_rcnn_R-50-FPN.yaml#L14\n"
     ]
    },
    {
     "name": "stdout",
     "output_type": "stream",
     "text": [
      "loading annotations into memory...\n",
      "Done (t=0.01s)\n",
      "creating index...\n",
      "index created!\n"
     ]
    },
    {
     "data": {
      "image/png": "[encoded data removed]",
      "text/plain": [
       "<Figure size 1008x216 with 4 Axes>"
      ]
     },
     "metadata": {
      "needs_background": "light"
     },
     "output_type": "display_data"
    },
    {
     "data": {
      "image/png": "[encoded data removed]",
      "text/plain": [
       "<Figure size 1008x216 with 4 Axes>"
      ]
     },
     "metadata": {
      "needs_background": "light"
     },
     "output_type": "display_data"
    }
   ],
   "source": [
    "config['SOLVER']['IMS_PER_BATCH'] = 2\n",
    "config['TEST']['IMS_PER_BATCH'] = 2\n",
    "\n",
    "# Load some data\n",
    "data_loader = maskflow.dataset.get_data_loader(config, data_dir, is_train=True)\n",
    "some_data = [iter(data_loader).next() for _ in range(1)]\n",
    "\n",
    "# Retrieve category's names\n",
    "categories = data_loader.dataset.coco.cats\n",
    "\n",
    "for batch_image, batch_target, batch_idx in some_data:\n",
    "    maskflow.viz.batch_display_top_masks(batch_image, batch_target, batch_idx, categories,\n",
    "                                         basesize=14, limit=3, cmap=\"PuBu_r\")"
   ]
  },
  {
   "cell_type": "markdown",
   "metadata": {},
   "source": [
    "## Training"
   ]
  },
  {
   "cell_type": "code",
   "execution_count": 3,
   "metadata": {},
   "outputs": [],
   "source": [
    "# Use the last model in the model dir\n",
    "# If False, create a new model from scratch.\n",
    "# If `model_to_use` is set, we use this one instead.\n",
    "use_last_model = True\n",
    "model_to_use = None\n",
    "\n",
    "# Configure the training\n",
    "config['DATA_DIR'] = str(data_dir)\n",
    "\n",
    "config['MODEL']['DEVICE'] = \"cuda\"\n",
    "\n",
    "config['DATALOADER']['NUM_WORKERS'] = 16\n",
    "config['SOLVER']['IMS_PER_BATCH'] = 8\n",
    "\n",
    "config['SOLVER']['MAX_ITER'] = 5000\n",
    "config['SOLVER']['BASE_LR'] = 0.001\n",
    "config['SOLVER']['STEPS'] = [40, 80]\n",
    "config['SOLVER']['CHECKPOINT_PERIOD'] = 50"
   ]
  },
  {
   "cell_type": "code",
   "execution_count": null,
   "metadata": {},
   "outputs": [
    {
     "name": "stderr",
     "output_type": "stream",
     "text": [
      "2018-11-03 16:08:08,823:INFO:root: Training model directory set: /home/hadim/.data/Neural_Network/Maskflow/Shapes/Models/2018.11.03-16:03:47\n",
      "2018-11-03 16:08:08,824:INFO:root: Building the model...\n",
      "2018-11-03 16:08:11,348:INFO:maskrcnn_benchmark.utils.checkpoint: No checkpoint found. Initializing model from scratch\n",
      "2018-11-03 16:08:11,349:INFO:root: Create the data loader.\n",
      "2018-11-03 16:08:11,350:WARNING:maskrcnn_benchmark.data.build: When using more than one image per GPU you may encounter an out-of-memory (OOM) error if your GPU does not have sufficient memory. If this happens, you can reduce SOLVER.IMS_PER_BATCH (for training) or TEST.IMS_PER_BATCH (for inference). For training, you must also adjust the learning rate and schedule length according to the linear scaling rule. See for example: https://github.com/facebookresearch/Detectron/blob/master/configs/getting_started/tutorial_1gpu_e2e_faster_rcnn_R-50-FPN.yaml#L14\n",
      "2018-11-03 16:08:11,373:INFO:root: Model ready to be use.\n",
      "2018-11-03 16:08:11,376:INFO:root: Start training at iteration 0\n",
      "2018-11-03 16:08:11,376:INFO:maskrcnn_benchmark.trainer: Start training\n"
     ]
    },
    {
     "name": "stdout",
     "output_type": "stream",
     "text": [
      "loading annotations into memory...\n",
      "Done (t=0.01s)\n",
      "creating index...\n",
      "index created!\n"
     ]
    },
    {
     "name": "stderr",
     "output_type": "stream",
     "text": [
      "2018-11-03 16:08:12,582:INFO:maskrcnn_benchmark.trainer: eta: 1:40:18  iter: 0  loss: 21.4821 (21.4821)  loss_classifier: 2.2010 (2.2010)  loss_box_reg: 0.0093 (0.0093)  loss_mask: 17.5031 (17.5031)  loss_objectness: 0.7521 (0.7521)  loss_rpn_box_reg: 1.0165 (1.0165)  time: 1.2036 (1.2036)  data: 0.7267 (0.7267)  lr: 0.000330  max mem: 836\n",
      "2018-11-03 16:08:22,678:INFO:maskrcnn_benchmark.trainer: eta: 0:44:39  iter: 20  loss: 4.6097 (6.3245)  loss_classifier: 0.4606 (0.6002)  loss_box_reg: 0.0081 (0.0094)  loss_mask: 3.2332 (4.7844)  loss_objectness: 0.3807 (0.4391)  loss_rpn_box_reg: 0.4622 (0.4914)  time: 0.5056 (0.5381)  data: 0.0005 (0.0481)  lr: 0.000357  max mem: 1169\n",
      "2018-11-03 16:08:33,143:INFO:maskrcnn_benchmark.trainer: eta: 0:43:52  iter: 40  loss: 1.8605 (4.1797)  loss_classifier: 0.3595 (0.4912)  loss_box_reg: 0.0181 (0.0157)  loss_mask: 0.7581 (2.8712)  loss_objectness: 0.3348 (0.3857)  loss_rpn_box_reg: 0.3276 (0.4159)  time: 0.5241 (0.5308)  data: 0.0006 (0.0325)  lr: 0.000038  max mem: 1290\n",
      "2018-11-03 16:08:38,335:INFO:maskrcnn_benchmark.utils.checkpoint: Saving checkpoint to /home/hadim/.data/Neural_Network/Maskflow/Shapes/Models/2018.11.03-16:03:47/model_0000050.pth\n",
      "2018-11-03 16:08:43,886:INFO:maskrcnn_benchmark.trainer: eta: 0:43:52  iter: 60  loss: 1.4048 (3.2783)  loss_classifier: 0.1937 (0.3929)  loss_box_reg: 0.0279 (0.0213)  loss_mask: 0.6072 (2.1337)  loss_objectness: 0.3089 (0.3606)  loss_rpn_box_reg: 0.2669 (0.3698)  time: 0.5144 (0.5329)  data: 0.0005 (0.0328)  lr: 0.000041  max mem: 1290\n",
      "2018-11-03 16:08:54,984:INFO:maskrcnn_benchmark.trainer: eta: 0:44:08  iter: 80  loss: 1.3230 (2.8050)  loss_classifier: 0.1928 (0.3427)  loss_box_reg: 0.0435 (0.0284)  loss_mask: 0.5867 (1.7516)  loss_objectness: 0.2995 (0.3440)  loss_rpn_box_reg: 0.2401 (0.3383)  time: 0.5631 (0.5383)  data: 0.0006 (0.0288)  lr: 0.000004  max mem: 1436\n",
      "2018-11-03 16:09:06,546:INFO:maskrcnn_benchmark.trainer: eta: 0:44:36  iter: 100  loss: 1.3908 (2.5186)  loss_classifier: 0.1758 (0.3108)  loss_box_reg: 0.0458 (0.0329)  loss_mask: 0.5903 (1.5201)  loss_objectness: 0.2908 (0.3333)  loss_rpn_box_reg: 0.2202 (0.3214)  time: 0.5619 (0.5462)  data: 0.0006 (0.0254)  lr: 0.000005  max mem: 1436\n",
      "2018-11-03 16:09:06,549:INFO:maskrcnn_benchmark.utils.checkpoint: Saving checkpoint to /home/hadim/.data/Neural_Network/Maskflow/Shapes/Models/2018.11.03-16:03:47/model_0000100.pth\n",
      "2018-11-03 16:09:18,963:INFO:maskrcnn_benchmark.trainer: eta: 0:45:25  iter: 120  loss: 1.3232 (2.3262)  loss_classifier: 0.1778 (0.2887)  loss_box_reg: 0.0530 (0.0365)  loss_mask: 0.5658 (1.3648)  loss_objectness: 0.2896 (0.3261)  loss_rpn_box_reg: 0.2305 (0.3101)  time: 0.6024 (0.5585)  data: 0.0006 (0.0287)  lr: 0.000005  max mem: 1436\n",
      "2018-11-03 16:09:30,363:INFO:maskrcnn_benchmark.trainer: eta: 0:45:22  iter: 140  loss: 1.3213 (2.1816)  loss_classifier: 0.1716 (0.2714)  loss_box_reg: 0.0506 (0.0381)  loss_mask: 0.5691 (1.2514)  loss_objectness: 0.2849 (0.3203)  loss_rpn_box_reg: 0.1999 (0.3004)  time: 0.5752 (0.5602)  data: 0.0005 (0.0259)  lr: 0.000005  max mem: 1436\n",
      "2018-11-03 16:09:36,609:INFO:maskrcnn_benchmark.utils.checkpoint: Saving checkpoint to /home/hadim/.data/Neural_Network/Maskflow/Shapes/Models/2018.11.03-16:03:47/model_0000150.pth\n",
      "2018-11-03 16:09:43,003:INFO:maskrcnn_benchmark.trainer: eta: 0:45:54  iter: 160  loss: 1.3396 (2.0802)  loss_classifier: 0.1822 (0.2613)  loss_box_reg: 0.0554 (0.0403)  loss_mask: 0.5897 (1.1683)  loss_objectness: 0.2995 (0.3166)  loss_rpn_box_reg: 0.2189 (0.2937)  time: 0.6142 (0.5691)  data: 0.0005 (0.0273)  lr: 0.000005  max mem: 1448\n",
      "2018-11-03 16:09:54,099:INFO:maskrcnn_benchmark.trainer: eta: 0:45:35  iter: 180  loss: 1.3206 (1.9972)  loss_classifier: 0.1683 (0.2517)  loss_box_reg: 0.0456 (0.0413)  loss_mask: 0.5740 (1.1030)  loss_objectness: 0.2813 (0.3133)  loss_rpn_box_reg: 0.2429 (0.2879)  time: 0.5775 (0.5675)  data: 0.0005 (0.0259)  lr: 0.000006  max mem: 1448\n",
      "2018-11-03 16:10:06,112:INFO:maskrcnn_benchmark.trainer: eta: 0:45:39  iter: 200  loss: 1.3624 (1.9332)  loss_classifier: 0.1816 (0.2441)  loss_box_reg: 0.0539 (0.0428)  loss_mask: 0.5886 (1.0517)  loss_objectness: 0.2857 (0.3107)  loss_rpn_box_reg: 0.2254 (0.2839)  time: 0.6022 (0.5708)  data: 0.0005 (0.0247)  lr: 0.000006  max mem: 1448\n",
      "2018-11-03 16:10:06,114:INFO:maskrcnn_benchmark.utils.checkpoint: Saving checkpoint to /home/hadim/.data/Neural_Network/Maskflow/Shapes/Models/2018.11.03-16:03:47/model_0000200.pth\n",
      "2018-11-03 16:10:19,212:INFO:maskrcnn_benchmark.trainer: eta: 0:46:04  iter: 220  loss: 1.3303 (1.8789)  loss_classifier: 0.1796 (0.2381)  loss_box_reg: 0.0540 (0.0439)  loss_mask: 0.5823 (1.0085)  loss_objectness: 0.2890 (0.3083)  loss_rpn_box_reg: 0.2537 (0.2801)  time: 0.6562 (0.5784)  data: 0.0005 (0.0252)  lr: 0.000006  max mem: 1448\n",
      "2018-11-03 16:10:30,991:INFO:maskrcnn_benchmark.trainer: eta: 0:45:57  iter: 240  loss: 1.3042 (1.8328)  loss_classifier: 0.1705 (0.2323)  loss_box_reg: 0.0471 (0.0444)  loss_mask: 0.5760 (0.9719)  loss_objectness: 0.2803 (0.3065)  loss_rpn_box_reg: 0.2515 (0.2777)  time: 0.5862 (0.5793)  data: 0.0006 (0.0245)  lr: 0.000007  max mem: 1448\n",
      "2018-11-03 16:10:36,778:INFO:maskrcnn_benchmark.utils.checkpoint: Saving checkpoint to /home/hadim/.data/Neural_Network/Maskflow/Shapes/Models/2018.11.03-16:03:47/model_0000250.pth\n",
      "2018-11-03 16:10:43,742:INFO:maskrcnn_benchmark.trainer: eta: 0:46:07  iter: 260  loss: 1.3283 (1.7944)  loss_classifier: 0.1670 (0.2279)  loss_box_reg: 0.0462 (0.0452)  loss_mask: 0.5484 (0.9401)  loss_objectness: 0.2961 (0.3053)  loss_rpn_box_reg: 0.2517 (0.2759)  time: 0.6139 (0.5838)  data: 0.0005 (0.0257)  lr: 0.000007  max mem: 1448\n",
      "2018-11-03 16:10:56,229:INFO:maskrcnn_benchmark.trainer: eta: 0:46:09  iter: 280  loss: 1.2900 (1.7598)  loss_classifier: 0.1650 (0.2234)  loss_box_reg: 0.0475 (0.0458)  loss_mask: 0.5652 (0.9135)  loss_objectness: 0.2783 (0.3036)  loss_rpn_box_reg: 0.2277 (0.2735)  time: 0.6298 (0.5867)  data: 0.0008 (0.0249)  lr: 0.000007  max mem: 1448\n",
      "2018-11-03 16:11:08,819:INFO:maskrcnn_benchmark.trainer: eta: 0:46:10  iter: 300  loss: 1.2945 (1.7295)  loss_classifier: 0.1608 (0.2192)  loss_box_reg: 0.0465 (0.0462)  loss_mask: 0.5510 (0.8898)  loss_objectness: 0.2916 (0.3026)  loss_rpn_box_reg: 0.2489 (0.2717)  time: 0.6440 (0.5895)  data: 0.0007 (0.0243)  lr: 0.000007  max mem: 1448\n",
      "2018-11-03 16:11:08,821:INFO:maskrcnn_benchmark.utils.checkpoint: Saving checkpoint to /home/hadim/.data/Neural_Network/Maskflow/Shapes/Models/2018.11.03-16:03:47/model_0000300.pth\n",
      "2018-11-03 16:11:21,531:INFO:maskrcnn_benchmark.trainer: eta: 0:46:12  iter: 320  loss: 1.2807 (1.7029)  loss_classifier: 0.1616 (0.2158)  loss_box_reg: 0.0538 (0.0468)  loss_mask: 0.5494 (0.8695)  loss_objectness: 0.2744 (0.3011)  loss_rpn_box_reg: 0.2399 (0.2697)  time: 0.6248 (0.5924)  data: 0.0006 (0.0251)  lr: 0.000008  max mem: 1448\n",
      "2018-11-03 16:11:34,307:INFO:maskrcnn_benchmark.trainer: eta: 0:46:13  iter: 340  loss: 1.3403 (1.6803)  loss_classifier: 0.1713 (0.2131)  loss_box_reg: 0.0534 (0.0474)  loss_mask: 0.5622 (0.8512)  loss_objectness: 0.2839 (0.3000)  loss_rpn_box_reg: 0.2492 (0.2686)  time: 0.6339 (0.5951)  data: 0.0006 (0.0245)  lr: 0.000008  max mem: 1448\n",
      "2018-11-03 16:11:40,582:INFO:maskrcnn_benchmark.utils.checkpoint: Saving checkpoint to /home/hadim/.data/Neural_Network/Maskflow/Shapes/Models/2018.11.03-16:03:47/model_0000350.pth\n",
      "2018-11-03 16:11:46,959:INFO:maskrcnn_benchmark.trainer: eta: 0:46:10  iter: 360  loss: 1.2819 (1.6579)  loss_classifier: 0.1499 (0.2100)  loss_box_reg: 0.0501 (0.0478)  loss_mask: 0.5478 (0.8345)  loss_objectness: 0.2764 (0.2989)  loss_rpn_box_reg: 0.2339 (0.2667)  time: 0.6248 (0.5972)  data: 0.0007 (0.0253)  lr: 0.000008  max mem: 1448\n",
      "2018-11-03 16:11:58,846:INFO:maskrcnn_benchmark.trainer: eta: 0:45:58  iter: 380  loss: 1.3232 (1.6396)  loss_classifier: 0.1678 (0.2079)  loss_box_reg: 0.0600 (0.0485)  loss_mask: 0.5596 (0.8202)  loss_objectness: 0.2776 (0.2977)  loss_rpn_box_reg: 0.2348 (0.2653)  time: 0.6056 (0.5970)  data: 0.0006 (0.0247)  lr: 0.000008  max mem: 1448\n",
      "2018-11-03 16:12:10,561:INFO:maskrcnn_benchmark.trainer: eta: 0:45:43  iter: 400  loss: 1.2668 (1.6219)  loss_classifier: 0.1656 (0.2058)  loss_box_reg: 0.0579 (0.0488)  loss_mask: 0.5472 (0.8067)  loss_objectness: 0.2780 (0.2967)  loss_rpn_box_reg: 0.2342 (0.2638)  time: 0.6079 (0.5965)  data: 0.0006 (0.0243)  lr: 0.000009  max mem: 1448\n",
      "2018-11-03 16:12:10,563:INFO:maskrcnn_benchmark.utils.checkpoint: Saving checkpoint to /home/hadim/.data/Neural_Network/Maskflow/Shapes/Models/2018.11.03-16:03:47/model_0000400.pth\n",
      "2018-11-03 16:12:23,033:INFO:maskrcnn_benchmark.trainer: eta: 0:45:37  iter: 420  loss: 1.3235 (1.6068)  loss_classifier: 0.1652 (0.2038)  loss_box_reg: 0.0552 (0.0493)  loss_mask: 0.5548 (0.7949)  loss_objectness: 0.2800 (0.2959)  loss_rpn_box_reg: 0.2500 (0.2629)  time: 0.6108 (0.5978)  data: 0.0005 (0.0250)  lr: 0.000009  max mem: 1448\n",
      "2018-11-03 16:12:34,912:INFO:maskrcnn_benchmark.trainer: eta: 0:45:24  iter: 440  loss: 1.2614 (1.5918)  loss_classifier: 0.1579 (0.2019)  loss_box_reg: 0.0596 (0.0499)  loss_mask: 0.5545 (0.7840)  loss_objectness: 0.2703 (0.2948)  loss_rpn_box_reg: 0.2068 (0.2613)  time: 0.5893 (0.5976)  data: 0.0007 (0.0245)  lr: 0.000009  max mem: 1448\n",
      "2018-11-03 16:12:40,639:INFO:maskrcnn_benchmark.utils.checkpoint: Saving checkpoint to /home/hadim/.data/Neural_Network/Maskflow/Shapes/Models/2018.11.03-16:03:47/model_0000450.pth\n",
      "2018-11-03 16:12:47,144:INFO:maskrcnn_benchmark.trainer: eta: 0:45:15  iter: 460  loss: 1.2846 (1.5792)  loss_classifier: 0.1557 (0.1999)  loss_box_reg: 0.0597 (0.0503)  loss_mask: 0.5566 (0.7741)  loss_objectness: 0.2823 (0.2943)  loss_rpn_box_reg: 0.2429 (0.2606)  time: 0.6083 (0.5982)  data: 0.0008 (0.0251)  lr: 0.000009  max mem: 1448\n",
      "2018-11-03 16:12:58,994:INFO:maskrcnn_benchmark.trainer: eta: 0:45:02  iter: 480  loss: 1.2827 (1.5669)  loss_classifier: 0.1640 (0.1981)  loss_box_reg: 0.0633 (0.0509)  loss_mask: 0.5451 (0.7649)  loss_objectness: 0.2739 (0.2935)  loss_rpn_box_reg: 0.2470 (0.2595)  time: 0.6054 (0.5980)  data: 0.0006 (0.0248)  lr: 0.000010  max mem: 1448\n",
      "2018-11-03 16:13:11,194:INFO:maskrcnn_benchmark.trainer: eta: 0:44:52  iter: 500  loss: 1.2560 (1.5554)  loss_classifier: 0.1532 (0.1966)  loss_box_reg: 0.0577 (0.0513)  loss_mask: 0.5536 (0.7564)  loss_objectness: 0.2663 (0.2927)  loss_rpn_box_reg: 0.2121 (0.2584)  time: 0.6027 (0.5984)  data: 0.0006 (0.0244)  lr: 0.000010  max mem: 1448\n",
      "2018-11-03 16:13:11,196:INFO:maskrcnn_benchmark.utils.checkpoint: Saving checkpoint to /home/hadim/.data/Neural_Network/Maskflow/Shapes/Models/2018.11.03-16:03:47/model_0000500.pth\n",
      "2018-11-03 16:13:24,682:INFO:maskrcnn_benchmark.trainer: eta: 0:44:54  iter: 520  loss: 1.2822 (1.5447)  loss_classifier: 0.1542 (0.1951)  loss_box_reg: 0.0639 (0.0517)  loss_mask: 0.5495 (0.7486)  loss_objectness: 0.2661 (0.2919)  loss_rpn_box_reg: 0.2198 (0.2574)  time: 0.6326 (0.6013)  data: 0.0009 (0.0249)  lr: 0.000010  max mem: 1477\n",
      "2018-11-03 16:13:37,884:INFO:maskrcnn_benchmark.trainer: eta: 0:44:51  iter: 540  loss: 1.2766 (1.5349)  loss_classifier: 0.1420 (0.1935)  loss_box_reg: 0.0562 (0.0521)  loss_mask: 0.5463 (0.7413)  loss_objectness: 0.2710 (0.2912)  loss_rpn_box_reg: 0.2431 (0.2568)  time: 0.6666 (0.6035)  data: 0.0007 (0.0245)  lr: 0.000010  max mem: 1477\n",
      "2018-11-03 16:13:44,303:INFO:maskrcnn_benchmark.utils.checkpoint: Saving checkpoint to /home/hadim/.data/Neural_Network/Maskflow/Shapes/Models/2018.11.03-16:03:47/model_0000550.pth\n",
      "2018-11-03 16:13:50,716:INFO:maskrcnn_benchmark.trainer: eta: 0:44:45  iter: 560  loss: 1.2317 (1.5259)  loss_classifier: 0.1587 (0.1923)  loss_box_reg: 0.0603 (0.0525)  loss_mask: 0.5412 (0.7345)  loss_objectness: 0.2780 (0.2906)  loss_rpn_box_reg: 0.2273 (0.2559)  time: 0.6147 (0.6049)  data: 0.0005 (0.0252)  lr: 0.000010  max mem: 1477\n",
      "2018-11-03 16:14:03,415:INFO:maskrcnn_benchmark.trainer: eta: 0:44:38  iter: 580  loss: 1.2369 (1.5175)  loss_classifier: 0.1574 (0.1911)  loss_box_reg: 0.0682 (0.0530)  loss_mask: 0.5557 (0.7283)  loss_objectness: 0.2576 (0.2898)  loss_rpn_box_reg: 0.2257 (0.2552)  time: 0.6487 (0.6059)  data: 0.0005 (0.0248)  lr: 0.000010  max mem: 1477\n",
      "2018-11-03 16:14:15,823:INFO:maskrcnn_benchmark.trainer: eta: 0:44:28  iter: 600  loss: 1.2906 (1.5095)  loss_classifier: 0.1636 (0.1902)  loss_box_reg: 0.0643 (0.0534)  loss_mask: 0.5562 (0.7224)  loss_objectness: 0.2638 (0.2892)  loss_rpn_box_reg: 0.2220 (0.2543)  time: 0.6282 (0.6064)  data: 0.0005 (0.0244)  lr: 0.000010  max mem: 1494\n",
      "2018-11-03 16:14:15,825:INFO:maskrcnn_benchmark.utils.checkpoint: Saving checkpoint to /home/hadim/.data/Neural_Network/Maskflow/Shapes/Models/2018.11.03-16:03:47/model_0000600.pth\n",
      "2018-11-03 16:14:28,446:INFO:maskrcnn_benchmark.trainer: eta: 0:44:19  iter: 620  loss: 1.2389 (1.5014)  loss_classifier: 0.1501 (0.1889)  loss_box_reg: 0.0608 (0.0536)  loss_mask: 0.5503 (0.7169)  loss_objectness: 0.2643 (0.2884)  loss_rpn_box_reg: 0.2147 (0.2535)  time: 0.6265 (0.6072)  data: 0.0005 (0.0246)  lr: 0.000010  max mem: 1494\n",
      "2018-11-03 16:14:41,415:INFO:maskrcnn_benchmark.trainer: eta: 0:44:12  iter: 640  loss: 1.2862 (1.4952)  loss_classifier: 0.1655 (0.1881)  loss_box_reg: 0.0664 (0.0541)  loss_mask: 0.5483 (0.7117)  loss_objectness: 0.2743 (0.2880)  loss_rpn_box_reg: 0.2382 (0.2532)  time: 0.6450 (0.6085)  data: 0.0006 (0.0246)  lr: 0.000010  max mem: 1579\n",
      "2018-11-03 16:14:47,370:INFO:maskrcnn_benchmark.utils.checkpoint: Saving checkpoint to /home/hadim/.data/Neural_Network/Maskflow/Shapes/Models/2018.11.03-16:03:47/model_0000650.pth\n",
      "2018-11-03 16:14:53,905:INFO:maskrcnn_benchmark.trainer: eta: 0:44:02  iter: 660  loss: 1.2630 (1.4883)  loss_classifier: 0.1559 (0.1872)  loss_box_reg: 0.0620 (0.0545)  loss_mask: 0.5495 (0.7065)  loss_objectness: 0.2720 (0.2874)  loss_rpn_box_reg: 0.2358 (0.2527)  time: 0.6221 (0.6090)  data: 0.0006 (0.0250)  lr: 0.000010  max mem: 1579\n",
      "2018-11-03 16:15:06,473:INFO:maskrcnn_benchmark.trainer: eta: 0:43:53  iter: 680  loss: 1.2544 (1.4819)  loss_classifier: 0.1465 (0.1862)  loss_box_reg: 0.0557 (0.0548)  loss_mask: 0.5333 (0.7015)  loss_objectness: 0.2741 (0.2869)  loss_rpn_box_reg: 0.2444 (0.2526)  time: 0.6136 (0.6095)  data: 0.0006 (0.0246)  lr: 0.000010  max mem: 1579\n",
      "2018-11-03 16:15:18,708:INFO:maskrcnn_benchmark.trainer: eta: 0:43:41  iter: 700  loss: 1.2035 (1.4752)  loss_classifier: 0.1463 (0.1853)  loss_box_reg: 0.0574 (0.0551)  loss_mask: 0.5472 (0.6970)  loss_objectness: 0.2619 (0.2862)  loss_rpn_box_reg: 0.1837 (0.2516)  time: 0.6168 (0.6096)  data: 0.0005 (0.0242)  lr: 0.000010  max mem: 1579\n",
      "2018-11-03 16:15:18,711:INFO:maskrcnn_benchmark.utils.checkpoint: Saving checkpoint to /home/hadim/.data/Neural_Network/Maskflow/Shapes/Models/2018.11.03-16:03:47/model_0000700.pth\n",
      "2018-11-03 16:15:31,633:INFO:maskrcnn_benchmark.trainer: eta: 0:43:33  iter: 720  loss: 1.2672 (1.4686)  loss_classifier: 0.1473 (0.1843)  loss_box_reg: 0.0602 (0.0553)  loss_mask: 0.5345 (0.6926)  loss_objectness: 0.2670 (0.2857)  loss_rpn_box_reg: 0.2171 (0.2508)  time: 0.6259 (0.6106)  data: 0.0005 (0.0246)  lr: 0.000010  max mem: 1579\n",
      "2018-11-03 16:15:45,507:INFO:maskrcnn_benchmark.trainer: eta: 0:43:30  iter: 740  loss: 1.2803 (1.4632)  loss_classifier: 0.1499 (0.1835)  loss_box_reg: 0.0720 (0.0556)  loss_mask: 0.5261 (0.6884)  loss_objectness: 0.2767 (0.2853)  loss_rpn_box_reg: 0.2095 (0.2504)  time: 0.7130 (0.6129)  data: 0.0005 (0.0244)  lr: 0.000010  max mem: 1579\n",
      "2018-11-03 16:15:52,238:INFO:maskrcnn_benchmark.utils.checkpoint: Saving checkpoint to /home/hadim/.data/Neural_Network/Maskflow/Shapes/Models/2018.11.03-16:03:47/model_0000750.pth\n",
      "2018-11-03 16:15:59,650:INFO:maskrcnn_benchmark.trainer: eta: 0:43:29  iter: 760  loss: 1.2566 (1.4576)  loss_classifier: 0.1492 (0.1827)  loss_box_reg: 0.0616 (0.0560)  loss_mask: 0.5362 (0.6845)  loss_objectness: 0.2658 (0.2846)  loss_rpn_box_reg: 0.2278 (0.2498)  time: 0.6940 (0.6153)  data: 0.0005 (0.0247)  lr: 0.000010  max mem: 1579\n",
      "2018-11-03 16:16:13,024:INFO:maskrcnn_benchmark.trainer: eta: 0:43:22  iter: 780  loss: 1.2526 (1.4524)  loss_classifier: 0.1441 (0.1819)  loss_box_reg: 0.0621 (0.0562)  loss_mask: 0.5376 (0.6807)  loss_objectness: 0.2706 (0.2841)  loss_rpn_box_reg: 0.2433 (0.2495)  time: 0.6760 (0.6167)  data: 0.0005 (0.0244)  lr: 0.000010  max mem: 1579\n"
     ]
    }
   ],
   "source": [
    "# Setup training\n",
    "training_args, current_model_path = maskflow.training.build_model(config,\n",
    "                                                                  model_dir,\n",
    "                                                                  use_last_model=use_last_model,\n",
    "                                                                  model_to_use=model_to_use)\n",
    "\n",
    "# Train\n",
    "from maskrcnn_benchmark.engine.trainer import do_train\n",
    "\n",
    "logging.info(f\"Start training at iteration {training_args['arguments']['iteration']}\")\n",
    "do_train(**training_args)"
   ]
  },
  {
   "cell_type": "code",
   "execution_count": null,
   "metadata": {},
   "outputs": [],
   "source": []
  }
 ],
 "metadata": {
  "kernelspec": {
   "display_name": "Python [conda env:nn]",
   "language": "python",
   "name": "conda-env-nn-py"
  },
  "language_info": {
   "codemirror_mode": {
    "name": "ipython",
    "version": 3
   },
   "file_extension": ".py",
   "mimetype": "text/x-python",
   "name": "python",
   "nbconvert_exporter": "python",
   "pygments_lexer": "ipython3",
   "version": "3.6.6"
  }
 },
 "nbformat": 4,
 "nbformat_minor": 2
}
