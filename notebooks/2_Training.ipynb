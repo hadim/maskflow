{
 "cells": [
  {
   "cell_type": "markdown",
   "metadata": {},
   "source": [
    "# Training\n",
    "\n",
    "- Use this notebook after you've built your dataset to train the model.\n",
    "- Training will create a model directory with:\n",
    "    - **`model_0000XXX.pth`**: weights that are regularly saved during training\n",
    "    - **`config.yaml`**: the model configuration used during the last training performed.\n",
    "    - **`training.log`**: a log file that contains all the logs displayed in the notebook during training (useful if you close your notebook during a long training session)."
   ]
  },
  {
   "cell_type": "code",
   "execution_count": null,
   "metadata": {},
   "outputs": [],
   "source": [
    "%env CUDA_VISIBLE_DEVICES=0\n",
    "%load_ext autoreload\n",
    "%autoreload 2\n",
    "%matplotlib inline\n",
    "\n",
    "from pathlib import Path\n",
    "import logging\n",
    "\n",
    "import matplotlib.pyplot as plt\n",
    "import numpy as np\n",
    "\n",
    "import sys; sys.path.append(\"../\")\n",
    "import maskflow\n",
    "\n",
    "root_dir = Path(\"/home/hadim/.data/Neural_Network/Maskflow/Microtubule\")\n",
    "data_dir = root_dir / \"Data\"\n",
    "model_dir = root_dir / \"Models\"\n",
    "model_dir.mkdir(exist_ok=True)\n",
    "\n",
    "# Import the configuration associated with this dataset and network.\n",
    "config = maskflow.config.load_config(root_dir / \"config.yaml\")"
   ]
  },
  {
   "cell_type": "markdown",
   "metadata": {},
   "source": [
    "## Check Dataset"
   ]
  },
  {
   "cell_type": "code",
   "execution_count": null,
   "metadata": {},
   "outputs": [],
   "source": [
    "config['SOLVER']['IMS_PER_BATCH'] = 1\n",
    "n_batch = 1\n",
    "\n",
    "# Load some data\n",
    "data_loader = maskflow.dataset.get_data_loader(config, data_dir, is_train=True)\n",
    "some_data = [iter(data_loader).next() for _ in range(n_batch)]\n",
    "\n",
    "# Retrieve category's names\n",
    "categories = data_loader.dataset.coco.cats\n",
    "\n",
    "for batch_image, batch_target, batch_idx in some_data:\n",
    "    maskflow.viz.batch_display_top_masks(batch_image, batch_target, batch_idx, categories,\n",
    "                                         basesize=14, limit=2, cmap=\"PuBu_r\",\n",
    "                                         pixel_mean=config['INPUT']['PIXEL_MEAN'],\n",
    "                                         pixel_std=config['INPUT']['PIXEL_STD'])"
   ]
  },
  {
   "cell_type": "markdown",
   "metadata": {},
   "source": [
    "## Training"
   ]
  },
  {
   "cell_type": "code",
   "execution_count": null,
   "metadata": {},
   "outputs": [],
   "source": [
    "# Configure the training\n",
    "config['DATA_DIR'] = str(data_dir)\n",
    "\n",
    "config['MODEL']['DEVICE'] = \"cuda\"\n",
    "\n",
    "config['DATALOADER']['NUM_WORKERS'] = 16\n",
    "config['SOLVER']['IMS_PER_BATCH'] = 8\n",
    "\n",
    "# Disable those settings if you want to use the training\n",
    "# parameters from your config file.\n",
    "custom_training = True\n",
    "if custom_training:\n",
    "    max_iter = 5000\n",
    "    config['SOLVER']['MAX_ITER'] = max_iter\n",
    "    config['SOLVER']['BASE_LR'] = 0.02\n",
    "    config['SOLVER']['STEPS'] = [int(max_iter * 0.66), int(max_iter * 0.9)]\n",
    "    config['SOLVER']['CHECKPOINT_PERIOD'] = 1000\n",
    "    config['SOLVER']['WARMUP_ITERS'] = 100\n",
    "\n",
    "#config['SOLVER']"
   ]
  },
  {
   "cell_type": "code",
   "execution_count": null,
   "metadata": {},
   "outputs": [],
   "source": [
    "# Setup training\n",
    "\n",
    "# Use the last model in the model dir\n",
    "# If False, create a new model from scratch.\n",
    "# If `model_to_use` is set, we use this one instead.\n",
    "\n",
    "builder_args = {}\n",
    "builder_args['config'] = config\n",
    "builder_args['model_dir'] = model_dir\n",
    "builder_args['use_last_model'] = False\n",
    "builder_args['model_to_use'] = None\n",
    "builder_args['use_pretrained_weights'] = True\n",
    "\n",
    "training_args = maskflow.training.build_model(**builder_args)"
   ]
  },
  {
   "cell_type": "code",
   "execution_count": null,
   "metadata": {},
   "outputs": [],
   "source": [
    "# Run training\n",
    "\n",
    "training_args['log_period'] = 10\n",
    "training_args['log_losses_detailed'] = False\n",
    "training_args['save_metrics'] = True\n",
    "training_args['tensorboard'] = True\n",
    "training_args['tensorboard_log_period'] = 10\n",
    "\n",
    "maskflow.training.do_train(**training_args)"
   ]
  },
  {
   "cell_type": "code",
   "execution_count": null,
   "metadata": {},
   "outputs": [],
   "source": []
  }
 ],
 "metadata": {
  "kernelspec": {
   "display_name": "Python [conda env:nn]",
   "language": "python",
   "name": "conda-env-nn-py"
  },
  "language_info": {
   "codemirror_mode": {
    "name": "ipython",
    "version": 3
   },
   "file_extension": ".py",
   "mimetype": "text/x-python",
   "name": "python",
   "nbconvert_exporter": "python",
   "pygments_lexer": "ipython3",
   "version": "3.6.6"
  }
 },
 "nbformat": 4,
 "nbformat_minor": 2
}
