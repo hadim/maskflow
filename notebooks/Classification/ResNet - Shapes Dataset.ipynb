{
 "cells": [
  {
   "cell_type": "code",
   "execution_count": 1,
   "metadata": {},
   "outputs": [],
   "source": [
    "%load_ext autoreload\n",
    "%autoreload 2\n",
    "%matplotlib inline\n",
    "\n",
    "from pathlib import Path\n",
    "import datetime\n",
    "import numpy as np\n",
    "import tensorflow as tf\n",
    "import matplotlib.pyplot as plt\n",
    "\n",
    "import sys; sys.path.append(\"../../\")\n",
    "import maskflow\n",
    "\n",
    "root_dir = Path(\"/home/hadim/.data/Neural_Network/Maskflow/Shapes\")\n",
    "data_dir = root_dir / \"Data\"\n",
    "\n",
    "model_dir = root_dir / \"Models\"\n",
    "model_dir.mkdir(exist_ok=True)\n",
    "\n",
    "log_dir = root_dir / \"Logs\"\n",
    "log_dir.mkdir(exist_ok=True)\n",
    "\n",
    "# Import the configuration associated with this dataset and network.\n",
    "# This dataset is used for object detection and segmentation, but here we will adapt it\n",
    "# for image classification only.\n",
    "config = maskflow.config.load_config(root_dir / \"config.yaml\")"
   ]
  },
  {
   "cell_type": "code",
   "execution_count": 18,
   "metadata": {},
   "outputs": [
    {
     "data": {
      "image/png": "[encoded data removed]",
      "text/plain": [
       "<Figure size 720x144 with 4 Axes>"
      ]
     },
     "metadata": {
      "needs_background": "light"
     },
     "output_type": "display_data"
    },
    {
     "data": {
      "image/png": "[encoded data removed]",
      "text/plain": [
       "<Figure size 720x144 with 4 Axes>"
      ]
     },
     "metadata": {
      "needs_background": "light"
     },
     "output_type": "display_data"
    }
   ],
   "source": [
    "# Load training and test dataset\n",
    "class_names = config[\"DATASET\"][\"CLASS_NAMES\"]\n",
    "\n",
    "train_file_path = data_dir / \"train.tfrecords\"\n",
    "test_file_path = data_dir / \"test.tfrecords\"\n",
    "\n",
    "train_raw_dataset = maskflow.dataset.parse(train_file_path, config, repeat_count=1,\n",
    "                                           shuffle=True, do_preprocess=True)\n",
    "\n",
    "test_raw_dataset = maskflow.dataset.parse(test_file_path, config, repeat_count=1,\n",
    "                                          shuffle=False, do_preprocess=True)\n",
    "\n",
    "# Display\n",
    "dataset_to_display = train_raw_dataset.take(2)\n",
    "maskflow.viz.batch_display_top_masks(dataset_to_display, class_names, basesize=10, limit=3, cmap=\"PuBu_r\")"
   ]
  },
  {
   "cell_type": "code",
   "execution_count": 19,
   "metadata": {},
   "outputs": [],
   "source": [
    "# Preprocess the dataset\n",
    "train_dataset = train_raw_dataset\n",
    "test_dataset = test_raw_dataset\n",
    "\n",
    "# Normalize the images.\n",
    "def _normalize_image_intensities(pixel_mean, pixel_std):\n",
    "    def _fn(datum):\n",
    "        image = tf.cast(datum['image'], dtype=\"float32\")\n",
    "        image -= pixel_mean\n",
    "        image /= pixel_std\n",
    "        datum['image'] = image\n",
    "        return datum\n",
    "    return _fn\n",
    "\n",
    "pixel_mean = config[\"DATASET\"]['PIXEL_MEAN']\n",
    "pixel_std = config[\"DATASET\"]['PIXEL_STD']\n",
    "\n",
    "normalize_fn = _normalize_image_intensities(pixel_mean, pixel_std)\n",
    "train_dataset = train_dataset.map(normalize_fn)\n",
    "test_dataset = test_dataset.map(normalize_fn)\n",
    "\n",
    "def _prepare_classification(datum):\n",
    "    \"\"\"Prepare a Maskflow dataset for classification.\"\"\"\n",
    "    image = datum['image']\n",
    "    label = datum['label_ids'][0]\n",
    "    return image, label\n",
    "\n",
    "train_dataset = train_dataset.map(_prepare_classification)\n",
    "test_dataset = test_dataset.map(_prepare_classification)\n",
    "\n",
    "image, label = [datum for datum in train_dataset.take(1)][0]"
   ]
  },
  {
   "cell_type": "code",
   "execution_count": 20,
   "metadata": {},
   "outputs": [
    {
     "name": "stdout",
     "output_type": "stream",
     "text": [
      "Model: \"ResNet_18\"\n",
      "_________________________________________________________________\n",
      "Layer (type)                 Output Shape              Param #   \n",
      "=================================================================\n",
      "block_group_1 (ConvNormReLuP multiple                  9728      \n",
      "_________________________________________________________________\n",
      "block_group_2 (BlockGroup)   multiple                  152896    \n",
      "_________________________________________________________________\n",
      "block_group_3 (BlockGroup)   multiple                  526720    \n",
      "_________________________________________________________________\n",
      "block_group_4 (BlockGroup)   multiple                  2102016   \n",
      "_________________________________________________________________\n",
      "block_group_5 (BlockGroup)   multiple                  8398336   \n",
      "_________________________________________________________________\n",
      "classify_block (ClassifierBl multiple                  1539      \n",
      "=================================================================\n",
      "Total params: 11,191,235\n",
      "Trainable params: 11,184,323\n",
      "Non-trainable params: 6,912\n",
      "_________________________________________________________________\n"
     ]
    },
    {
     "data": {
      "text/plain": [
       "TensorShape([None, 3])"
      ]
     },
     "execution_count": 20,
     "metadata": {},
     "output_type": "execute_result"
    }
   ],
   "source": [
    "# Build the model\n",
    "num_classes = len(class_names)\n",
    "\n",
    "image_size = config[\"DATASET\"]['IMAGE_SIZE']\n",
    "n_channels = config[\"DATASET\"]['N_CHANNELS']\n",
    "input_shape = (None, image_size, image_size, n_channels)\n",
    "\n",
    "tf.keras.backend.clear_session()\n",
    "model = maskflow.model.ResNet18(num_classes=num_classes, include_top=True, data_format='channels_last')\n",
    "model.build(input_shape=input_shape)\n",
    "\n",
    "model.summary()\n",
    "model.compute_output_shape(input_shape)"
   ]
  },
  {
   "cell_type": "code",
   "execution_count": 21,
   "metadata": {},
   "outputs": [
    {
     "name": "stdout",
     "output_type": "stream",
     "text": [
      "Epoch 1/5\n"
     ]
    },
    {
     "ename": "ValueError",
     "evalue": "Variable <tf.Variable 'block_group_1/block_group_1/conv2d/kernel:0' shape=(7, 7, 3, 64) dtype=float32> has `None` for gradient. Please make sure that all of your ops have a gradient defined (i.e. are differentiable). Common ops without gradient: K.argmax, K.round, K.eval.",
     "output_type": "error",
     "traceback": [
      "\u001b[0;31m---------------------------------------------------------------------------\u001b[0m",
      "\u001b[0;31mValueError\u001b[0m                                Traceback (most recent call last)",
      "\u001b[0;32m<ipython-input-21-2a9339add0d0>\u001b[0m in \u001b[0;36m<module>\u001b[0;34m\u001b[0m\n\u001b[1;32m     23\u001b[0m \u001b[0;34m\u001b[0m\u001b[0m\n\u001b[1;32m     24\u001b[0m model.fit(train_dataset_fit, validation_data=test_dataset_fit, epochs=n_epochs,\n\u001b[0;32m---> 25\u001b[0;31m           callbacks=callbacks, verbose=1)\n\u001b[0m",
      "\u001b[0;32m~/local/conda/envs/tf/lib/python3.6/site-packages/tensorflow/python/keras/engine/training.py\u001b[0m in \u001b[0;36mfit\u001b[0;34m(self, x, y, batch_size, epochs, verbose, callbacks, validation_split, validation_data, shuffle, class_weight, sample_weight, initial_epoch, steps_per_epoch, validation_steps, validation_freq, max_queue_size, workers, use_multiprocessing, **kwargs)\u001b[0m\n\u001b[1;32m    642\u001b[0m         \u001b[0mmax_queue_size\u001b[0m\u001b[0;34m=\u001b[0m\u001b[0mmax_queue_size\u001b[0m\u001b[0;34m,\u001b[0m\u001b[0;34m\u001b[0m\u001b[0;34m\u001b[0m\u001b[0m\n\u001b[1;32m    643\u001b[0m         \u001b[0mworkers\u001b[0m\u001b[0;34m=\u001b[0m\u001b[0mworkers\u001b[0m\u001b[0;34m,\u001b[0m\u001b[0;34m\u001b[0m\u001b[0;34m\u001b[0m\u001b[0m\n\u001b[0;32m--> 644\u001b[0;31m         use_multiprocessing=use_multiprocessing)\n\u001b[0m\u001b[1;32m    645\u001b[0m \u001b[0;34m\u001b[0m\u001b[0m\n\u001b[1;32m    646\u001b[0m   def evaluate(self,\n",
      "\u001b[0;32m~/local/conda/envs/tf/lib/python3.6/site-packages/tensorflow/python/keras/engine/training_generator.py\u001b[0m in \u001b[0;36mfit\u001b[0;34m(self, model, x, y, batch_size, epochs, verbose, callbacks, validation_split, validation_data, shuffle, class_weight, sample_weight, initial_epoch, steps_per_epoch, validation_steps, validation_freq, **kwargs)\u001b[0m\n\u001b[1;32m    692\u001b[0m         \u001b[0mshuffle\u001b[0m\u001b[0;34m=\u001b[0m\u001b[0mshuffle\u001b[0m\u001b[0;34m,\u001b[0m\u001b[0;34m\u001b[0m\u001b[0;34m\u001b[0m\u001b[0m\n\u001b[1;32m    693\u001b[0m         \u001b[0minitial_epoch\u001b[0m\u001b[0;34m=\u001b[0m\u001b[0minitial_epoch\u001b[0m\u001b[0;34m,\u001b[0m\u001b[0;34m\u001b[0m\u001b[0;34m\u001b[0m\u001b[0m\n\u001b[0;32m--> 694\u001b[0;31m         steps_name='steps_per_epoch')\n\u001b[0m\u001b[1;32m    695\u001b[0m \u001b[0;34m\u001b[0m\u001b[0m\n\u001b[1;32m    696\u001b[0m   def evaluate(self,\n",
      "\u001b[0;32m~/local/conda/envs/tf/lib/python3.6/site-packages/tensorflow/python/keras/engine/training_generator.py\u001b[0m in \u001b[0;36mmodel_iteration\u001b[0;34m(model, data, steps_per_epoch, epochs, verbose, callbacks, validation_data, validation_steps, validation_freq, class_weight, max_queue_size, workers, use_multiprocessing, shuffle, initial_epoch, mode, batch_size, steps_name, **kwargs)\u001b[0m\n\u001b[1;32m    262\u001b[0m \u001b[0;34m\u001b[0m\u001b[0m\n\u001b[1;32m    263\u001b[0m       \u001b[0mis_deferred\u001b[0m \u001b[0;34m=\u001b[0m \u001b[0;32mnot\u001b[0m \u001b[0mmodel\u001b[0m\u001b[0;34m.\u001b[0m\u001b[0m_is_compiled\u001b[0m\u001b[0;34m\u001b[0m\u001b[0;34m\u001b[0m\u001b[0m\n\u001b[0;32m--> 264\u001b[0;31m       \u001b[0mbatch_outs\u001b[0m \u001b[0;34m=\u001b[0m \u001b[0mbatch_function\u001b[0m\u001b[0;34m(\u001b[0m\u001b[0;34m*\u001b[0m\u001b[0mbatch_data\u001b[0m\u001b[0;34m)\u001b[0m\u001b[0;34m\u001b[0m\u001b[0;34m\u001b[0m\u001b[0m\n\u001b[0m\u001b[1;32m    265\u001b[0m       \u001b[0;32mif\u001b[0m \u001b[0;32mnot\u001b[0m \u001b[0misinstance\u001b[0m\u001b[0;34m(\u001b[0m\u001b[0mbatch_outs\u001b[0m\u001b[0;34m,\u001b[0m \u001b[0mlist\u001b[0m\u001b[0;34m)\u001b[0m\u001b[0;34m:\u001b[0m\u001b[0;34m\u001b[0m\u001b[0;34m\u001b[0m\u001b[0m\n\u001b[1;32m    266\u001b[0m         \u001b[0mbatch_outs\u001b[0m \u001b[0;34m=\u001b[0m \u001b[0;34m[\u001b[0m\u001b[0mbatch_outs\u001b[0m\u001b[0;34m]\u001b[0m\u001b[0;34m\u001b[0m\u001b[0;34m\u001b[0m\u001b[0m\n",
      "\u001b[0;32m~/local/conda/envs/tf/lib/python3.6/site-packages/tensorflow/python/keras/engine/training.py\u001b[0m in \u001b[0;36mtrain_on_batch\u001b[0;34m(self, x, y, sample_weight, class_weight, reset_metrics)\u001b[0m\n\u001b[1;32m    916\u001b[0m \u001b[0;34m\u001b[0m\u001b[0m\n\u001b[1;32m    917\u001b[0m       \u001b[0mself\u001b[0m\u001b[0;34m.\u001b[0m\u001b[0m_update_sample_weight_modes\u001b[0m\u001b[0;34m(\u001b[0m\u001b[0msample_weights\u001b[0m\u001b[0;34m=\u001b[0m\u001b[0msample_weights\u001b[0m\u001b[0;34m)\u001b[0m\u001b[0;34m\u001b[0m\u001b[0;34m\u001b[0m\u001b[0m\n\u001b[0;32m--> 918\u001b[0;31m       \u001b[0mself\u001b[0m\u001b[0;34m.\u001b[0m\u001b[0m_make_train_function\u001b[0m\u001b[0;34m(\u001b[0m\u001b[0;34m)\u001b[0m\u001b[0;34m\u001b[0m\u001b[0;34m\u001b[0m\u001b[0m\n\u001b[0m\u001b[1;32m    919\u001b[0m       \u001b[0moutputs\u001b[0m \u001b[0;34m=\u001b[0m \u001b[0mself\u001b[0m\u001b[0;34m.\u001b[0m\u001b[0mtrain_function\u001b[0m\u001b[0;34m(\u001b[0m\u001b[0mins\u001b[0m\u001b[0;34m)\u001b[0m  \u001b[0;31m# pylint: disable=not-callable\u001b[0m\u001b[0;34m\u001b[0m\u001b[0;34m\u001b[0m\u001b[0m\n\u001b[1;32m    920\u001b[0m \u001b[0;34m\u001b[0m\u001b[0m\n",
      "\u001b[0;32m~/local/conda/envs/tf/lib/python3.6/site-packages/tensorflow/python/keras/engine/training.py\u001b[0m in \u001b[0;36m_make_train_function\u001b[0;34m(self)\u001b[0m\n\u001b[1;32m   1998\u001b[0m           \u001b[0;31m# Training updates\u001b[0m\u001b[0;34m\u001b[0m\u001b[0;34m\u001b[0m\u001b[0;34m\u001b[0m\u001b[0m\n\u001b[1;32m   1999\u001b[0m           updates = self.optimizer.get_updates(\n\u001b[0;32m-> 2000\u001b[0;31m               params=self._collected_trainable_weights, loss=self.total_loss)\n\u001b[0m\u001b[1;32m   2001\u001b[0m       \u001b[0;31m# Unconditional updates\u001b[0m\u001b[0;34m\u001b[0m\u001b[0;34m\u001b[0m\u001b[0;34m\u001b[0m\u001b[0m\n\u001b[1;32m   2002\u001b[0m       \u001b[0mupdates\u001b[0m \u001b[0;34m+=\u001b[0m \u001b[0mself\u001b[0m\u001b[0;34m.\u001b[0m\u001b[0mget_updates_for\u001b[0m\u001b[0;34m(\u001b[0m\u001b[0;32mNone\u001b[0m\u001b[0;34m)\u001b[0m\u001b[0;34m\u001b[0m\u001b[0;34m\u001b[0m\u001b[0m\n",
      "\u001b[0;32m~/local/conda/envs/tf/lib/python3.6/site-packages/tensorflow/python/keras/optimizer_v2/optimizer_v2.py\u001b[0m in \u001b[0;36mget_updates\u001b[0;34m(self, loss, params)\u001b[0m\n\u001b[1;32m    489\u001b[0m \u001b[0;34m\u001b[0m\u001b[0m\n\u001b[1;32m    490\u001b[0m   \u001b[0;32mdef\u001b[0m \u001b[0mget_updates\u001b[0m\u001b[0;34m(\u001b[0m\u001b[0mself\u001b[0m\u001b[0;34m,\u001b[0m \u001b[0mloss\u001b[0m\u001b[0;34m,\u001b[0m \u001b[0mparams\u001b[0m\u001b[0;34m)\u001b[0m\u001b[0;34m:\u001b[0m\u001b[0;34m\u001b[0m\u001b[0;34m\u001b[0m\u001b[0m\n\u001b[0;32m--> 491\u001b[0;31m     \u001b[0mgrads\u001b[0m \u001b[0;34m=\u001b[0m \u001b[0mself\u001b[0m\u001b[0;34m.\u001b[0m\u001b[0mget_gradients\u001b[0m\u001b[0;34m(\u001b[0m\u001b[0mloss\u001b[0m\u001b[0;34m,\u001b[0m \u001b[0mparams\u001b[0m\u001b[0;34m)\u001b[0m\u001b[0;34m\u001b[0m\u001b[0;34m\u001b[0m\u001b[0m\n\u001b[0m\u001b[1;32m    492\u001b[0m     \u001b[0mgrads_and_vars\u001b[0m \u001b[0;34m=\u001b[0m \u001b[0mlist\u001b[0m\u001b[0;34m(\u001b[0m\u001b[0mzip\u001b[0m\u001b[0;34m(\u001b[0m\u001b[0mgrads\u001b[0m\u001b[0;34m,\u001b[0m \u001b[0mparams\u001b[0m\u001b[0;34m)\u001b[0m\u001b[0;34m)\u001b[0m\u001b[0;34m\u001b[0m\u001b[0;34m\u001b[0m\u001b[0m\n\u001b[1;32m    493\u001b[0m     self._assert_valid_dtypes([\n",
      "\u001b[0;32m~/local/conda/envs/tf/lib/python3.6/site-packages/tensorflow/python/keras/optimizer_v2/optimizer_v2.py\u001b[0m in \u001b[0;36mget_gradients\u001b[0;34m(self, loss, params)\u001b[0m\n\u001b[1;32m    396\u001b[0m                            \u001b[0;34m\"gradient defined (i.e. are differentiable). \"\u001b[0m\u001b[0;34m\u001b[0m\u001b[0;34m\u001b[0m\u001b[0m\n\u001b[1;32m    397\u001b[0m                            \u001b[0;34m\"Common ops without gradient: \"\u001b[0m\u001b[0;34m\u001b[0m\u001b[0;34m\u001b[0m\u001b[0m\n\u001b[0;32m--> 398\u001b[0;31m                            \"K.argmax, K.round, K.eval.\".format(param))\n\u001b[0m\u001b[1;32m    399\u001b[0m       \u001b[0;32mif\u001b[0m \u001b[0mhasattr\u001b[0m\u001b[0;34m(\u001b[0m\u001b[0mself\u001b[0m\u001b[0;34m,\u001b[0m \u001b[0;34m\"clipnorm\"\u001b[0m\u001b[0;34m)\u001b[0m\u001b[0;34m:\u001b[0m\u001b[0;34m\u001b[0m\u001b[0;34m\u001b[0m\u001b[0m\n\u001b[1;32m    400\u001b[0m         \u001b[0mgrads\u001b[0m \u001b[0;34m=\u001b[0m \u001b[0;34m[\u001b[0m\u001b[0mclip_ops\u001b[0m\u001b[0;34m.\u001b[0m\u001b[0mclip_by_norm\u001b[0m\u001b[0;34m(\u001b[0m\u001b[0mg\u001b[0m\u001b[0;34m,\u001b[0m \u001b[0mself\u001b[0m\u001b[0;34m.\u001b[0m\u001b[0mclipnorm\u001b[0m\u001b[0;34m)\u001b[0m \u001b[0;32mfor\u001b[0m \u001b[0mg\u001b[0m \u001b[0;32min\u001b[0m \u001b[0mgrads\u001b[0m\u001b[0;34m]\u001b[0m\u001b[0;34m\u001b[0m\u001b[0;34m\u001b[0m\u001b[0m\n",
      "\u001b[0;31mValueError\u001b[0m: Variable <tf.Variable 'block_group_1/block_group_1/conv2d/kernel:0' shape=(7, 7, 3, 64) dtype=float32> has `None` for gradient. Please make sure that all of your ops have a gradient defined (i.e. are differentiable). Common ops without gradient: K.argmax, K.round, K.eval."
     ]
    }
   ],
   "source": [
    "# Run training\n",
    "batch_size = 32\n",
    "n_epochs = 5\n",
    "\n",
    "#loss = tf.keras.losses.BinaryCrossentropy(from_logits=False)\n",
    "loss = tf.keras.losses.CategoricalCrossentropy(from_logits=False)\n",
    "optimizer = tf.keras.optimizers.SGD(learning_rate=0.1, momentum=0)\n",
    "\n",
    "model.compile(optimizer=optimizer, loss='categorical_crossentropy', metrics=['accuracy'])\n",
    "\n",
    "# Callbacks\n",
    "log_path = log_dir / datetime.datetime.now().strftime(\"%Y.%m.%d-%H.%M.%S\")\n",
    "tb = tf.keras.callbacks.TensorBoard(log_dir=str(log_path), write_images=False, write_graph=True)\n",
    "#scheduler = tf.keras.callbacks.LearningRateScheduler(lr_scheduler)\n",
    "#chkpt = tf.keras.callbacks.ModelCheckpoint(filepath=str(checkpoints_path), monitor=\"accuracy\", save_best_only=True, verbose=1)\n",
    "callbacks = [tb]#, scheduler, chkpt]\n",
    "\n",
    "train_dataset_fit = train_dataset.batch(batch_size)\n",
    "train_dataset_fit = train_dataset_fit.prefetch(tf.data.experimental.AUTOTUNE)\n",
    "\n",
    "test_dataset_fit = test_dataset.batch(batch_size)\n",
    "test_dataset_fit = test_dataset_fit.prefetch(tf.data.experimental.AUTOTUNE)\n",
    "\n",
    "model.fit(train_dataset_fit, validation_data=test_dataset_fit, epochs=n_epochs,\n",
    "          callbacks=callbacks, verbose=1)"
   ]
  },
  {
   "cell_type": "code",
   "execution_count": 21,
   "metadata": {},
   "outputs": [
    {
     "name": "stderr",
     "output_type": "stream",
     "text": [
      "I0528 16:47:48.690078 140216131524416 builder_impl.py:770] Assets written to: /home/hadim/.data/Neural_Network/Maskflow/Shapes/Models/Classification/resnet/assets\n",
      "2019-05-28 16:47:48,690:INFO:tensorflow: Assets written to: /home/hadim/.data/Neural_Network/Maskflow/Shapes/Models/Classification/resnet/assets\n"
     ]
    }
   ],
   "source": [
    "# Export to Saved Model\n",
    "model_path = model_dir / \"Classification\" / \"resnet\"\n",
    "model_path.mkdir(exist_ok=True, parents=True)\n",
    "tf.saved_model.save(model, str(model_path))"
   ]
  },
  {
   "cell_type": "code",
   "execution_count": 22,
   "metadata": {},
   "outputs": [],
   "source": [
    "# Load model\n",
    "loaded = tf.saved_model.load(str(model_path))\n",
    "infer = loaded.signatures[\"serving_default\"]"
   ]
  },
  {
   "cell_type": "code",
   "execution_count": 31,
   "metadata": {},
   "outputs": [],
   "source": [
    "image, label = [datum for datum in test_dataset.take(1)][0]\n",
    "image = tf.expand_dims(image, 0)\n",
    "label = tf.expand_dims(label, 0)"
   ]
  },
  {
   "cell_type": "code",
   "execution_count": 32,
   "metadata": {},
   "outputs": [
    {
     "data": {
      "text/plain": [
       "{'output_1': <tf.Tensor: id=78088, shape=(1, 3), dtype=float32, numpy=array([[0., 1., 0.]], dtype=float32)>}"
      ]
     },
     "execution_count": 32,
     "metadata": {},
     "output_type": "execute_result"
    }
   ],
   "source": [
    "infer(image)"
   ]
  },
  {
   "cell_type": "code",
   "execution_count": null,
   "metadata": {},
   "outputs": [],
   "source": [
    "# Inference\n",
    "i = 843\n",
    "im = test_images[i:i + 35]\n",
    "plt.imshow(im[0, :, :, 0])\n",
    "\n",
    "im_tensor = tf.constant(im.astype('float32'))\n",
    "dummy = tf.constant(np.tile(np.arange(0, 10), (len(im_tensor), 1)))\n",
    "inputs = dict(images=im_tensor, dummy_inputs=dummy)\n",
    "\n",
    "outputs = infer(**inputs)\n",
    "\n",
    "np.argmax(outputs['output_1'])\n",
    "#np.argmax(outputs['labels'][0])"
   ]
  }
 ],
 "metadata": {
  "gist_info": {
   "gist_id": null,
   "gist_url": null
  },
  "kernelspec": {
   "display_name": "Python [conda env:tf]",
   "language": "python",
   "name": "conda-env-tf-py"
  },
  "language_info": {
   "codemirror_mode": {
    "name": "ipython",
    "version": 3
   },
   "file_extension": ".py",
   "mimetype": "text/x-python",
   "name": "python",
   "nbconvert_exporter": "python",
   "pygments_lexer": "ipython3",
   "version": "3.7.1"
  }
 },
 "nbformat": 4,
 "nbformat_minor": 2
}
