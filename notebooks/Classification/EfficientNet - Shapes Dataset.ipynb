{
 "cells": [
  {
   "cell_type": "code",
   "execution_count": 1,
   "metadata": {},
   "outputs": [],
   "source": [
    "%load_ext autoreload\n",
    "%autoreload 2\n",
    "%matplotlib inline\n",
    "\n",
    "from pathlib import Path\n",
    "import datetime\n",
    "import numpy as np\n",
    "import tensorflow as tf\n",
    "import matplotlib.pyplot as plt\n",
    "\n",
    "import sys; sys.path.append(\"../../\")\n",
    "import maskflow\n",
    "\n",
    "root_dir = Path(\"/home/hadim/.data/Neural_Network/Maskflow/Shapes\")\n",
    "data_dir = root_dir / \"Data\"\n",
    "\n",
    "model_dir = root_dir / \"Models\"\n",
    "model_dir.mkdir(exist_ok=True)\n",
    "\n",
    "log_dir = root_dir / \"Logs\"\n",
    "log_dir.mkdir(exist_ok=True)\n",
    "\n",
    "# Import the configuration associated with this dataset and network.\n",
    "# This dataset is used for object detection and segmentation, but here we will adapt it\n",
    "# for image classification only.\n",
    "config = maskflow.config.load_config(root_dir / \"config.yaml\")"
   ]
  },
  {
   "cell_type": "code",
   "execution_count": 2,
   "metadata": {},
   "outputs": [
    {
     "data": {
      "image/png": "[encoded data removed]",
      "text/plain": [
       "<Figure size 720x144 with 4 Axes>"
      ]
     },
     "metadata": {
      "needs_background": "light"
     },
     "output_type": "display_data"
    },
    {
     "data": {
      "image/png": "[encoded data removed]",
      "text/plain": [
       "<Figure size 720x144 with 4 Axes>"
      ]
     },
     "metadata": {
      "needs_background": "light"
     },
     "output_type": "display_data"
    }
   ],
   "source": [
    "# Load training and test dataset\n",
    "class_names = config[\"DATASET\"][\"CLASS_NAMES\"]\n",
    "\n",
    "train_file_path = data_dir / \"train.tfrecords\"\n",
    "test_file_path = data_dir / \"test.tfrecords\"\n",
    "\n",
    "train_raw_dataset = maskflow.dataset.parse(train_file_path, config, repeat_count=1,\n",
    "                                           shuffle=True, do_preprocess=True)\n",
    "\n",
    "test_raw_dataset = maskflow.dataset.parse(test_file_path, config, repeat_count=1,\n",
    "                                          shuffle=False, do_preprocess=True)\n",
    "\n",
    "# Display\n",
    "dataset_to_display = train_raw_dataset.take(2)\n",
    "maskflow.viz.batch_display_top_masks(dataset_to_display, class_names, basesize=10, limit=3, cmap=\"PuBu_r\")"
   ]
  },
  {
   "cell_type": "code",
   "execution_count": 3,
   "metadata": {},
   "outputs": [],
   "source": [
    "# Preprocess the dataset\n",
    "train_dataset = train_raw_dataset\n",
    "test_dataset = test_raw_dataset\n",
    "\n",
    "# Normalize the images.\n",
    "def _normalize_image_intensities(pixel_mean, pixel_std):\n",
    "    def _fn(datum):\n",
    "        image = tf.cast(datum['image'], dtype=\"float32\")\n",
    "        image -= pixel_mean\n",
    "        image /= pixel_std\n",
    "        datum['image'] = image\n",
    "        return datum\n",
    "    return _fn\n",
    "\n",
    "pixel_mean = config[\"DATASET\"]['PIXEL_MEAN']\n",
    "pixel_std = config[\"DATASET\"]['PIXEL_STD']\n",
    "\n",
    "normalize_fn = _normalize_image_intensities(pixel_mean, pixel_std)\n",
    "train_dataset = train_dataset.map(normalize_fn)\n",
    "test_dataset = test_dataset.map(normalize_fn)\n",
    "\n",
    "def _prepare_classification(datum):\n",
    "    \"\"\"Prepare a Maskflow dataset for classification.\"\"\"\n",
    "    image = datum['image']\n",
    "    label = datum['label_ids'][0]\n",
    "    return image, label\n",
    "\n",
    "train_dataset = train_dataset.map(_prepare_classification)\n",
    "test_dataset = test_dataset.map(_prepare_classification)\n",
    "\n",
    "image, label = [datum for datum in train_dataset.take(1)][0]"
   ]
  },
  {
   "cell_type": "code",
   "execution_count": null,
   "metadata": {},
   "outputs": [],
   "source": [
    "# Build the model\n",
    "num_classes = len(class_names)\n",
    "\n",
    "image_size = config[\"DATASET\"]['IMAGE_SIZE']\n",
    "n_channels = config[\"DATASET\"]['N_CHANNELS']\n",
    "input_shape = (None, image_size, image_size, n_channels)\n",
    "\n",
    "tf.keras.backend.clear_session()\n",
    "model_name = \"efficientnet-b1\"\n",
    "model = maskflow.model.build_efficientnet(model_name, num_classes=len(class_names), log=False)\n",
    "model.build(input_shape=input_shape)\n",
    "\n",
    "# fake_input = np.zeros([1] + list(input_shape[1:]), dtype='float32')\n",
    "# _ = model(fake_input, training=True, features_only=True)\n",
    "\n",
    "model.summary()"
   ]
  },
  {
   "cell_type": "code",
   "execution_count": null,
   "metadata": {},
   "outputs": [],
   "source": [
    "# Run training\n",
    "batch_size = 16\n",
    "n_epochs = 100\n",
    "\n",
    "loss = tf.keras.losses.CategoricalCrossentropy(from_logits=True)\n",
    "optimizer = tf.keras.optimizers.RMSprop(learning_rate=0.0001, decay=0.9, epsilon=0.001, momentum=0.9)\n",
    "\n",
    "model.compile(optimizer=optimizer, loss=loss, metrics=['accuracy'])\n",
    "\n",
    "def lr_scheduler(epoch):\n",
    "    \"Exponential decay.\"\n",
    "    initial_lrate = 0.001\n",
    "    k = 0.1\n",
    "    lrate = initial_lrate * np.exp(-k * epoch)\n",
    "    return lrate\n",
    "\n",
    "# Callbacks\n",
    "log_path = log_dir / datetime.datetime.now().strftime(\"%Y.%m.%d-%H.%M.%S\")\n",
    "tb = tf.keras.callbacks.TensorBoard(log_dir=str(log_path), write_images=False, write_graph=True)\n",
    "scheduler = tf.keras.callbacks.LearningRateScheduler(lr_scheduler)\n",
    "#chkpt = tf.keras.callbacks.ModelCheckpoint(filepath=str(checkpoints_path), monitor=\"accuracy\", save_best_only=True, verbose=1)\n",
    "callbacks = [tb]#, scheduler]#, chkpt]\n",
    "\n",
    "train_dataset_fit = train_dataset.batch(batch_size)\n",
    "train_dataset_fit = train_dataset_fit.prefetch(tf.data.experimental.AUTOTUNE)\n",
    "\n",
    "test_dataset_fit = test_dataset.batch(batch_size)\n",
    "test_dataset_fit = test_dataset_fit.prefetch(tf.data.experimental.AUTOTUNE)\n",
    "\n",
    "model.fit(train_dataset_fit, validation_data=test_dataset_fit, epochs=n_epochs,\n",
    "          callbacks=callbacks, verbose=1)"
   ]
  },
  {
   "cell_type": "code",
   "execution_count": null,
   "metadata": {},
   "outputs": [],
   "source": [
    "# Export to Saved Model\n",
    "model_path = model_dir / \"Classification\" / \"efficientnet\"\n",
    "model_path.mkdir(exist_ok=True, parents=True)\n",
    "\n",
    "@tf.function(input_signature=[tf.TensorSpec(input_shape, dtype=tf.float32)])\n",
    "def model_predict(input_batch):\n",
    "    return {'outputs': model(input_batch, training=False)}\n",
    "\n",
    "tf.saved_model.save(model, str(model_path), signatures={'predict': model_predict})"
   ]
  },
  {
   "cell_type": "code",
   "execution_count": null,
   "metadata": {},
   "outputs": [],
   "source": [
    "# Load model\n",
    "loaded = tf.saved_model.load(str(model_path))\n",
    "infer = loaded.signatures[\"predict\"]"
   ]
  },
  {
   "cell_type": "code",
   "execution_count": null,
   "metadata": {},
   "outputs": [],
   "source": [
    "image, label = [datum for datum in test_dataset.shuffle(1000).take(2)][-1]\n",
    "image = tf.expand_dims(image, 0)\n",
    "label = tf.expand_dims(label, 0)\n",
    "\n",
    "label.numpy(), class_names, plt.imshow(image[0])"
   ]
  },
  {
   "cell_type": "code",
   "execution_count": null,
   "metadata": {},
   "outputs": [],
   "source": [
    "model.predict(image)"
   ]
  },
  {
   "cell_type": "code",
   "execution_count": null,
   "metadata": {},
   "outputs": [],
   "source": [
    "def decoder(vocab_size,\n",
    "            num_layers,\n",
    "            units,\n",
    "            d_model,\n",
    "            num_heads,\n",
    "            dropout,\n",
    "            name='decoder'):\n",
    "  inputs = tf.keras.Input(shape=(None,), name='inputs')\n",
    "  enc_outputs = tf.keras.Input(shape=(None, d_model), name='encoder_outputs')\n",
    "  look_ahead_mask = tf.keras.Input(\n",
    "      shape=(1, None, None), name='look_ahead_mask')\n",
    "  padding_mask = tf.keras.Input(shape=(1, 1, None), name='padding_mask')\n",
    "  \n",
    "  embeddings = tf.keras.layers.Embedding(vocab_size, d_model)(inputs)\n",
    "  embeddings *= tf.math.sqrt(tf.cast(d_model, tf.float32))\n",
    "  embeddings = PositionalEncoding(vocab_size, d_model)(embeddings)\n",
    "\n",
    "  outputs = tf.keras.layers.Dropout(rate=dropout)(embeddings)\n",
    "\n",
    "  for i in range(num_layers):\n",
    "    outputs = decoder_layer(\n",
    "        units=units,\n",
    "        d_model=d_model,\n",
    "        num_heads=num_heads,\n",
    "        dropout=dropout,\n",
    "        name='decoder_layer_{}'.format(i),\n",
    "    )(inputs=[outputs, enc_outputs, look_ahead_mask, padding_mask])\n",
    "\n",
    "  return tf.keras.Model(\n",
    "      inputs=[inputs, enc_outputs, look_ahead_mask, padding_mask],\n",
    "      outputs=outputs,\n",
    "      name=name)"
   ]
  },
  {
   "cell_type": "code",
   "execution_count": null,
   "metadata": {},
   "outputs": [],
   "source": [
    "def loss_function(y_true, y_pred):\n",
    "  y_true = tf.reshape(y_true, shape=(-1, MAX_LENGTH - 1))\n",
    "  \n",
    "  loss = tf.keras.losses.SparseCategoricalCrossentropy(\n",
    "      from_logits=True, reduction='none')(y_true, y_pred)\n",
    "\n",
    "  mask = tf.cast(tf.not_equal(y_true, 0), tf.float32)\n",
    "  loss = tf.multiply(loss, mask)\n",
    "\n",
    "  return tf.reduce_mean(loss)\n",
    "\n",
    "class CustomSchedule(tf.keras.optimizers.schedules.LearningRateSchedule):\n",
    "\n",
    "  def __init__(self, d_model, warmup_steps=4000):\n",
    "    super(CustomSchedule, self).__init__()\n",
    "\n",
    "    self.d_model = d_model\n",
    "    self.d_model = tf.cast(self.d_model, tf.float32)\n",
    "\n",
    "    self.warmup_steps = warmup_steps\n",
    "\n",
    "  def __call__(self, step):\n",
    "    arg1 = tf.math.rsqrt(step)\n",
    "    arg2 = step * (self.warmup_steps**-1.5)\n",
    "\n",
    "    return tf.math.rsqrt(self.d_model) * tf.math.minimum(arg1, arg2)\n",
    "\n",
    "learning_rate = CustomSchedule(D_MODEL)\n",
    "\n",
    "optimizer = tf.keras.optimizers.Adam(\n",
    "    learning_rate, beta_1=0.9, beta_2=0.98, epsilon=1e-9)\n",
    "\n",
    "def accuracy(y_true, y_pred):\n",
    "  # ensure labels have shape (batch_size, MAX_LENGTH - 1)\n",
    "  y_true = tf.reshape(y_true, shape=(-1, MAX_LENGTH - 1))\n",
    "  accuracy = tf.metrics.SparseCategoricalAccuracy()(y_true, y_pred)\n",
    "  return accuracy\n",
    "\n",
    "model.compile(optimizer=optimizer, loss=loss_function, metrics=[accuracy])\n",
    "\n",
    "EPOCHS = 20\n",
    "\n",
    "model.fit(dataset, epochs=EPOCHS)"
   ]
  }
 ],
 "metadata": {
  "gist_info": {
   "gist_id": null,
   "gist_url": null
  },
  "kernelspec": {
   "display_name": "Python [conda env:tf]",
   "language": "python",
   "name": "conda-env-tf-py"
  },
  "language_info": {
   "codemirror_mode": {
    "name": "ipython",
    "version": 3
   },
   "file_extension": ".py",
   "mimetype": "text/x-python",
   "name": "python",
   "nbconvert_exporter": "python",
   "pygments_lexer": "ipython3",
   "version": "3.7.1"
  }
 },
 "nbformat": 4,
 "nbformat_minor": 2
}
