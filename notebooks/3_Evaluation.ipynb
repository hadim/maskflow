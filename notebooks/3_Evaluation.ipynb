{
 "cells": [
  {
   "cell_type": "markdown",
   "metadata": {},
   "source": [
    "# Evaluation\n",
    "\n",
    "- Compute average precision and average recall on the test dataset of a given model.\n",
    "- The evaluation metrics are the ones defined in the COCO dataset."
   ]
  },
  {
   "cell_type": "code",
   "execution_count": 3,
   "metadata": {},
   "outputs": [],
   "source": [
    "from pathlib import Path\n",
    "\n",
    "import matplotlib.pyplot as plt\n",
    "import tqdm\n",
    "import torch\n",
    "\n",
    "import sys; sys.path.append(\"../\")\n",
    "import maskflow\n",
    "\n",
    "root_dir = Path(\"/home/hadim/.data/Neural_Network/Maskflow/Shapes\")\n",
    "data_dir = root_dir / \"Data\"\n",
    "model_dir = root_dir / \"Models\"\n",
    "model_dir.mkdir(exist_ok=True)\n",
    "\n",
    "# Import the configuration associated with this dataset and network.\n",
    "config = maskflow.config.load_config(root_dir / \"config.yaml\")"
   ]
  },
  {
   "cell_type": "code",
   "execution_count": null,
   "metadata": {},
   "outputs": [
    {
     "name": "stderr",
     "output_type": "stream",
     "text": [
      "2018-11-04 11:27:59,433:INFO:maskrcnn_benchmark.utils.checkpoint: Loading checkpoint from /home/hadim/.data/Neural_Network/Maskflow/Shapes/Models/2018.11.04-11:20:22/model_0000299.pth\n",
      "2018-11-04 11:27:59,667:WARNING:maskrcnn_benchmark.data.build: When using more than one image per GPU you may encounter an out-of-memory (OOM) error if your GPU does not have sufficient memory. If this happens, you can reduce SOLVER.IMS_PER_BATCH (for training) or TEST.IMS_PER_BATCH (for inference). For training, you must also adjust the learning rate and schedule length according to the linear scaling rule. See for example: https://github.com/facebookresearch/Detectron/blob/master/configs/getting_started/tutorial_1gpu_e2e_faster_rcnn_R-50-FPN.yaml#L14\n",
      "2018-11-04 11:27:59,674:INFO:maskrcnn_benchmark.inference: Start evaluation on 5 images\n"
     ]
    },
    {
     "name": "stdout",
     "output_type": "stream",
     "text": [
      "loading annotations into memory...\n",
      "Done (t=0.00s)\n",
      "creating index...\n",
      "index created!\n"
     ]
    },
    {
     "name": "stderr",
     "output_type": "stream",
     "text": [
      "0it [00:00, ?it/s]"
     ]
    }
   ],
   "source": [
    "# Select the model\n",
    "model_name = '2018.11.04-11:20:22'\n",
    "model_path = model_dir / model_name\n",
    "\n",
    "# Set some configurations\n",
    "config['MODEL']['DEVICE'] = \"cpu\"\n",
    "config['DATALOADER']['NUM_WORKERS'] = 16\n",
    "config['TEST']['IMS_PER_BATCH'] = 8\n",
    "    \n",
    "# Run the evaluation\n",
    "# (it will create a file called evauation.json in `model_path`)\n",
    "results = maskflow.inference.run_evaluation(config, model_path, data_dir)"
   ]
  },
  {
   "cell_type": "code",
   "execution_count": null,
   "metadata": {},
   "outputs": [],
   "source": []
  }
 ],
 "metadata": {
  "kernelspec": {
   "display_name": "Python [conda env:nn]",
   "language": "python",
   "name": "conda-env-nn-py"
  },
  "language_info": {
   "codemirror_mode": {
    "name": "ipython",
    "version": 3
   },
   "file_extension": ".py",
   "mimetype": "text/x-python",
   "name": "python",
   "nbconvert_exporter": "python",
   "pygments_lexer": "ipython3",
   "version": "3.6.6"
  }
 },
 "nbformat": 4,
 "nbformat_minor": 2
}
