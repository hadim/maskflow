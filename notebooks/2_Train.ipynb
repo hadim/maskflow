{
 "cells": [
  {
   "cell_type": "code",
   "execution_count": 1,
   "metadata": {},
   "outputs": [
    {
     "name": "stderr",
     "output_type": "stream",
     "text": [
      "Using TensorFlow backend.\n"
     ]
    }
   ],
   "source": [
    "%matplotlib inline\n",
    "\n",
    "from pathlib import Path\n",
    "\n",
    "import matplotlib.pyplot as plt\n",
    "import tensorflow as tf\n",
    "import numpy as np\n",
    "\n",
    "from sklearn.model_selection import train_test_split\n",
    "\n",
    "import sys\n",
    "sys.path.append(\"../\")\n",
    "import maskflow\n",
    "\n",
    "root_dir = Path(\"/home/hadim/.data/Neural_Network/Maskflow/Shapes\")\n",
    "data_dir = root_dir / \"Data\"\n",
    "model_dir = root_dir / \"Logs\"\n",
    "saved_model_dir = root_dir / \"SavedModel\"\n",
    "log_file = root_dir / \"current_training.log\"\n",
    "\n",
    "# Import the configuration associated with this dataset and network.\n",
    "params = maskflow.load_parameters(root_dir / \"parameters.yml\")"
   ]
  },
  {
   "cell_type": "markdown",
   "metadata": {},
   "source": [
    "# Load Dataset"
   ]
  },
  {
   "cell_type": "code",
   "execution_count": 2,
   "metadata": {},
   "outputs": [
    {
     "name": "stdout",
     "output_type": "stream",
     "text": [
      "train_fnames : 37 | validation_fnames : 13\n"
     ]
    }
   ],
   "source": [
    "# Split dataset\n",
    "fnames = list((data_dir / \"Image\").glob(\"*.tif\"))\n",
    "fnames = np.random.choice(fnames, 50)\n",
    "train_fnames, validation_fnames = train_test_split(fnames, test_size=0.25, random_state=10)\n",
    "\n",
    "# Build dataset\n",
    "dataset_train = maskflow.MaskflowDataset()\n",
    "dataset_train.set_dataset(train_fnames, params[\"CLASS_NAMES\"])\n",
    "\n",
    "dataset_val = maskflow.MaskflowDataset()\n",
    "dataset_val.set_dataset(validation_fnames, params[\"CLASS_NAMES\"])\n",
    "\n",
    "print(f\"train_fnames : {len(train_fnames)} | validation_fnames : {len(validation_fnames)}\")"
   ]
  },
  {
   "cell_type": "code",
   "execution_count": 3,
   "metadata": {},
   "outputs": [
    {
     "name": "stdout",
     "output_type": "stream",
     "text": [
      "{'id': 16, 'source': '', 'path': PosixPath('/home/hadim/.data/Neural_Network/Maskflow/Shapes/Data/Image/toy_0217.tif'), 'mask_path': PosixPath('/home/hadim/.data/Neural_Network/Maskflow/Shapes/Data/Mask/toy_0217.tif'), 'class_ids_path': PosixPath('/home/hadim/.data/Neural_Network/Maskflow/Shapes/Data/Class/toy_0217.csv')}\n"
     ]
    },
    {
     "data": {
      "image/png": "[encoded data removed]",
      "text/plain": [
       "<Figure size 1008x648 with 3 Axes>"
      ]
     },
     "metadata": {},
     "output_type": "display_data"
    },
    {
     "name": "stdout",
     "output_type": "stream",
     "text": [
      "{'id': 16, 'source': '', 'path': PosixPath('/home/hadim/.data/Neural_Network/Maskflow/Shapes/Data/Image/toy_0217.tif'), 'mask_path': PosixPath('/home/hadim/.data/Neural_Network/Maskflow/Shapes/Data/Mask/toy_0217.tif'), 'class_ids_path': PosixPath('/home/hadim/.data/Neural_Network/Maskflow/Shapes/Data/Class/toy_0217.csv')}\n"
     ]
    },
    {
     "data": {
      "image/png": "[encoded data removed]",
      "text/plain": [
       "<Figure size 1008x648 with 3 Axes>"
      ]
     },
     "metadata": {},
     "output_type": "display_data"
    }
   ],
   "source": [
    "dataset_train.random_display(n=2, n_class=2)"
   ]
  },
  {
   "cell_type": "markdown",
   "metadata": {},
   "source": [
    "# Training"
   ]
  },
  {
   "cell_type": "code",
   "execution_count": 4,
   "metadata": {},
   "outputs": [],
   "source": [
    "# Configure the model and the training\n",
    "config = maskflow.get_config(params)\n",
    "config.IMAGES_PER_GPU = 1\n",
    "config.GPU_COUNT = 1\n",
    "config.STEPS_PER_EPOCH = int(len(train_fnames) / config.IMAGES_PER_GPU)\n",
    "config.LEARNING_RATE = 0.001\n",
    "config.update()\n",
    "#config.display()"
   ]
  },
  {
   "cell_type": "code",
   "execution_count": 5,
   "metadata": {},
   "outputs": [
    {
     "name": "stderr",
     "output_type": "stream",
     "text": [
      "INFO:maskflow:Set log_dir to /home/hadim/.data/Neural_Network/Maskflow/Shapes/Logs/small_training\n",
      "INFO:maskflow:Found weights from epoch 5\n",
      "INFO:maskflow:Start building Keras model.\n",
      "INFO:maskflow:Keras model built.\n",
      "INFO:maskflow:Load weights from previous training /home/hadim/.data/Neural_Network/Maskflow/Shapes/Logs/small_training/mask_rcnn_shapes_detector_0005.h5.\n",
      "INFO:maskflow:Done loading weights.\n"
     ]
    }
   ],
   "source": [
    "# Set the training name to resume a training or to None to start training from scratch.\n",
    "training_name = \"microtubule_detector20180624T1725\"\n",
    "training_name = \"small_training\"\n",
    "#training_name = None\n",
    "\n",
    "# When training from scratch you can init the network with \"coco\" or \"imagenet\"\n",
    "init_with = \"coco\"\n",
    "\n",
    "# Load model\n",
    "model = maskflow.load_model(model_dir, config, training_name=training_name, mode=\"training\", init_with=init_with)\n",
    "model.load_weights()"
   ]
  },
  {
   "cell_type": "code",
   "execution_count": 6,
   "metadata": {},
   "outputs": [],
   "source": [
    "# Callback to execute during training\n",
    "callbacks = []\n",
    "#callbacks.append(maskflow.FileLogger(log_file))\n",
    "callbacks.append(maskflow.TelegramLogger())"
   ]
  },
  {
   "cell_type": "code",
   "execution_count": null,
   "metadata": {},
   "outputs": [],
   "source": [
    "model.train(dataset_train, dataset_val, epochs=1000, layers='heads', custom_callbacks=callbacks)"
   ]
  },
  {
   "cell_type": "code",
   "execution_count": null,
   "metadata": {},
   "outputs": [],
   "source": [
    "model.train(dataset_train, dataset_val, epochs=1000, layers='all', custom_callbacks=callbacks)"
   ]
  },
  {
   "cell_type": "markdown",
   "metadata": {},
   "source": [
    "# Detection"
   ]
  },
  {
   "cell_type": "code",
   "execution_count": 8,
   "metadata": {},
   "outputs": [
    {
     "name": "stderr",
     "output_type": "stream",
     "text": [
      "INFO:maskflow:Set log_dir to /home/hadim/.data/Neural_Network/Maskflow/Shapes/Logs/small_training\n",
      "INFO:maskflow:Found weights from epoch 5\n",
      "INFO:maskflow:Start building Keras model.\n",
      "INFO:maskflow:Keras model built.\n",
      "INFO:maskflow:Load weights from previous training /home/hadim/.data/Neural_Network/Maskflow/Shapes/Logs/small_training/mask_rcnn_shapes_detector_0005.h5.\n",
      "INFO:maskflow:Done loading weights.\n"
     ]
    }
   ],
   "source": [
    "training_name = \"microtubule_detector20180624T1725\"\n",
    "training_name = \"small_training\"\n",
    "\n",
    "config = maskflow.get_config(params)\n",
    "config.IMAGES_PER_GPU = 1\n",
    "config.GPU_COUNT = 1\n",
    "config.update()\n",
    "\n",
    "model = maskflow.load_model(model_dir, config, training_name=training_name, mode=\"inference\")\n",
    "model.load_weights()"
   ]
  },
  {
   "cell_type": "markdown",
   "metadata": {},
   "source": [
    "## Load one image"
   ]
  },
  {
   "cell_type": "code",
   "execution_count": 9,
   "metadata": {},
   "outputs": [
    {
     "data": {
      "image/png": "[encoded data removed]",
      "text/plain": [
       "<Figure size 1440x720 with 2 Axes>"
      ]
     },
     "metadata": {},
     "output_type": "display_data"
    }
   ],
   "source": [
    "# Load a random image\n",
    "image_id = np.random.choice(dataset_val.image_ids)\n",
    "#image_id = 5\n",
    "\n",
    "print(dataset_val.image_info[image_id])\n",
    "image, objects = dataset_val.load(image_id)\n",
    "\n",
    "image_objects = maskflow.draw_objects(image, objects, config.CLASS_NAMES, colors=None, resize_ratio=1,\n",
    "                                      draw_boxes=True, draw_masks=True, draw_contours=True, draw_score=True)\n",
    "maskflow.show_images([image, image_objects], size=10, use_widget=True, t=0)"
   ]
  },
  {
   "cell_type": "markdown",
   "metadata": {},
   "source": [
    "## Detect objects"
   ]
  },
  {
   "cell_type": "code",
   "execution_count": 10,
   "metadata": {},
   "outputs": [
    {
     "data": {
      "image/png": "[encoded data removed]",
      "text/plain": [
       "<Figure size 2160x720 with 3 Axes>"
      ]
     },
     "metadata": {},
     "output_type": "display_data"
    }
   ],
   "source": [
    "results = model.predict(image, progress=True)\n",
    "\n",
    "images_results = maskflow.draw_objects(image, results, config.CLASS_NAMES, colors=None, resize_ratio=1,\n",
    "                                       draw_boxes=True, draw_masks=True, draw_contours=True, draw_score=True)\n",
    "maskflow.show_images([image, image_objects, images_results], size=10, use_widget=True, t=0)"
   ]
  },
  {
   "cell_type": "markdown",
   "metadata": {},
   "source": [
    "# Export trained model to ZIP"
   ]
  },
  {
   "cell_type": "code",
   "execution_count": 17,
   "metadata": {},
   "outputs": [
    {
     "name": "stdout",
     "output_type": "stream",
     "text": [
      "INFO:tensorflow:Froze 384 variables.\n"
     ]
    },
    {
     "name": "stderr",
     "output_type": "stream",
     "text": [
      "INFO:tensorflow:Froze 384 variables.\n"
     ]
    },
    {
     "name": "stdout",
     "output_type": "stream",
     "text": [
      "Converted 384 variables to const ops.\n"
     ]
    }
   ],
   "source": [
    "maskflow.export_to_zip(model, training_name, saved_model_dir)"
   ]
  }
 ],
 "metadata": {
  "kernelspec": {
   "display_name": "Python [conda env:nn]",
   "language": "python",
   "name": "conda-env-nn-py"
  },
  "language_info": {
   "codemirror_mode": {
    "name": "ipython",
    "version": 3
   },
   "file_extension": ".py",
   "mimetype": "text/x-python",
   "name": "python",
   "nbconvert_exporter": "python",
   "pygments_lexer": "ipython3",
   "version": "3.6.5"
  }
 },
 "nbformat": 4,
 "nbformat_minor": 2
}
