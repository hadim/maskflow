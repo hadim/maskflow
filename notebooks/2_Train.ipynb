{
 "cells": [
  {
   "cell_type": "code",
   "execution_count": 1,
   "metadata": {},
   "outputs": [
    {
     "name": "stderr",
     "output_type": "stream",
     "text": [
      "Using TensorFlow backend.\n"
     ]
    }
   ],
   "source": [
    "%matplotlib inline\n",
    "\n",
    "from pathlib import Path\n",
    "\n",
    "import matplotlib.pyplot as plt\n",
    "import tensorflow as tf\n",
    "import numpy as np\n",
    "import pandas as pd\n",
    "\n",
    "from sklearn.model_selection import train_test_split\n",
    "import imgaug\n",
    "\n",
    "import sys\n",
    "sys.path.append(\"../\")\n",
    "import maskflow\n",
    "\n",
    "root_dir = Path(\"/home/hadim/.data/Neural_Network/Maskflow/Microtubule\")\n",
    "data_dir = root_dir / \"Data\"\n",
    "log_dir = root_dir / \"Logs\"\n",
    "saved_model_dir = root_dir / \"SavedModel\"\n",
    "log_file = root_dir / \"current_training.log\"\n",
    "\n",
    "# Import the configuration associated with this dataset and network.\n",
    "config = maskflow.load_config(root_dir / \"config.yml\")"
   ]
  },
  {
   "cell_type": "markdown",
   "metadata": {},
   "source": [
    "# Load Training Dataset"
   ]
  },
  {
   "cell_type": "code",
   "execution_count": 2,
   "metadata": {},
   "outputs": [
    {
     "name": "stdout",
     "output_type": "stream",
     "text": [
      "train_fnames : 954 | validation_fnames : 318\n"
     ]
    }
   ],
   "source": [
    "# Split dataset\n",
    "fnames = list((data_dir / \"Image\").glob(\"*.tif\"))\n",
    "#fnames = np.random.choice(fnames, 50)\n",
    "train_fnames, validation_fnames = train_test_split(fnames, test_size=0.25, random_state=10)\n",
    "\n",
    "# Build dataset\n",
    "dataset_train = maskflow.MaskflowDataset()\n",
    "dataset_train.set_dataset(train_fnames, config[\"CLASS_NAMES\"])\n",
    "\n",
    "dataset_val = maskflow.MaskflowDataset()\n",
    "dataset_val.set_dataset(validation_fnames, config[\"CLASS_NAMES\"])\n",
    "\n",
    "print(f\"train_fnames : {len(train_fnames)} | validation_fnames : {len(validation_fnames)}\")"
   ]
  },
  {
   "cell_type": "code",
   "execution_count": null,
   "metadata": {},
   "outputs": [],
   "source": [
    "dataset_train.random_display(n=2, n_class=2)"
   ]
  },
  {
   "cell_type": "markdown",
   "metadata": {},
   "source": [
    "# Training"
   ]
  },
  {
   "cell_type": "code",
   "execution_count": 4,
   "metadata": {},
   "outputs": [
    {
     "name": "stdout",
     "output_type": "stream",
     "text": [
      "\n",
      "Configurations:\n",
      "BACKBONE                       resnet50\n",
      "BACKBONE_STRIDES               [4, 8, 16, 32, 64]\n",
      "BATCH_SIZE                     1\n",
      "BBOX_STD_DEV                   [0.1, 0.1, 0.2, 0.2]\n",
      "CLASS_NAMES                    ['microtubule']\n",
      "COMPUTE_BACKBONE_SHAPE         None\n",
      "DETECTION_MAX_INSTANCES        100\n",
      "DETECTION_MIN_CONFIDENCE       0.7\n",
      "DETECTION_NMS_THRESHOLD        0.3\n",
      "FPN_CLASSIF_FC_LAYERS_SIZE     1024\n",
      "GPU_COUNT                      1\n",
      "GRADIENT_CLIP_NORM             5.0\n",
      "IMAGES_PER_GPU                 1\n",
      "IMAGE_MAX_DIM                  1280\n",
      "IMAGE_META_SIZE                14\n",
      "IMAGE_MIN_DIM                  100\n",
      "IMAGE_MIN_SCALE                1.0\n",
      "IMAGE_RESIZE_MODE              square\n",
      "IMAGE_SHAPE                    [1280 1280    3]\n",
      "LEARNING_MOMENTUM              0.9\n",
      "LEARNING_RATE                  0.001\n",
      "LOSS_WEIGHTS                   {'rpn_class_loss': 1.0, 'rpn_bbox_loss': 1.0, 'mrcnn_class_loss': 1.0, 'mrcnn_bbox_loss': 1.0, 'mrcnn_mask_loss': 1.0}\n",
      "MASK_POOL_SIZE                 14\n",
      "MASK_SHAPE                     [28, 28]\n",
      "MAX_GT_INSTANCES               100\n",
      "MAX_OBJECTS                    200\n",
      "MEAN_PIXEL                     [123.7, 116.8, 103.9]\n",
      "MINI_MASK_SHAPE                (56, 56)\n",
      "NAME                           Microtubule_Detector\n",
      "NUM_CLASSES                    2\n",
      "POOL_SIZE                      7\n",
      "POST_NMS_ROIS_INFERENCE        1000\n",
      "POST_NMS_ROIS_TRAINING         2000\n",
      "ROI_POSITIVE_RATIO             0.33\n",
      "RPN_ANCHOR_RATIOS              [0.5, 1, 2]\n",
      "RPN_ANCHOR_SCALES              [32, 64, 128, 256, 512]\n",
      "RPN_ANCHOR_STRIDE              1\n",
      "RPN_BBOX_STD_DEV               [0.1, 0.1, 0.2, 0.2]\n",
      "RPN_NMS_THRESHOLD              0.7\n",
      "RPN_TRAIN_ANCHORS_PER_IMAGE    256\n",
      "STEPS_PER_EPOCH                954\n",
      "TOP_DOWN_PYRAMID_SIZE          256\n",
      "TRAIN_BN                       False\n",
      "TRAIN_ROIS_PER_IMAGE           200\n",
      "USE_MINI_MASK                  True\n",
      "USE_RPN_ROIS                   True\n",
      "VALIDATION_STEPS               50\n",
      "WEIGHT_DECAY                   0.0001\n",
      "\n",
      "\n"
     ]
    }
   ],
   "source": [
    "maskflow_config = maskflow.MaskflowConfig(config)\n",
    "\n",
    "maskflow_config.IMAGES_PER_GPU = 1\n",
    "maskflow_config.GPU_COUNT = 1\n",
    "maskflow_config.STEPS_PER_EPOCH = int(len(train_fnames) / maskflow_config.IMAGES_PER_GPU)\n",
    "\n",
    "#maskflow_config.LOSS_WEIGHTS[\"mrcnn_class_loss\"] = 2\n",
    "\n",
    "maskflow_config.update()\n",
    "maskflow_config.display()"
   ]
  },
  {
   "cell_type": "code",
   "execution_count": 5,
   "metadata": {},
   "outputs": [],
   "source": [
    "# Callback to execute during training\n",
    "callbacks = []\n",
    "callbacks.append(maskflow.FileLogger(str(log_file)))\n",
    "callbacks.append(maskflow.TelegramLogger())"
   ]
  },
  {
   "cell_type": "code",
   "execution_count": 6,
   "metadata": {},
   "outputs": [
    {
     "name": "stdout",
     "output_type": "stream",
     "text": [
      "Re-starting from epoch 85\n"
     ]
    }
   ],
   "source": [
    "model = maskflow.load_model(log_dir, maskflow_config, mode=\"training\")\n",
    "\n",
    "maskflow.load_weights(model, init_with=\"microtubule_detector20180624T1725\")\n",
    "\n",
    "# Copy config file to log directory\n",
    "maskflow.save_config(config, Path(model.log_dir) / \"config.yml\")"
   ]
  },
  {
   "cell_type": "code",
   "execution_count": null,
   "metadata": {},
   "outputs": [
    {
     "name": "stdout",
     "output_type": "stream",
     "text": [
      "\n",
      "Starting at epoch 85. LR=0.001\n",
      "\n",
      "Checkpoint Path: /home/hadim/.data/Neural_Network/Maskflow/Microtubule/Logs/microtubule_detector20180624T1725/mask_rcnn_microtubule_detector_{epoch:04d}.h5\n",
      "Selecting layers to train\n",
      "fpn_c5p5               (Conv2D)\n",
      "fpn_c4p4               (Conv2D)\n",
      "fpn_c3p3               (Conv2D)\n",
      "fpn_c2p2               (Conv2D)\n",
      "fpn_p5                 (Conv2D)\n",
      "fpn_p2                 (Conv2D)\n",
      "fpn_p3                 (Conv2D)\n",
      "fpn_p4                 (Conv2D)\n",
      "In model:  rpn_model\n",
      "    rpn_conv_shared        (Conv2D)\n",
      "    rpn_class_raw          (Conv2D)\n",
      "    rpn_bbox_pred          (Conv2D)\n",
      "mrcnn_mask_conv1       (TimeDistributed)\n",
      "mrcnn_mask_bn1         (TimeDistributed)\n",
      "mrcnn_mask_conv2       (TimeDistributed)\n",
      "mrcnn_mask_bn2         (TimeDistributed)\n",
      "mrcnn_class_conv1      (TimeDistributed)\n",
      "mrcnn_class_bn1        (TimeDistributed)\n",
      "mrcnn_mask_conv3       (TimeDistributed)\n",
      "mrcnn_mask_bn3         (TimeDistributed)\n",
      "mrcnn_class_conv2      (TimeDistributed)\n",
      "mrcnn_class_bn2        (TimeDistributed)\n",
      "mrcnn_mask_conv4       (TimeDistributed)\n",
      "mrcnn_mask_bn4         (TimeDistributed)\n",
      "mrcnn_bbox_fc          (TimeDistributed)\n",
      "mrcnn_mask_deconv      (TimeDistributed)\n",
      "mrcnn_class_logits     (TimeDistributed)\n",
      "mrcnn_mask             (TimeDistributed)\n"
     ]
    },
    {
     "name": "stderr",
     "output_type": "stream",
     "text": [
      "/home/hadim/conda/envs/nn/lib/python3.6/site-packages/tensorflow/python/ops/gradients_impl.py:100: UserWarning: Converting sparse IndexedSlices to a dense Tensor of unknown shape. This may consume a large amount of memory.\n",
      "  \"Converting sparse IndexedSlices to a dense Tensor of unknown shape. \"\n",
      "/home/hadim/conda/envs/nn/lib/python3.6/site-packages/keras/engine/training.py:2087: UserWarning: Using a generator with `use_multiprocessing=True` and multiple workers may duplicate your data. Please consider using the`keras.utils.Sequence class.\n",
      "  UserWarning('Using a generator with `use_multiprocessing=True`'\n"
     ]
    },
    {
     "name": "stdout",
     "output_type": "stream",
     "text": [
      "Epoch 86/1000\n",
      "496/954 [==============>...............] - ETA: 18:46 - loss: 0.6797 - rpn_class_loss: 0.0241 - rpn_bbox_loss: 0.2086 - mrcnn_class_loss: 0.2156 - mrcnn_bbox_loss: 0.0866 - mrcnn_mask_loss: 0.1448"
     ]
    }
   ],
   "source": [
    "model.train(dataset_train, dataset_val,\n",
    "            learning_rate=maskflow_config.LEARNING_RATE,\n",
    "            epochs=1000, layers='heads', custom_callbacks=callbacks)"
   ]
  },
  {
   "cell_type": "code",
   "execution_count": null,
   "metadata": {},
   "outputs": [],
   "source": [
    "model.train(dataset_train, dataset_val,\n",
    "            learning_rate=maskflow_config.LEARNING_RATE,\n",
    "            epochs=1000, layers='all', custom_callbacks=callbacks)"
   ]
  },
  {
   "cell_type": "markdown",
   "metadata": {},
   "source": [
    "# Load Trained Model"
   ]
  },
  {
   "cell_type": "code",
   "execution_count": 4,
   "metadata": {},
   "outputs": [],
   "source": [
    "training_name = \"shapes_detector20180621T0950\"\n",
    "\n",
    "maskflow_config = maskflow.MaskflowConfig(config)\n",
    "maskflow_config.IMAGES_PER_GPU = 1\n",
    "maskflow_config.GPU_COUNT = 1\n",
    "maskflow_config.update()\n",
    "\n",
    "model = maskflow.load_model(log_dir, maskflow_config, mode=\"inference\")\n",
    "maskflow.load_weights(model, init_with=training_name)"
   ]
  },
  {
   "cell_type": "markdown",
   "metadata": {},
   "source": [
    "# Load image with true predictions"
   ]
  },
  {
   "cell_type": "code",
   "execution_count": 12,
   "metadata": {},
   "outputs": [
    {
     "name": "stdout",
     "output_type": "stream",
     "text": [
      "{'id': 99, 'source': '', 'path': PosixPath('/home/hadim/.data/Neural_Network/Maskflow/Shapes/Data/Image/toy_0305.tif'), 'mask_path': PosixPath('/home/hadim/.data/Neural_Network/Maskflow/Shapes/Data/Mask/toy_0305.tif'), 'class_ids_path': PosixPath('/home/hadim/.data/Neural_Network/Maskflow/Shapes/Data/Class/toy_0305.csv')}\n"
     ]
    },
    {
     "data": {
      "image/png": "[encoded data removed]",
      "text/plain": [
       "<Figure size 576x576 with 1 Axes>"
      ]
     },
     "metadata": {},
     "output_type": "display_data"
    }
   ],
   "source": [
    "# Load a random image\n",
    "image_id = np.random.choice(dataset_val.image_ids)\n",
    "#image_id = 99\n",
    "\n",
    "print(dataset_val.image_info[image_id])\n",
    "original_image, image_meta, gt_class_id, gt_bbox, gt_mask = maskflow.load_image_gt(dataset_val,\n",
    "                                                                                   maskflow_config,\n",
    "                                                                                   image_id,\n",
    "                                                                                   use_mini_mask=False)\n",
    "\n",
    "maskflow.display_instances(original_image, gt_bbox, gt_mask, gt_class_id, dataset_train.class_names, figsize=(8, 8))"
   ]
  },
  {
   "cell_type": "markdown",
   "metadata": {},
   "source": [
    "# Predict"
   ]
  },
  {
   "cell_type": "code",
   "execution_count": 13,
   "metadata": {},
   "outputs": [
    {
     "name": "stderr",
     "output_type": "stream",
     "text": [
      "100%|██████████| 1/1 [00:02<00:00,  2.44s/it]\n",
      "100%|██████████| 1/1 [00:00<00:00, 129.95it/s]\n"
     ]
    },
    {
     "data": {
      "application/vnd.jupyter.widget-view+json": {
       "model_id": "ad0697a2758446de95e305e6d7c5eea6",
       "version_major": 2,
       "version_minor": 0
      },
      "text/plain": [
       "interactive(children=(IntSlider(value=0, description='t', max=0), Output()), _dom_classes=('widget-interact',)…"
      ]
     },
     "metadata": {},
     "output_type": "display_data"
    }
   ],
   "source": [
    "results = maskflow.predict(original_image, model, progress=True, verbose=0)\n",
    "\n",
    "masked_images = maskflow.draw_results(original_image, results, model.config.CLASS_NAMES, colors=None, resize_ratio=1, draw_boxes=True, draw_masks=True, draw_contours=True, draw_score=True)\n",
    "maskflow.show_images([[original_image], masked_images], size=10)"
   ]
  },
  {
   "cell_type": "markdown",
   "metadata": {},
   "source": [
    "# Export trained model to ZIP"
   ]
  },
  {
   "cell_type": "code",
   "execution_count": null,
   "metadata": {},
   "outputs": [],
   "source": [
    "model_name = \"good_one\"\n",
    "maskflow.export_to_zip(model, model_name, saved_model_dir)"
   ]
  }
 ],
 "metadata": {
  "kernelspec": {
   "display_name": "Python [conda env:nn]",
   "language": "python",
   "name": "conda-env-nn-py"
  },
  "language_info": {
   "codemirror_mode": {
    "name": "ipython",
    "version": 3
   },
   "file_extension": ".py",
   "mimetype": "text/x-python",
   "name": "python",
   "nbconvert_exporter": "python",
   "pygments_lexer": "ipython3",
   "version": "3.6.5"
  }
 },
 "nbformat": 4,
 "nbformat_minor": 2
}
