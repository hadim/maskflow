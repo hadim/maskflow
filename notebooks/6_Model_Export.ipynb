{
 "cells": [
  {
   "cell_type": "markdown",
   "metadata": {},
   "source": [
    "# Model Export\n",
    "\n",
    "- In the future, the plan is to export the entire model to ONNX for later standalone use in production within different frameworks and/or languages. See https://github.com/facebookresearch/maskrcnn-benchmark/issues/116.\n",
    "\n",
    "- At the moment we only serialize the model with `torch.save()`. During model loading, the Python runtime will require both PyTorch and `maskrcnn-benchmark` as dependencies.\n",
    "\n",
    "- During standalone inference we try to avoid the usage of the `maskflow` library."
   ]
  },
  {
   "cell_type": "code",
   "execution_count": 1,
   "metadata": {},
   "outputs": [
    {
     "name": "stderr",
     "output_type": "stream",
     "text": [
      "2018-11-23 09:32:39,152:INFO:maskrcnn_benchmark.utils.checkpoint: Loading checkpoint from /home/hadim/.data/Neural_Network/Maskflow/Microtubule/Models/2018.11.20-12:15:32/model_0040000.pth\n"
     ]
    },
    {
     "data": {
      "text/plain": [
       "'/home/hadim/.data/Neural_Network/Maskflow/Microtubule/Exported Models/microtubules-1.0.0.zip'"
      ]
     },
     "execution_count": 1,
     "metadata": {},
     "output_type": "execute_result"
    }
   ],
   "source": [
    "from pathlib import Path\n",
    "import sys; sys.path.append(\"../\")\n",
    "import torch\n",
    "import maskflow\n",
    "\n",
    "root_dir = Path(\"/home/hadim/.data/Neural_Network/Maskflow/Microtubule\")\n",
    "model_dir = root_dir / \"Models\"\n",
    "\n",
    "exported_model_dir = root_dir / \"Exported Models\"\n",
    "exported_model_dir.mkdir(parents=True, exist_ok=True)\n",
    "\n",
    "# Load the model configuration\n",
    "config = maskflow.config.load_config(root_dir / \"config.yaml\")\n",
    "\n",
    "# Select the model\n",
    "model_name = '2018.11.20-12:15:32'\n",
    "model_path = model_dir / model_name\n",
    "\n",
    "exported_name = \"microtubules-1.0.0\"\n",
    "\n",
    "# Load model\n",
    "model = maskflow.inference.build_model(config, model_path)\n",
    "\n",
    "# Export model\n",
    "maskflow.model.export_model(model, model_path, exported_model_dir, exported_name)"
   ]
  },
  {
   "cell_type": "markdown",
   "metadata": {},
   "source": [
    "# ONNX Export (not working)\n",
    "\n",
    "```python\n",
    "import torch\n",
    "\n",
    "dummy_input = torch.autograd.Variable(torch.randn(1, 3, 224, 224))\n",
    "input_names = [\"image\"]\n",
    "output_names = [ \"predictions\" ]\n",
    "torch.onnx.export(model.to('cpu'), dummy_input, model_path.with_suffix('.onnx'), verbose=True, input_names=input_names, output_names=output_names)\n",
    "```"
   ]
  }
 ],
 "metadata": {
  "kernelspec": {
   "display_name": "Python [conda env:nn]",
   "language": "python",
   "name": "conda-env-nn-py"
  },
  "language_info": {
   "codemirror_mode": {
    "name": "ipython",
    "version": 3
   },
   "file_extension": ".py",
   "mimetype": "text/x-python",
   "name": "python",
   "nbconvert_exporter": "python",
   "pygments_lexer": "ipython3",
   "version": "3.6.6"
  }
 },
 "nbformat": 4,
 "nbformat_minor": 2
}
