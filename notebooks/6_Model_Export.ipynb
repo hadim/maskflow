{
 "cells": [
  {
   "cell_type": "markdown",
   "metadata": {},
   "source": [
    "# Model Export\n",
    "\n",
    "- In the future, the plan is to export the entire model to ONNX for later standalone use in production within different frameworks and/or languages. See https://github.com/facebookresearch/maskrcnn-benchmark/issues/116.\n",
    "\n",
    "- At the moment we only serialize the model with `torch.save()`. During model loading, the Python runtime will require both PyTorch and `maskrcnn-benchmark` as dependencies.\n",
    "\n",
    "- During standalone inference we try to avoid the usage of the `maskflow` library."
   ]
  },
  {
   "cell_type": "code",
   "execution_count": 1,
   "metadata": {},
   "outputs": [
    {
     "name": "stderr",
     "output_type": "stream",
     "text": [
      "2018-11-07 09:51:51,094:INFO:maskrcnn_benchmark.utils.checkpoint: Loading checkpoint from /home/hadim/.data/Neural_Network/Maskflow/Synthetic_Cells/Models/2018.11.07-09:37:48/model_0001000.pth\n"
     ]
    }
   ],
   "source": [
    "from pathlib import Path\n",
    "import sys; sys.path.append(\"../\")\n",
    "import torch\n",
    "import maskflow\n",
    "\n",
    "root_dir = Path(\"/home/hadim/.data/Neural_Network/Maskflow/Synthetic_Cells\")\n",
    "model_dir = root_dir / \"Models\"\n",
    "\n",
    "# Load the model configuration\n",
    "config = maskflow.config.load_config(root_dir / \"config.yaml\")\n",
    "\n",
    "# Select the model\n",
    "model_name = '2018.11.07-09:37:48'\n",
    "model_path = model_dir / model_name\n",
    "\n",
    "exported_name = \"maskrccn-synthetic_cells-1.0.0\"\n",
    "\n",
    "model = maskflow.inference.build_model(config, model_path)\n",
    "\n",
    "# TODO: Export in a zip file with the `config.yaml` inside.\n",
    "model = torch.save(model, model_dir / (exported_name + \".pth\"))"
   ]
  },
  {
   "cell_type": "markdown",
   "metadata": {},
   "source": [
    "# ONNX Export (not working)\n",
    "\n",
    "```python\n",
    "import torch\n",
    "\n",
    "dummy_input = torch.autograd.Variable(torch.randn(1, 3, 224, 224))\n",
    "input_names = [\"image\"]\n",
    "output_names = [ \"predictions\" ]\n",
    "torch.onnx.export(model.to('cpu'), dummy_input, model_path.with_suffix('.onnx'), verbose=True, input_names=input_names, output_names=output_names)\n",
    "```"
   ]
  }
 ],
 "metadata": {
  "kernelspec": {
   "display_name": "Python [conda env:nn]",
   "language": "python",
   "name": "conda-env-nn-py"
  },
  "language_info": {
   "codemirror_mode": {
    "name": "ipython",
    "version": 3
   },
   "file_extension": ".py",
   "mimetype": "text/x-python",
   "name": "python",
   "nbconvert_exporter": "python",
   "pygments_lexer": "ipython3",
   "version": "3.6.6"
  }
 },
 "nbformat": 4,
 "nbformat_minor": 2
}
