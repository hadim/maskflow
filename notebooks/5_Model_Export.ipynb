{
 "cells": [
  {
   "cell_type": "markdown",
   "metadata": {},
   "source": [
    "# Model Export\n",
    "\n",
    "- In the future, the plan is to export the entire model to ONNX for later standalone use in production within different frameworks and/or languages. See https://github.com/facebookresearch/maskrcnn-benchmark/issues/116.\n",
    "\n",
    "- At the moment we only serialize the model with `torch.save()`. During model loading, the Python runtime will require both PyTorch and `maskrcnn-benchmark` as dependencies.\n",
    "\n",
    "- During standalone inference we try to avoid the usage of the `maskflow` library."
   ]
  },
  {
   "cell_type": "code",
   "execution_count": 5,
   "metadata": {},
   "outputs": [],
   "source": [
    "from pathlib import Path\n",
    "import sys; sys.path.append(\"../\")\n",
    "import torch\n",
    "import maskflow\n",
    "\n",
    "root_dir = Path(\"/home/hadim/.data/Neural_Network/Maskflow/Nucleus\")\n",
    "model_dir = root_dir / \"Models\"\n",
    "\n",
    "# Load the model configuration\n",
    "config = maskflow.config.load_config(root_dir / \"config.yaml\")\n",
    "\n",
    "# Select the model\n",
    "model_name = '2018.11.04-17:31:08'\n",
    "model_path = model_dir / model_name\n",
    "\n",
    "exported_name = \"maskrccn-nucleus-1.0.0\""
   ]
  },
  {
   "cell_type": "code",
   "execution_count": 7,
   "metadata": {},
   "outputs": [
    {
     "name": "stderr",
     "output_type": "stream",
     "text": [
      "2018-11-06 08:50:35,250:INFO:maskrcnn_benchmark.utils.checkpoint: Loading checkpoint from /home/hadim/.data/Neural_Network/Maskflow/Nucleus/Models/2018.11.04-17:31:08/model_0001200.pth\n"
     ]
    }
   ],
   "source": [
    "model = maskflow.inference.build_model(config, model_path)\n",
    "\n",
    "# TODO: Export in a zip file with the `config.yaml` inside.\n",
    "model = torch.save(model, model_dir / (exported_name + \".pth\"))"
   ]
  }
 ],
 "metadata": {
  "kernelspec": {
   "display_name": "Python [conda env:nn]",
   "language": "python",
   "name": "conda-env-nn-py"
  },
  "language_info": {
   "codemirror_mode": {
    "name": "ipython",
    "version": 3
   },
   "file_extension": ".py",
   "mimetype": "text/x-python",
   "name": "python",
   "nbconvert_exporter": "python",
   "pygments_lexer": "ipython3",
   "version": "3.6.6"
  }
 },
 "nbformat": 4,
 "nbformat_minor": 2
}
