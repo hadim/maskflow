{
 "cells": [
  {
   "cell_type": "markdown",
   "metadata": {},
   "source": [
    "# Monitor Training"
   ]
  },
  {
   "cell_type": "code",
   "execution_count": 1,
   "metadata": {},
   "outputs": [],
   "source": [
    "%matplotlib inline\n",
    "\n",
    "from pathlib import Path\n",
    "\n",
    "import matplotlib.pyplot as plt\n",
    "import numpy as np\n",
    "import pandas as pd\n",
    "\n",
    "import sys; sys.path.append(\"../\")\n",
    "import maskflow\n",
    "\n",
    "root_dir = Path(\"/home/hadim/.data/Neural_Network/Maskflow/Nucleus\")\n",
    "data_dir = root_dir / \"Data\"\n",
    "model_dir = root_dir / \"Models\"\n",
    "model_dir.mkdir(exist_ok=True)\n",
    "\n",
    "# Import the configuration associated with this dataset and network.\n",
    "config = maskflow.config.load_config(root_dir / \"config.yaml\")\n",
    "\n",
    "# Select the model\n",
    "model_name = '2018.11.06-15:09:33'\n",
    "model_path = model_dir / model_name\n",
    "metrics_path = model_path / \"training_metrics.csv\""
   ]
  },
  {
   "cell_type": "code",
   "execution_count": null,
   "metadata": {},
   "outputs": [],
   "source": [
    "data = pd.read_csv(metrics_path)\n",
    "\n",
    "metrics = ['loss', 'lr', 'memory', 'loss_box_reg', 'loss_classifier', 'loss_mask', 'loss_objectness', 'loss_rpn_box_reg']\n",
    "\n",
    "base_fig_size = 14\n",
    "n_plots = len(metrics)\n",
    "ncols = 3\n",
    "nrows = n_plots // ncols\n",
    "nrows += 1 if (ncols * nrows) < n_plots else 0\n",
    "\n",
    "w = base_fig_size\n",
    "h = base_fig_size * (nrows/ncols) * 0.5\n",
    "\n",
    "fig, axs = plt.subplots(nrows=nrows, ncols=ncols, figsize=(w, h), constrained_layout=True)\n",
    "\n",
    "for ax, metric in zip(axs.flat, metrics):\n",
    "    ax.plot(data['iteration'], data[metric])\n",
    "    ax.set_xlabel('Iteration')\n",
    "    ax.set_title(metric, fontsize=14)\n",
    "    if 'loss' in metric:\n",
    "        ax.set_ylim(0)"
   ]
  },
  {
   "cell_type": "code",
   "execution_count": null,
   "metadata": {},
   "outputs": [],
   "source": []
  }
 ],
 "metadata": {
  "kernelspec": {
   "display_name": "Python [conda env:nn]",
   "language": "python",
   "name": "conda-env-nn-py"
  },
  "language_info": {
   "codemirror_mode": {
    "name": "ipython",
    "version": 3
   },
   "file_extension": ".py",
   "mimetype": "text/x-python",
   "name": "python",
   "nbconvert_exporter": "python",
   "pygments_lexer": "ipython3",
   "version": "3.6.6"
  }
 },
 "nbformat": 4,
 "nbformat_minor": 2
}
