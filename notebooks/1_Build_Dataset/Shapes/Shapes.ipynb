{
 "cells": [
  {
   "cell_type": "markdown",
   "metadata": {},
   "source": [
    "Build a toy shapes dataset. Strongly inspired from [this implementation](https://github.com/matterport/Mask_RCNN/blob/cbff80f3e3f653a9eeee43d0d383a0385aba546b/samples/shapes/shapes.py)."
   ]
  },
  {
   "cell_type": "code",
   "execution_count": 4,
   "metadata": {},
   "outputs": [],
   "source": [
    "%matplotlib inline\n",
    "\n",
    "from pathlib import Path\n",
    "\n",
    "import tensorflow as tf\n",
    "import numpy as np\n",
    "import pandas as pd\n",
    "import tifffile\n",
    "\n",
    "import sys\n",
    "sys.path.append(\"../../../\")\n",
    "import maskflow\n",
    "\n",
    "import utils\n",
    "\n",
    "root_dir = Path(\"/home/hadim/.data/Neural_Network/Maskflow/Shapes\")\n",
    "\n",
    "data_dir = root_dir / \"Data\"\n",
    "data_dir.mkdir(parents=True, exist_ok=True)\n",
    "\n",
    "image_dir = data_dir / \"Image\"\n",
    "image_dir.mkdir(parents=True, exist_ok=True)\n",
    "mask_dir = data_dir / \"Mask\"\n",
    "mask_dir.mkdir(parents=True, exist_ok=True)\n",
    "class_dir = data_dir / \"Class\"\n",
    "class_dir.mkdir(parents=True, exist_ok=True)\n",
    "\n",
    "config = maskflow.load_config(\"config.yml\")\n",
    "class_names = config[\"CLASS_NAMES\"]"
   ]
  },
  {
   "cell_type": "markdown",
   "metadata": {},
   "source": [
    "# Copy config next to data folder"
   ]
  },
  {
   "cell_type": "code",
   "execution_count": 5,
   "metadata": {},
   "outputs": [],
   "source": [
    "maskflow.save_config(config, root_dir / \"config.yml\")"
   ]
  },
  {
   "cell_type": "markdown",
   "metadata": {},
   "source": [
    "# Generate the dataset\n",
    "\n",
    "The dataset consists of a root folder containing 3 sub-folders:\n",
    "\n",
    "- `Image/`: it contains the original images stored as TIF files. Shape is [H, W, C].\n",
    "- `Mask/`: it contains the masks stored as TIF files. Shape is [N, W, H].\n",
    "- `Class/`: Class ids as csv files."
   ]
  },
  {
   "cell_type": "code",
   "execution_count": 6,
   "metadata": {},
   "outputs": [],
   "source": [
    "height = config[\"IMAGE_MAX_DIM\"]\n",
    "width = config[\"IMAGE_MAX_DIM\"]\n",
    "count = 500\n",
    "max_n_per_image = 3\n",
    "\n",
    "for i in range(count):\n",
    "    # Generate image specification\n",
    "    bg_color, shapes = utils.random_image(height, width, max_n_per_image, class_names)\n",
    "    \n",
    "    # Generate the image\n",
    "    image = utils.generate_image(bg_color, height, width, shapes)\n",
    "    \n",
    "    # Generate the mask\n",
    "    mask, class_ids = utils.generate_mask(bg_color, height, width, shapes, class_names)\n",
    "    \n",
    "    # Save the iamge, mask and class ids\n",
    "    basename = f\"toy_{i:04d}\" \n",
    "    image_path = image_dir / (basename + \".tif\")\n",
    "    mask_path = mask_dir / (basename + \".tif\")\n",
    "    class_ids_path = class_dir / (basename + \".csv\")\n",
    "    \n",
    "    tifffile.imsave(str(image_path), image)\n",
    "    tifffile.imsave(str(mask_path), mask)\n",
    "    pd.Series(class_ids).to_csv(class_ids_path, index=False)"
   ]
  }
 ],
 "metadata": {
  "kernelspec": {
   "display_name": "Python [conda env:nn]",
   "language": "python",
   "name": "conda-env-nn-py"
  },
  "language_info": {
   "codemirror_mode": {
    "name": "ipython",
    "version": 3
   },
   "file_extension": ".py",
   "mimetype": "text/x-python",
   "name": "python",
   "nbconvert_exporter": "python",
   "pygments_lexer": "ipython3",
   "version": "3.6.5"
  }
 },
 "nbformat": 4,
 "nbformat_minor": 2
}
