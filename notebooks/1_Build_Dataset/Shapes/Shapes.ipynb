{
 "cells": [
  {
   "cell_type": "markdown",
   "metadata": {},
   "source": [
    "# The Toy Shape Dataset\n",
    "\n",
    " - A toy shapes dataset: small resolution image composed of squares, circles an triangles.\n",
    " - Strongly inspired from [this implementation](https://github.com/matterport/Mask_RCNN/blob/cbff80f3e3f653a9eeee43d0d383a0385aba546b/samples/shapes/shapes.py).\n",
    " - The [config.yaml file](./config.yaml) should be able to train the dataset composed of 50 images in less than 10 minutes on a regular GPU with a **mAP@[0.5:0.95] of ~70%**.\n",
    " \n",
    "This dataset is ideal for debugging and educational purpose.."
   ]
  },
  {
   "cell_type": "code",
   "execution_count": 1,
   "metadata": {},
   "outputs": [],
   "source": [
    "%load_ext autoreload\n",
    "%autoreload 2\n",
    "%matplotlib inline\n",
    "\n",
    "from pathlib import Path\n",
    "import numpy as np\n",
    "import tensorflow as tf\n",
    "from sklearn.model_selection import train_test_split\n",
    "import tqdm\n",
    "\n",
    "import sys; sys.path.append(\"../../../\")\n",
    "import maskflow\n",
    "\n",
    "import utils\n",
    "\n",
    "root_dir = Path(\"/home/hadim/.data/Neural_Network/Maskflow/Shapes\")\n",
    "\n",
    "data_dir = root_dir / \"Data\"\n",
    "data_dir.mkdir(parents=True, exist_ok=True)\n",
    "\n",
    "# Load the configuration.\n",
    "config = maskflow.load_config(\"config.yaml\")\n",
    "\n",
    "# Copy config next to data folder.\n",
    "maskflow.save_config(config, root_dir / \"config.yaml\")"
   ]
  },
  {
   "cell_type": "markdown",
   "metadata": {},
   "source": [
    "## Generate the dataset"
   ]
  },
  {
   "cell_type": "code",
   "execution_count": 2,
   "metadata": {},
   "outputs": [
    {
     "name": "stderr",
     "output_type": "stream",
     "text": [
      "100%|██████████| 50/50 [00:00<00:00, 170.45it/s]\n"
     ]
    }
   ],
   "source": [
    "height = config[\"DATASET\"][\"IMAGE_SIZE\"]\n",
    "width = config[\"DATASET\"][\"IMAGE_SIZE\"]\n",
    "class_names = config[\"DATASET\"][\"CLASS_NAMES\"]\n",
    "\n",
    "count = 50\n",
    "max_n_per_image = 4\n",
    "training_size = 0.9  # From 0 to 1\n",
    "encoded_mask_format = \"png\"\n",
    "\n",
    "train_ids, _ = train_test_split(np.arange(0, count), train_size=training_size)\n",
    "\n",
    "train_features_example = []\n",
    "test_features_example = []\n",
    "\n",
    "train_file_path = data_dir / \"train.tfrecords\"\n",
    "test_file_path = data_dir / \"test.tfrecords\"\n",
    "\n",
    "for image_id in tqdm.trange(count):\n",
    "    # Generate image specification\n",
    "    bg_color, shapes = utils.random_image(height, width, max_n_per_image, class_names)\n",
    "    \n",
    "    # Generate the image\n",
    "    image = utils.generate_image(bg_color, height, width, shapes)\n",
    "    \n",
    "    # Generate the masks\n",
    "    masks, label_ids = utils.generate_mask(bg_color, height, width, shapes, class_names)\n",
    "    \n",
    "    filename = f\"toy_{image_id:04d}.png\"\n",
    "    features_dict = maskflow.dataset.build_features_dict(image, image_id, filename, masks,\n",
    "                                                         label_ids, class_names,\n",
    "                                                         encoded_mask_format=encoded_mask_format,\n",
    "                                                         save_objects=True)\n",
    "    \n",
    "    example = tf.train.Example(features=tf.train.Features(feature=features_dict))\n",
    "    \n",
    "    if image_id in train_ids:\n",
    "        train_features_example.append(example)\n",
    "    else:\n",
    "        test_features_example.append(example)\n",
    "        \n",
    "# Write examples to TFRecord files.\n",
    "with tf.io.TFRecordWriter(str(train_file_path)) as writer:\n",
    "    for example in train_features_example:\n",
    "        writer.write(example.SerializeToString())\n",
    "        \n",
    "with tf.io.TFRecordWriter(str(test_file_path)) as writer:\n",
    "    for example in test_features_example:\n",
    "        writer.write(example.SerializeToString())"
   ]
  },
  {
   "cell_type": "markdown",
   "metadata": {},
   "source": [
    "## Visualize some images with their masks"
   ]
  },
  {
   "cell_type": "markdown",
   "metadata": {},
   "source": [
    "### TODO\n",
    "\n",
    "- convert to bboxes\n",
    "- pad datum to be able to batch\n",
    "- make plot"
   ]
  },
  {
   "cell_type": "code",
   "execution_count": 19,
   "metadata": {},
   "outputs": [],
   "source": [
    "train_dataset = maskflow.dataset.parse(train_file_path, parse_objects=True)\n",
    "for datum in train_dataset.take(10):\n",
    "    pass"
   ]
  },
  {
   "cell_type": "code",
   "execution_count": 20,
   "metadata": {},
   "outputs": [
    {
     "data": {
      "text/plain": [
       "TensorShape([1])"
      ]
     },
     "execution_count": 20,
     "metadata": {},
     "output_type": "execute_result"
    }
   ],
   "source": [
    "datum['image/object/bbox/x'].shape"
   ]
  },
  {
   "cell_type": "code",
   "execution_count": 21,
   "metadata": {},
   "outputs": [
    {
     "data": {
      "text/plain": [
       "TensorShape([1, 128, 128])"
      ]
     },
     "execution_count": 21,
     "metadata": {},
     "output_type": "execute_result"
    }
   ],
   "source": [
    "datum['masks'].shape"
   ]
  },
  {
   "cell_type": "code",
   "execution_count": 17,
   "metadata": {},
   "outputs": [],
   "source": [
    "import importlib.resources as resources"
   ]
  },
  {
   "cell_type": "code",
   "execution_count": 3,
   "metadata": {},
   "outputs": [
    {
     "name": "stderr",
     "output_type": "stream",
     "text": [
      "2018-11-10 18:49:43,757:WARNING:maskrcnn_benchmark.data.build: When using more than one image per GPU you may encounter an out-of-memory (OOM) error if your GPU does not have sufficient memory. If this happens, you can reduce SOLVER.IMS_PER_BATCH (for training) or TEST.IMS_PER_BATCH (for inference). For training, you must also adjust the learning rate and schedule length according to the linear scaling rule. See for example: https://github.com/facebookresearch/Detectron/blob/master/configs/getting_started/tutorial_1gpu_e2e_faster_rcnn_R-50-FPN.yaml#L14\n"
     ]
    },
    {
     "name": "stdout",
     "output_type": "stream",
     "text": [
      "loading annotations into memory...\n",
      "Done (t=0.02s)\n",
      "creating index...\n",
      "index created!\n"
     ]
    },
    {
     "data": {
      "image/png": "[encoded data removed]",
      "text/plain": [
       "<Figure size 1008x216 with 4 Axes>"
      ]
     },
     "metadata": {
      "needs_background": "light"
     },
     "output_type": "display_data"
    },
    {
     "data": {
      "image/png": "[encoded data removed]",
      "text/plain": [
       "<Figure size 1008x216 with 4 Axes>"
      ]
     },
     "metadata": {
      "needs_background": "light"
     },
     "output_type": "display_data"
    },
    {
     "data": {
      "image/png": "[encoded data removed]",
      "text/plain": [
       "<Figure size 1008x216 with 4 Axes>"
      ]
     },
     "metadata": {
      "needs_background": "light"
     },
     "output_type": "display_data"
    }
   ],
   "source": [
    "# Number of batch to load\n",
    "n = 1\n",
    "\n",
    "# Load some data\n",
    "data_loader = maskflow.dataset.get_data_loader(config, data_dir, is_train=True)\n",
    "some_data = [iter(data_loader).next() for _ in range(n)]\n",
    "\n",
    "# Retrieve category's names\n",
    "categories = data_loader.dataset.coco.cats\n",
    "\n",
    "for batch_image, batch_target, batch_idx in some_data:\n",
    "    maskflow.viz.batch_display_top_masks(train_dataset, basesize=14, limit=3, cmap=\"PuBu_r\")"
   ]
  }
 ],
 "metadata": {
  "gist_info": {
   "gist_id": null,
   "gist_url": null
  },
  "kernelspec": {
   "display_name": "Python [conda env:tf]",
   "language": "python",
   "name": "conda-env-tf-py"
  },
  "language_info": {
   "codemirror_mode": {
    "name": "ipython",
    "version": 3
   },
   "file_extension": ".py",
   "mimetype": "text/x-python",
   "name": "python",
   "nbconvert_exporter": "python",
   "pygments_lexer": "ipython3",
   "version": "3.7.1"
  }
 },
 "nbformat": 4,
 "nbformat_minor": 2
}
