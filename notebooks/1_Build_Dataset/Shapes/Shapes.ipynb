{
 "cells": [
  {
   "cell_type": "markdown",
   "metadata": {},
   "source": [
    "Build a toy shapes dataset. Strongly inspired from [this implementation](https://github.com/matterport/Mask_RCNN/blob/cbff80f3e3f653a9eeee43d0d383a0385aba546b/samples/shapes/shapes.py)."
   ]
  },
  {
   "cell_type": "code",
   "execution_count": 1,
   "metadata": {},
   "outputs": [],
   "source": [
    "%load_ext autoreload\n",
    "%autoreload 2\n",
    "%matplotlib inline\n",
    "\n",
    "from pathlib import Path\n",
    "import tensorflow as tf\n",
    "import numpy as np\n",
    "from sklearn.model_selection import train_test_split\n",
    "import tqdm\n",
    "\n",
    "import sys\n",
    "sys.path.append(\"../../../\")\n",
    "import maskflow\n",
    "\n",
    "import utils\n",
    "\n",
    "root_dir = Path(\"/home/hadim/.data/Neural_Network/Maskflow/Shapes\")\n",
    "\n",
    "data_dir = root_dir / \"Data\"\n",
    "data_dir.mkdir(parents=True, exist_ok=True)\n",
    "\n",
    "config = maskflow.load_config(\"config.yml\")\n",
    "class_names = config[\"CLASS_NAMES\"]\n",
    "\n",
    "# Copy config next to data folder\n",
    "maskflow.save_config(config, root_dir / \"config.yml\")"
   ]
  },
  {
   "cell_type": "markdown",
   "metadata": {},
   "source": [
    "## Generate the dataset"
   ]
  },
  {
   "cell_type": "code",
   "execution_count": 2,
   "metadata": {},
   "outputs": [
    {
     "name": "stderr",
     "output_type": "stream",
     "text": [
      "/home/hadim/local/conda/envs/nn/lib/python3.6/site-packages/sklearn/model_selection/_split.py:2026: FutureWarning: From version 0.21, test_size will always complement train_size unless both are specified.\n",
      "  FutureWarning)\n",
      "100%|██████████| 50/50 [00:00<00:00, 112.44it/s]\n"
     ]
    }
   ],
   "source": [
    "height = config[\"IMAGE_MAX_DIM\"]\n",
    "width = config[\"IMAGE_MAX_DIM\"]\n",
    "count = 50\n",
    "max_n_per_image = 10\n",
    "training_size = 0.8\n",
    "\n",
    "tfrecord_train_writer = tf.python_io.TFRecordWriter(str(data_dir / \"training_data.tfrecord\"))\n",
    "tfrecord_evaluation_writer = tf.python_io.TFRecordWriter(str(data_dir / \"evaluation_data.tfrecord\"))\n",
    "\n",
    "train_ids, _ = train_test_split(np.arange(0, count), train_size=training_size)\n",
    "\n",
    "for i in tqdm.trange(count):\n",
    "    # Generate image specification\n",
    "    bg_color, shapes = utils.random_image(height, width, max_n_per_image, class_names)\n",
    "    \n",
    "    # Generate the image\n",
    "    image = utils.generate_image(bg_color, height, width, shapes)\n",
    "    \n",
    "    # Generate the mask\n",
    "    mask, class_ids = utils.generate_mask(bg_color, height, width, shapes, class_names)\n",
    "    \n",
    "    basename = f\"toy_{i:04d}\"\n",
    "    \n",
    "    tf_example = maskflow.create_tf_example(i, basename, image, mask, class_ids)\n",
    "    \n",
    "    # Save it in the training or the eval dataset?\n",
    "    if i in train_ids:\n",
    "        tfrecord_train_writer.write(tf_example.SerializeToString())\n",
    "    else:\n",
    "        tfrecord_evaluation_writer.write(tf_example.SerializeToString())\n",
    "\n",
    "tfrecord_train_writer.close()\n",
    "tfrecord_evaluation_writer.close()"
   ]
  },
  {
   "cell_type": "markdown",
   "metadata": {},
   "source": [
    "## Visualize some images with annotations"
   ]
  },
  {
   "cell_type": "code",
   "execution_count": null,
   "metadata": {},
   "outputs": [
    {
     "data": {
      "image/png": "[encoded data removed]",
      "text/plain": [
       "<Figure size 1008x216 with 4 Axes>"
      ]
     },
     "metadata": {},
     "output_type": "display_data"
    },
    {
     "data": {
      "image/png": "[encoded data removed]",
      "text/plain": [
       "<Figure size 1008x216 with 4 Axes>"
      ]
     },
     "metadata": {},
     "output_type": "display_data"
    }
   ],
   "source": [
    "# Select the training dataset\n",
    "tfrecord_path = data_dir / \"training_data.tfrecord\"\n",
    "\n",
    "# Retrieve some data\n",
    "images, annotations = maskflow.get_data(tfrecord_path, n=4, shuffle=True)\n",
    "\n",
    "# Display them\n",
    "maskflow.batch_display_top_masks(images, annotations[\"masks\"], annotations[\"class_ids\"], class_names, limit=3)"
   ]
  },
  {
   "cell_type": "code",
   "execution_count": null,
   "metadata": {},
   "outputs": [],
   "source": []
  }
 ],
 "metadata": {
  "gist_info": {
   "gist_id": null,
   "gist_url": null
  },
  "kernelspec": {
   "display_name": "Python [conda env:nn]",
   "language": "python",
   "name": "conda-env-nn-py"
  },
  "language_info": {
   "codemirror_mode": {
    "name": "ipython",
    "version": 3
   },
   "file_extension": ".py",
   "mimetype": "text/x-python",
   "name": "python",
   "nbconvert_exporter": "python",
   "pygments_lexer": "ipython3",
   "version": "3.6.5"
  }
 },
 "nbformat": 4,
 "nbformat_minor": 2
}
