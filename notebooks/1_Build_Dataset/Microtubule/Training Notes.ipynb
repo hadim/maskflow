{
 "cells": [
  {
   "cell_type": "markdown",
   "metadata": {},
   "source": [
    "# Run 1\n",
    "\n",
    "- Dataset:\n",
    "    - 1000 images artifically generated.\n",
    "    - 26 images manualy annotated and augmented 10 times each.\n",
    "    - Total images # is 1286.\n",
    "    \n",
    "- Init weights with `coco`.\n",
    "    \n",
    "- Stage 1 from epoch 0 to X:\n",
    "    - lr = 0.001\n",
    "    - layers = \"heads\"\n",
    "    "
   ]
  }
 ],
 "metadata": {
  "kernelspec": {
   "display_name": "Python [conda env:nn]",
   "language": "python",
   "name": "conda-env-nn-py"
  },
  "language_info": {
   "codemirror_mode": {
    "name": "ipython",
    "version": 3
   },
   "file_extension": ".py",
   "mimetype": "text/x-python",
   "name": "python",
   "nbconvert_exporter": "python",
   "pygments_lexer": "ipython3",
   "version": "3.6.5"
  }
 },
 "nbformat": 4,
 "nbformat_minor": 2
}
