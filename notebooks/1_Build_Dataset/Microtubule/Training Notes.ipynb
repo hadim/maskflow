{
 "cells": [
  {
   "cell_type": "markdown",
   "metadata": {},
   "source": [
    "# Run 1\n",
    "\n",
    "- Dataset:\n",
    "    - 1000 images artifically generated.\n",
    "    - 26 images manualy annotated and augmented 10 times each.\n",
    "    - Total images # is 1286.\n",
    "    \n",
    "- Init weights with `coco`.\n",
    "    \n",
    "- Stage 1 from epoch 0 to 7:\n",
    "    - lr = 0.001\n",
    "    - layers = \"heads\"\n",
    "    - validation / training size ratio = 0.25\n",
    "    \n",
    "- Stage 2 from epoch 7 to 23:\n",
    "    - lr = 0.001\n",
    "    - layers = \"heads\"\n",
    "    - validation / training size ratio = 0.15\n",
    "    \n",
    "- Stage 3 from epoch 24 to 45:\n",
    "    - New dataset.\n",
    "    - Remove variable image size from artificially generated images because of very high number of microtubules could be very hard to detect with small images (512 pixel).\n",
    "    - lr = 0.001\n",
    "    - layers = \"heads\"\n",
    "    - validation / training size ratio = 0.15\n",
    "    \n",
    "- Stage 4 from epoch 46 to 47:\n",
    "    - lr = 0.001\n",
    "    - layers = \"heads\"\n",
    "    - validation / training size ratio = 0.15\n",
    "    - Enable multi GPU mode with 2 GPUs.\n",
    "    \n",
    "- Stage 5 from epoch 47 to X:\n",
    "    - **lr = 0.0001**\n",
    "    - **layers = \"4+\"**\n",
    "    - validation / training size ratio = 0.15\n",
    "    - Enable multi GPU mode with 2 GPUs.\n",
    "    "
   ]
  }
 ],
 "metadata": {
  "kernelspec": {
   "display_name": "Python [conda env:nn]",
   "language": "python",
   "name": "conda-env-nn-py"
  },
  "language_info": {
   "codemirror_mode": {
    "name": "ipython",
    "version": 3
   },
   "file_extension": ".py",
   "mimetype": "text/x-python",
   "name": "python",
   "nbconvert_exporter": "python",
   "pygments_lexer": "ipython3",
   "version": "3.6.5"
  }
 },
 "nbformat": 4,
 "nbformat_minor": 2
}
