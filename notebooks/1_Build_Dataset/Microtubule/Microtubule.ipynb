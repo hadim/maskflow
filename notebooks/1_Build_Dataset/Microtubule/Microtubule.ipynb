{
 "cells": [
  {
   "cell_type": "code",
   "execution_count": null,
   "metadata": {},
   "outputs": [],
   "source": [
    "def load_mask(self, image_id):\n",
    "\n",
    "        info = self.image_info[image_id]\n",
    "        json_path = info[\"path\"].parent / (info[\"path\"].stem + \".json\")\n",
    "        with open(json_path) as f:\n",
    "            d = json.load(f)\n",
    "            data = pd.DataFrame.from_dict(d[\"microtubule\"])\n",
    "\n",
    "        def get_line(x):\n",
    "            d = {}\n",
    "            d[\"start_x\"] = x[x.type == \"seed\"][\"start_x\"].values[0]\n",
    "            d[\"start_y\"] = x[x.type == \"seed\"][\"start_y\"].values[0]\n",
    "            d[\"end_x\"] = x[x.type == \"seed\"][\"end_x\"].values[0]\n",
    "            d[\"end_y\"] = x[x.type == \"seed\"][\"end_y\"].values[0]\n",
    "            return pd.DataFrame([d])\n",
    "\n",
    "        def draw_line(image, line, line_thickness):\n",
    "            line = np.round(line).astype(\"int16\")\n",
    "            p1 = (line[\"start_x\"], line[\"start_y\"])\n",
    "            p2 = (line[\"end_x\"], line[\"end_y\"])\n",
    "            _, p1, p2 = cv2.clipLine((0, 0, image.shape[0], image.shape[1]), p1, p2)\n",
    "            image = cv2.line(image, p1, p2, (1,), line_thickness)\n",
    "            return image\n",
    "\n",
    "        lines = data.groupby(\"mt_id\").apply(get_line).reset_index(drop=True)\n",
    "        count = lines.shape[0]\n",
    "\n",
    "        mask = np.zeros([info['width'], info['height'], count], dtype=np.uint8)\n",
    "        for i, line in lines.iterrows():\n",
    "            mask[:, :, i] = draw_line(mask[:, :, i].copy(), line, info[\"line_thickness\"])\n",
    "\n",
    "        # Handle occlusions\n",
    "        handle_occlusion = True\n",
    "        if handle_occlusion:\n",
    "            occlusion = np.logical_not(mask[:, :, -1]).astype(np.uint8)\n",
    "            for i in range(count - 2, -1, -1):\n",
    "                mask[:, :, i] = mask[:, :, i] * occlusion\n",
    "                occlusion = np.logical_and(occlusion, np.logical_not(mask[:, :, i]))\n",
    "\n",
    "        # Map class names to class IDs (all \"microtubule\" here).\n",
    "        class_ids = np.repeat(self.class_names.index(\"microtubule\"), count)\n",
    "\n",
    "        return mask.astype(np.bool), class_ids.astype(np.int32)"
   ]
  }
 ],
 "metadata": {
  "kernelspec": {
   "display_name": "Python [conda env:nn]",
   "language": "python",
   "name": "conda-env-nn-py"
  },
  "language_info": {
   "codemirror_mode": {
    "name": "ipython",
    "version": 3
   },
   "file_extension": ".py",
   "mimetype": "text/x-python",
   "name": "python",
   "nbconvert_exporter": "python",
   "pygments_lexer": "ipython3",
   "version": "3.6.5"
  }
 },
 "nbformat": 4,
 "nbformat_minor": 2
}
