{
 "cells": [
  {
   "cell_type": "code",
   "execution_count": 1,
   "metadata": {},
   "outputs": [
    {
     "name": "stderr",
     "output_type": "stream",
     "text": [
      "Using TensorFlow backend.\n"
     ]
    }
   ],
   "source": [
    "%matplotlib inline\n",
    "\n",
    "from pathlib import Path\n",
    "\n",
    "import numpy as np\n",
    "import matplotlib.pyplot as plt\n",
    "import tifffile\n",
    "\n",
    "import sys\n",
    "sys.path.append(\"../\")\n",
    "import maskflow\n",
    "\n",
    "root_dir = Path(\"/home/hadim/.data/Neural_Network/Maskflow/Shapes\")\n",
    "saved_model_dir = root_dir / \"SavedModel\"\n",
    "\n",
    "model_location = saved_model_dir / \"good_one.zip\"\n",
    "model_location = saved_model_dir / \"good_one\""
   ]
  },
  {
   "cell_type": "markdown",
   "metadata": {},
   "source": [
    "# Load an image"
   ]
  },
  {
   "cell_type": "code",
   "execution_count": 2,
   "metadata": {},
   "outputs": [
    {
     "data": {
      "text/plain": [
       "(256, 256, 3)"
      ]
     },
     "execution_count": 2,
     "metadata": {},
     "output_type": "execute_result"
    },
    {
     "data": {
      "image/png": "[encoded data removed]",
      "text/plain": [
       "<Figure size 432x288 with 1 Axes>"
      ]
     },
     "metadata": {},
     "output_type": "display_data"
    }
   ],
   "source": [
    "data_dir = root_dir / \"Data\"\n",
    "#data_dir = Path(\"/home/hadim/Documents/Code/Postdoc/ij/testdata/\")\n",
    "\n",
    "image_path = data_dir / \"fake-flat-corrected.tif\"\n",
    "image_path = data_dir / \"7,5uM_emccd_lapse1-small-8bit-Single.tif\"\n",
    "#image_path = data_dir / \"test-tracking-single.tif\"\n",
    "#image_path = data_dir / \"test-tracking.tif\"\n",
    "\n",
    "image_path = data_dir / \"Image\" / \"toy_0064.tif\"\n",
    "\n",
    "original_images = tifffile.imread(str(image_path))\n",
    "#original_images = original_images[:, :, 0]\n",
    "\n",
    "if len(original_images.shape) == 2 or original_images.shape[-1] == 3:\n",
    "    original_images = np.expand_dims(original_images, 0)\n",
    "\n",
    "original_image = original_images[0]\n",
    "plt.imshow(original_image)\n",
    "original_image.shape"
   ]
  },
  {
   "cell_type": "markdown",
   "metadata": {},
   "source": [
    "# Predict"
   ]
  },
  {
   "cell_type": "code",
   "execution_count": 3,
   "metadata": {},
   "outputs": [
    {
     "data": {
      "text/plain": [
       "(3, 256, 256)"
      ]
     },
     "execution_count": 3,
     "metadata": {},
     "output_type": "execute_result"
    }
   ],
   "source": [
    "config, results = maskflow.inference(original_image, model_location)\n",
    "results[\"masks\"].shape"
   ]
  },
  {
   "cell_type": "markdown",
   "metadata": {},
   "source": [
    "# Display result of detection"
   ]
  },
  {
   "cell_type": "code",
   "execution_count": 4,
   "metadata": {},
   "outputs": [
    {
     "name": "stdout",
     "output_type": "stream",
     "text": [
      "circle\n",
      "square\n",
      "triangle\n"
     ]
    },
    {
     "data": {
      "image/png": "[encoded data removed]",
      "text/plain": [
       "<Figure size 1008x576 with 2 Axes>"
      ]
     },
     "metadata": {},
     "output_type": "display_data"
    }
   ],
   "source": [
    "from matplotlib.patches import Rectangle\n",
    "\n",
    "projected_masks = results['masks'].max(axis=0)\n",
    "\n",
    "fig, (ax1, ax2) = plt.subplots(ncols=2, figsize=(14, 8))\n",
    "\n",
    "ax1.imshow(original_image)\n",
    "ax2.imshow(projected_masks)\n",
    "\n",
    "for i, roi in enumerate(results[\"rois\"]):\n",
    "    y1, x1, y2, x2 = roi\n",
    "    rect = Rectangle((x1, y1), x2 - x1, y2 - y1, fill=False, color=\"red\")\n",
    "    ax1.add_artist(rect)\n",
    "    rect = Rectangle((x1, y1), x2 - x1, y2 - y1, fill=False, color=\"red\")\n",
    "    ax2.add_artist(rect)\n",
    "    \n",
    "    class_index = results[\"class_ids\"][i]\n",
    "    class_name = config[\"CLASS_NAMES\"][class_index]\n",
    "    print(class_name)"
   ]
  }
 ],
 "metadata": {
  "kernelspec": {
   "display_name": "Python [conda env:nn]",
   "language": "python",
   "name": "conda-env-nn-py"
  },
  "language_info": {
   "codemirror_mode": {
    "name": "ipython",
    "version": 3
   },
   "file_extension": ".py",
   "mimetype": "text/x-python",
   "name": "python",
   "nbconvert_exporter": "python",
   "pygments_lexer": "ipython3",
   "version": "3.6.5"
  }
 },
 "nbformat": 4,
 "nbformat_minor": 2
}
