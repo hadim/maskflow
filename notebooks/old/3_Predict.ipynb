{
 "cells": [
  {
   "cell_type": "code",
   "execution_count": 1,
   "metadata": {},
   "outputs": [],
   "source": [
    "%matplotlib inline\n",
    "\n",
    "from pathlib import Path\n",
    "import yaml\n",
    "\n",
    "import matplotlib.pyplot as plt\n",
    "import tensorflow as tf\n",
    "import numpy as np\n",
    "import pandas as pd\n",
    "import tifffile\n",
    "\n",
    "root_dir = Path(\"/home/hadim/.data/Neural_Network/Maskflow/Shapes\")\n",
    "data_dir = root_dir / \"Data\"\n",
    "\n",
    "model_name = \"Shapes Detector\"\n",
    "saved_model_dir = root_dir / \"SavedModels\" / model_name\n",
    "\n",
    "config_path = saved_model_dir / \"assets.extra\" / \"config.yml\"\n",
    "config = yaml.load(open(config_path))"
   ]
  },
  {
   "cell_type": "markdown",
   "metadata": {},
   "source": [
    "# Load data"
   ]
  },
  {
   "cell_type": "code",
   "execution_count": 2,
   "metadata": {},
   "outputs": [],
   "source": [
    "# Get paths\n",
    "image_paths = np.array([str(fname) for fname in sorted(data_dir.glob(\"*_original.tif\"))])\n",
    "mask_paths = np.array([str(fname) for fname in sorted(data_dir.glob(\"*_mask.tif\"))])\n",
    "class_ids_paths = np.array([str(fname) for fname in sorted(data_dir.glob(\"*_class_ids.csv\"))])"
   ]
  },
  {
   "cell_type": "markdown",
   "metadata": {},
   "source": [
    "# Prediction"
   ]
  },
  {
   "cell_type": "code",
   "execution_count": 3,
   "metadata": {},
   "outputs": [
    {
     "name": "stdout",
     "output_type": "stream",
     "text": [
      "INFO:tensorflow:Restoring parameters from b'/home/hadim/.data/Neural_Network/Maskflow/Shapes/SavedModels/Shapes Detector/variables/variables'\n"
     ]
    }
   ],
   "source": [
    "# Load model and weights\n",
    "predictor = tf.contrib.predictor.from_saved_model(str(saved_model_dir))"
   ]
  },
  {
   "cell_type": "code",
   "execution_count": 10,
   "metadata": {},
   "outputs": [
    {
     "name": "stdout",
     "output_type": "stream",
     "text": [
      "True class: circle\n",
      "Predicted class: square\n",
      "['BG: 0.01', 'square: 0.56', 'circle: 0.24', 'triangle: 0.20']\n"
     ]
    },
    {
     "data": {
      "image/png": "[encoded data removed]",
      "text/plain": [
       "<Figure size 432x288 with 2 Axes>"
      ]
     },
     "metadata": {},
     "output_type": "display_data"
    }
   ],
   "source": [
    "#data_id = 0\n",
    "data_id += 1\n",
    "\n",
    "# Load data\n",
    "image = tifffile.imread(image_paths[data_id])\n",
    "mask = tifffile.imread(mask_paths[data_id])\n",
    "class_ids = pd.read_csv(class_ids_paths[data_id], header=None).values.T[0]\n",
    "\n",
    "# Build inputs\n",
    "inputs = {}\n",
    "inputs[\"images\"] = np.expand_dims(image, axis=0)\n",
    "inputs[\"original_image_height\"] = image.shape[0]\n",
    "inputs[\"original_image_width\"] = image.shape[1]\n",
    "inputs[\"original_image_channel\"] = image.shape[2]\n",
    "\n",
    "# Run prediction\n",
    "results = predictor(inputs)\n",
    "\n",
    "# Display results\n",
    "fig, axs = plt.subplots(ncols=2)\n",
    "axs[0].imshow(image)\n",
    "axs[1].imshow(mask[:, :, 0])\n",
    "\n",
    "true_class = config[\"CLASS_NAMES\"][int(class_ids[0])]\n",
    "predicted_class = config[\"CLASS_NAMES\"][int(results[\"class_ids\"][0])]\n",
    "\n",
    "print(f\"True class: {true_class}\")\n",
    "print(f\"Predicted class: {predicted_class}\")\n",
    "print([f\"{config['CLASS_NAMES'][i]}: {p:.2f}\" for i, p in enumerate(results[\"probabilities\"][0])])"
   ]
  }
 ],
 "metadata": {
  "kernelspec": {
   "display_name": "Python [conda env:nn]",
   "language": "python",
   "name": "conda-env-nn-py"
  },
  "language_info": {
   "codemirror_mode": {
    "name": "ipython",
    "version": 3
   },
   "file_extension": ".py",
   "mimetype": "text/x-python",
   "name": "python",
   "nbconvert_exporter": "python",
   "pygments_lexer": "ipython3",
   "version": "3.6.5"
  }
 },
 "nbformat": 4,
 "nbformat_minor": 2
}
