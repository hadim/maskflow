{
 "cells": [
  {
   "cell_type": "code",
   "execution_count": 1,
   "metadata": {},
   "outputs": [
    {
     "name": "stderr",
     "output_type": "stream",
     "text": [
      "Using TensorFlow backend.\n"
     ]
    }
   ],
   "source": [
    "%matplotlib inline\n",
    "\n",
    "from pathlib import Path\n",
    "\n",
    "import matplotlib.pyplot as plt\n",
    "import tensorflow as tf\n",
    "import numpy as np\n",
    "import pandas as pd\n",
    "\n",
    "from sklearn.model_selection import train_test_split\n",
    "import imgaug\n",
    "\n",
    "import sys\n",
    "sys.path.append(\"../../\")\n",
    "import maskflow\n",
    "\n",
    "root_dir = Path(\"/home/hadim/.data/Neural_Network/Maskflow/Shapes\")\n",
    "data_dir = root_dir / \"Data\"\n",
    "log_dir = root_dir / \"Logs\"\n",
    "saved_model_dir = root_dir / \"SavedModel\"\n",
    "\n",
    "# Import the configuration associated with this dataset and network.\n",
    "config = maskflow.load_config(root_dir / \"config.yml\")"
   ]
  },
  {
   "cell_type": "markdown",
   "metadata": {},
   "source": [
    "# Load Trained Model"
   ]
  },
  {
   "cell_type": "code",
   "execution_count": 2,
   "metadata": {},
   "outputs": [],
   "source": [
    "training_name = \"shapes_detector20180621T0950\"\n",
    "\n",
    "maskflow_config = maskflow.MaskflowConfig(config)\n",
    "maskflow_config.IMAGES_PER_GPU = 1\n",
    "maskflow_config.GPU_COUNT = 1\n",
    "maskflow_config.update()\n",
    "\n",
    "model = maskflow.load_model(log_dir, maskflow_config, mode=\"inference\")\n",
    "maskflow.load_weights(model, init_with=training_name)"
   ]
  },
  {
   "cell_type": "markdown",
   "metadata": {},
   "source": [
    "# Export trained model to a directory"
   ]
  },
  {
   "cell_type": "code",
   "execution_count": 3,
   "metadata": {},
   "outputs": [
    {
     "name": "stdout",
     "output_type": "stream",
     "text": [
      "INFO:tensorflow:Froze 384 variables.\n",
      "Converted 384 variables to const ops.\n"
     ]
    }
   ],
   "source": [
    "model_name = \"good_one\"\n",
    "final_saved_model_dir = saved_model_dir / model_name\n",
    "\n",
    "maskflow.export_to_dir(model, model_name, final_saved_model_dir, copy_log_dir=True)"
   ]
  },
  {
   "cell_type": "code",
   "execution_count": 4,
   "metadata": {},
   "outputs": [
    {
     "name": "stdout",
     "output_type": "stream",
     "text": [
      "INFO:tensorflow:Froze 384 variables.\n",
      "Converted 384 variables to const ops.\n"
     ]
    }
   ],
   "source": [
    "maskflow.export_to_zip(model, model_name, saved_model_dir, copy_log_dir=False)"
   ]
  }
 ],
 "metadata": {
  "kernelspec": {
   "display_name": "Python [conda env:nn]",
   "language": "python",
   "name": "conda-env-nn-py"
  },
  "language_info": {
   "codemirror_mode": {
    "name": "ipython",
    "version": 3
   },
   "file_extension": ".py",
   "mimetype": "text/x-python",
   "name": "python",
   "nbconvert_exporter": "python",
   "pygments_lexer": "ipython3",
   "version": "3.6.5"
  }
 },
 "nbformat": 4,
 "nbformat_minor": 2
}
